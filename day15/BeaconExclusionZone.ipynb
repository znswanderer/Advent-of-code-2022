{
 "cells": [
  {
   "cell_type": "markdown",
   "id": "f427d38b-dc5a-43bd-abfc-8c6058201e4b",
   "metadata": {},
   "source": [
    "# Day 15: Beacon Exclusion Zone\n",
    "\n",
    "You feel the ground rumble again as the distress signal leads you to a large network of subterranean tunnels. You don't have time to search them all, but you don't need to: your pack contains a set of deployable sensors that you imagine were originally built to locate lost Elves.\n",
    "\n",
    "The sensors aren't very powerful, but that's okay; your handheld device indicates that you're close enough to the source of the distress signal to use them. You pull the emergency sensor system out of your pack, hit the big button on top, and the sensors zoom off down the tunnels.\n",
    "\n",
    "Once a sensor finds a spot it thinks will give it a good reading, it attaches itself to a hard surface and begins monitoring for the nearest signal source beacon. Sensors and beacons always exist at integer coordinates. Each sensor knows its own position and can determine the position of a beacon precisely; however, sensors can only lock on to the one beacon closest to the sensor as measured by the Manhattan distance. (There is never a tie where two beacons are the same distance to a sensor.)\n",
    "\n",
    "It doesn't take long for the sensors to report back their positions and closest beacons (your puzzle input). For example:\n",
    "\n",
    "```\n",
    "Sensor at x=2, y=18: closest beacon is at x=-2, y=15\n",
    "Sensor at x=9, y=16: closest beacon is at x=10, y=16\n",
    "Sensor at x=13, y=2: closest beacon is at x=15, y=3\n",
    "Sensor at x=12, y=14: closest beacon is at x=10, y=16\n",
    "Sensor at x=10, y=20: closest beacon is at x=10, y=16\n",
    "Sensor at x=14, y=17: closest beacon is at x=10, y=16\n",
    "Sensor at x=8, y=7: closest beacon is at x=2, y=10\n",
    "Sensor at x=2, y=0: closest beacon is at x=2, y=10\n",
    "Sensor at x=0, y=11: closest beacon is at x=2, y=10\n",
    "Sensor at x=20, y=14: closest beacon is at x=25, y=17\n",
    "Sensor at x=17, y=20: closest beacon is at x=21, y=22\n",
    "Sensor at x=16, y=7: closest beacon is at x=15, y=3\n",
    "Sensor at x=14, y=3: closest beacon is at x=15, y=3\n",
    "Sensor at x=20, y=1: closest beacon is at x=15, y=3\n",
    "```"
   ]
  },
  {
   "cell_type": "code",
   "execution_count": 64,
   "id": "29842416-e6a0-475c-bfc1-38bc95312cd7",
   "metadata": {},
   "outputs": [],
   "source": [
    "from dataclasses import dataclass\n",
    "from typing import List, Tuple, Iterator\n",
    "import parse\n",
    "\n",
    "@dataclass\n",
    "class Position:\n",
    "    x: int\n",
    "    y: int\n",
    "    \n",
    "        \n",
    "def read_sensor_file(file_name: str) -> Iterator[Position]:\n",
    "    p = parse.compile(\"Sensor at x={:d}, y={:d}: closest beacon is at x={:d}, y={:d}\")\n",
    "    with open(file_name) as f:\n",
    "        for line in f.read().splitlines():\n",
    "            r = p.parse(line)\n",
    "            yield Position(*r[:2]), Position(*r[2:])"
   ]
  },
  {
   "cell_type": "code",
   "execution_count": 65,
   "id": "efd4a9f4-9558-4c40-ae87-381275d8a8d3",
   "metadata": {},
   "outputs": [],
   "source": [
    "data = list(read_sensor_file(\"example\"))"
   ]
  },
  {
   "cell_type": "markdown",
   "id": "aa6a5328-18d5-4e7f-8e48-aa89cb63ab9c",
   "metadata": {},
   "source": [
    "From [wikipedia](https://en.wikipedia.org/wiki/Taxicab_geometry)\n",
    "\n",
    "In $\\mathbb{R}^2$, the taxicab distance between two points $(x_1, y_1)$ and $(x_2, y_2)$ is $\\left|x_1 - x_2\\right| + \\left|y_1 - y_2\\right|$. That is, it is the sum of the absolute values of the differences in both coordinates."
   ]
  },
  {
   "cell_type": "code",
   "execution_count": 66,
   "id": "1b55f3e3-0d64-4182-b5dc-82d01408baf4",
   "metadata": {},
   "outputs": [],
   "source": [
    "def manhattan(p1: Position, p2: Position) -> int:\n",
    "    return abs(p1.x - p2.x) + abs(p1.y - p2.y)"
   ]
  },
  {
   "cell_type": "code",
   "execution_count": 67,
   "id": "95d13961-0cb6-4203-b0fc-10e3711a22af",
   "metadata": {},
   "outputs": [
    {
     "data": {
      "text/plain": [
       "[(Position(x=2, y=18), Position(x=-2, y=15), 7),\n",
       " (Position(x=9, y=16), Position(x=10, y=16), 1),\n",
       " (Position(x=13, y=2), Position(x=15, y=3), 3),\n",
       " (Position(x=12, y=14), Position(x=10, y=16), 4),\n",
       " (Position(x=10, y=20), Position(x=10, y=16), 4),\n",
       " (Position(x=14, y=17), Position(x=10, y=16), 5),\n",
       " (Position(x=8, y=7), Position(x=2, y=10), 9),\n",
       " (Position(x=2, y=0), Position(x=2, y=10), 10),\n",
       " (Position(x=0, y=11), Position(x=2, y=10), 3),\n",
       " (Position(x=20, y=14), Position(x=25, y=17), 8),\n",
       " (Position(x=17, y=20), Position(x=21, y=22), 6),\n",
       " (Position(x=16, y=7), Position(x=15, y=3), 5),\n",
       " (Position(x=14, y=3), Position(x=15, y=3), 1),\n",
       " (Position(x=20, y=1), Position(x=15, y=3), 7)]"
      ]
     },
     "execution_count": 67,
     "metadata": {},
     "output_type": "execute_result"
    }
   ],
   "source": [
    "# each sensor and its radius of detection\n",
    "PosDistance = Tuple[Position, Position, int]\n",
    "\n",
    "distances_from_sensor : List[PosDistance]\n",
    "distances_from_sensor = [(p[0], p[1], manhattan(*p)) for p in data]\n",
    "distances_from_sensor"
   ]
  },
  {
   "cell_type": "markdown",
   "id": "ac3e8874-66df-4501-8915-ebbd923c462b",
   "metadata": {},
   "source": [
    "So, consider the sensor at 2,18; the closest beacon to it is at -2,15. For the sensor at 9,16, the closest beacon to it is at 10,16.\n",
    "\n",
    "Drawing sensors as S and beacons as B, the above arrangement of sensors and beacons looks like this:\n",
    "\n",
    "```\n",
    "               1    1    2    2\n",
    "     0    5    0    5    0    5\n",
    " 0 ....S.......................\n",
    " 1 ......................S.....\n",
    " 2 ...............S............\n",
    " 3 ................SB..........\n",
    " 4 ............................\n",
    " 5 ............................\n",
    " 6 ............................\n",
    " 7 ..........S.......S.........\n",
    " 8 ............................\n",
    " 9 ............................\n",
    "10 ....B.......................\n",
    "11 ..S.........................\n",
    "12 ............................\n",
    "13 ............................\n",
    "14 ..............S.......S.....\n",
    "15 B...........................\n",
    "16 ...........SB...............\n",
    "17 ................S..........B\n",
    "18 ....S.......................\n",
    "19 ............................\n",
    "20 ............S......S........\n",
    "21 ............................\n",
    "22 .......................B....\n",
    "```"
   ]
  },
  {
   "cell_type": "markdown",
   "id": "87dfe885-1087-4a80-aa1f-a92721934b29",
   "metadata": {},
   "source": [
    "This isn't necessarily a comprehensive map of all beacons in the area, though. Because each sensor only identifies its closest beacon, if a sensor detects a beacon, you know there are no other beacons that close or closer to that sensor. There could still be beacons that just happen to not be the closest beacon to any sensor. Consider the sensor at 8,7:\n",
    "\n",
    "```\n",
    "               1    1    2    2\n",
    "     0    5    0    5    0    5\n",
    "-2 ..........#.................\n",
    "-1 .........###................\n",
    " 0 ....S...#####...............\n",
    " 1 .......#######........S.....\n",
    " 2 ......#########S............\n",
    " 3 .....###########SB..........\n",
    " 4 ....#############...........\n",
    " 5 ...###############..........\n",
    " 6 ..#################.........\n",
    " 7 .#########S#######S#........\n",
    " 8 ..#################.........\n",
    " 9 ...###############..........\n",
    "10 ....B############...........\n",
    "11 ..S..###########............\n",
    "12 ......#########.............\n",
    "13 .......#######..............\n",
    "14 ........#####.S.......S.....\n",
    "15 B........###................\n",
    "16 ..........#SB...............\n",
    "17 ................S..........B\n",
    "18 ....S.......................\n",
    "19 ............................\n",
    "20 ............S......S........\n",
    "21 ............................\n",
    "22 .......................B....\n",
    "```\n",
    "\n",
    "This sensor's closest beacon is at 2,10, and so you know there are no beacons that close or closer (in any positions marked #)."
   ]
  },
  {
   "cell_type": "markdown",
   "id": "e980b849-961a-4c86-aa52-ac86a7a7fd4e",
   "metadata": {},
   "source": [
    "None of the detected beacons seem to be producing the distress signal, so you'll need to work out where the distress beacon is by working out where it isn't. For now, keep things simple by counting the positions where a beacon cannot possibly be along just a single row.\n",
    "\n",
    "So, suppose you have an arrangement of beacons and sensors like in the example above and, just in the row where y=10, you'd like to count the number of positions a beacon cannot possibly exist. The coverage from all sensors near that row looks like this:\n",
    "\n",
    "```\n",
    "                 1    1    2    2\n",
    "       0    5    0    5    0    5\n",
    " 9 ...#########################...\n",
    "10 ..####B######################..\n",
    "11 .###S#############.###########.\n",
    "```\n",
    "\n",
    "In this example, in the row where y=10, there are 26 positions where a beacon cannot be present.\n",
    "\n",
    "Consult the report from the sensors you just deployed. In the row where y=2000000, how many positions cannot contain a beacon?\n"
   ]
  },
  {
   "cell_type": "code",
   "execution_count": 68,
   "id": "e5d06e56-5cc0-4fb2-9115-c64b9425d156",
   "metadata": {},
   "outputs": [
    {
     "data": {
      "text/plain": [
       "False"
      ]
     },
     "execution_count": 68,
     "metadata": {},
     "output_type": "execute_result"
    }
   ],
   "source": [
    "def is_inreach_of_a_sensor(sensors: List[PosDistance], pos: Position) -> bool:\n",
    "    for sensor, beacon, radius in sensors:\n",
    "        this_distance = manhattan(pos, sensor)\n",
    "        if this_distance < radius:  # < and not <= because only one beacon is ever detected\n",
    "            return True\n",
    "        elif pos == beacon:\n",
    "            return True\n",
    "    return False\n",
    "\n",
    "is_inreach_of_a_sensor(distances_from_sensor, Position(-3, 10))"
   ]
  },
  {
   "cell_type": "code",
   "execution_count": 56,
   "id": "b8024f9a-0d0d-466c-9b29-22b990baa7b6",
   "metadata": {},
   "outputs": [],
   "source": [
    "# find the relevant sensors for a given row\n",
    "row = 10\n",
    "relevant_sensors : List[PosDistance]\n",
    "relevant_sensors = []\n",
    "for (pos, dist) in distances_from_sensor:\n",
    "    if abs(pos.y - row) <= dist:\n",
    "        relevant_sensors.append((pos, dist))"
   ]
  },
  {
   "cell_type": "code",
   "execution_count": 57,
   "id": "16c46643",
   "metadata": {},
   "outputs": [
    {
     "data": {
      "text/plain": [
       "[(Position(x=12, y=14), 4),\n",
       " (Position(x=8, y=7), 9),\n",
       " (Position(x=2, y=0), 10),\n",
       " (Position(x=0, y=11), 3),\n",
       " (Position(x=20, y=14), 8),\n",
       " (Position(x=16, y=7), 5)]"
      ]
     },
     "execution_count": 57,
     "metadata": {},
     "output_type": "execute_result"
    }
   ],
   "source": [
    "relevant_sensors"
   ]
  },
  {
   "cell_type": "code",
   "execution_count": 58,
   "id": "24307ed8",
   "metadata": {},
   "outputs": [
    {
     "data": {
      "text/plain": [
       "(-8, 28)"
      ]
     },
     "execution_count": 58,
     "metadata": {},
     "output_type": "execute_result"
    }
   ],
   "source": [
    "# find the min and max x position in this row, that can be reached by a sensor\n",
    "# (to make it easy we will consider a way too large interval)\n",
    "x_min = min(p.x - d for (p, d) in relevant_sensors)\n",
    "x_max = max(p.x + d for (p, d) in relevant_sensors)\n",
    "\n",
    "x_min, x_max"
   ]
  },
  {
   "cell_type": "code",
   "execution_count": 59,
   "id": "06f5bb21",
   "metadata": {},
   "outputs": [
    {
     "name": "stdout",
     "output_type": "stream",
     "text": [
      "-8, False\n",
      "-7, False\n",
      "-6, False\n",
      "-5, False\n",
      "-4, False\n",
      "-3, False\n",
      "-2, False\n",
      "-1, True\n",
      "0, True\n",
      "1, True\n",
      "2, False\n",
      "3, True\n",
      "4, True\n",
      "5, True\n",
      "6, True\n",
      "7, True\n",
      "8, True\n",
      "9, True\n",
      "10, True\n",
      "11, True\n",
      "12, True\n",
      "13, True\n",
      "14, False\n",
      "15, True\n",
      "16, True\n",
      "17, True\n",
      "18, True\n",
      "19, True\n",
      "20, True\n",
      "21, True\n",
      "22, True\n",
      "23, True\n",
      "24, False\n",
      "25, False\n",
      "26, False\n",
      "27, False\n",
      "28, False\n"
     ]
    },
    {
     "data": {
      "text/plain": [
       "23"
      ]
     },
     "execution_count": 59,
     "metadata": {},
     "output_type": "execute_result"
    }
   ],
   "source": [
    "# Now we just have to scan the row from x_min to x_max\n",
    "for x in range(x_min, x_max + 1):\n",
    "    print(x, end=\", \")\n",
    "    is_covered = is_inreach_of_a_sensor(relevant_sensors, Position(x, row))\n",
    "    print(is_covered)\n",
    "\n",
    "res = [is_inreach_of_a_sensor(relevant_sensors, Position(x, row)) for x in range(x_min, x_max + 1)]\n",
    "sum(res)"
   ]
  },
  {
   "cell_type": "code",
   "execution_count": null,
   "id": "352c6635",
   "metadata": {},
   "outputs": [],
   "source": []
  }
 ],
 "metadata": {
  "kernelspec": {
   "display_name": "advent_of_code",
   "language": "python",
   "name": "python3"
  },
  "language_info": {
   "codemirror_mode": {
    "name": "ipython",
    "version": 3
   },
   "file_extension": ".py",
   "mimetype": "text/x-python",
   "name": "python",
   "nbconvert_exporter": "python",
   "pygments_lexer": "ipython3",
   "version": "3.8.15"
  },
  "vscode": {
   "interpreter": {
    "hash": "26e6815699e54636cda70d0bf9d4c1bcb8dd8f4cc6e0dc5903d53aa588a596b3"
   }
  }
 },
 "nbformat": 4,
 "nbformat_minor": 5
}
