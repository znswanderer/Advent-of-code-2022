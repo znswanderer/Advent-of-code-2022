{
 "cells": [
  {
   "attachments": {},
   "cell_type": "markdown",
   "metadata": {},
   "source": [
    "On a single position we can have at max 4 different blizzards, each moving \n",
    "in a different direction. There can never be e.g. two right moving \n",
    "blizzards at the same position. This is because in the starting map\n",
    "we do not have such a situation.\n",
    "\n",
    "I will code the four types as powers of two."
   ]
  },
  {
   "cell_type": "code",
   "execution_count": 329,
   "metadata": {},
   "outputs": [],
   "source": [
    "import numpy as np"
   ]
  },
  {
   "cell_type": "code",
   "execution_count": 330,
   "metadata": {},
   "outputs": [
    {
     "data": {
      "text/plain": [
       "{'.': 0, '^': 1, '<': 2, 'v': 4, '>': 8}"
      ]
     },
     "execution_count": 330,
     "metadata": {},
     "output_type": "execute_result"
    }
   ],
   "source": [
    "blizzards = {\n",
    "    \".\": 0,\n",
    "    \"^\": 2**0,\n",
    "    \"<\": 2**1,\n",
    "    \"v\": 2**2,\n",
    "    \">\": 2**3\n",
    "}\n",
    "\n",
    "blizzards"
   ]
  },
  {
   "cell_type": "code",
   "execution_count": 331,
   "metadata": {},
   "outputs": [],
   "source": [
    "def read_input(file_name):\n",
    "    with open(file_name) as f:\n",
    "        rows = []\n",
    "        for line in f.readlines():\n",
    "            line = line.strip()\n",
    "            if line.startswith(\"#.#\") or line.startswith(\"#E#\"):\n",
    "                # start line\n",
    "                continue\n",
    "            elif line.startswith(\"###\"):\n",
    "                # endline\n",
    "                break\n",
    "            rows.append(np.array([blizzards[c] for c in line[1:-1]]))\n",
    "    return np.array(rows)"
   ]
  },
  {
   "cell_type": "code",
   "execution_count": 332,
   "metadata": {},
   "outputs": [],
   "source": [
    "m = read_input(\"example\")"
   ]
  },
  {
   "cell_type": "code",
   "execution_count": 333,
   "metadata": {},
   "outputs": [
    {
     "data": {
      "text/plain": [
       "array([[8, 8, 0, 2, 1, 2],\n",
       "       [0, 2, 0, 0, 2, 2],\n",
       "       [8, 4, 0, 8, 2, 8],\n",
       "       [2, 1, 4, 1, 1, 8]])"
      ]
     },
     "execution_count": 333,
     "metadata": {},
     "output_type": "execute_result"
    }
   ],
   "source": [
    "m"
   ]
  },
  {
   "cell_type": "code",
   "execution_count": 334,
   "metadata": {},
   "outputs": [
    {
     "data": {
      "text/plain": [
       "array([[8, 8, 0, 0, 0, 0],\n",
       "       [0, 0, 0, 0, 0, 0],\n",
       "       [8, 0, 0, 8, 0, 8],\n",
       "       [0, 0, 0, 0, 0, 8]])"
      ]
     },
     "execution_count": 334,
     "metadata": {},
     "output_type": "execute_result"
    }
   ],
   "source": [
    "m & 8"
   ]
  },
  {
   "cell_type": "code",
   "execution_count": 335,
   "metadata": {},
   "outputs": [
    {
     "data": {
      "text/plain": [
       "(array([[0, 0, 0, 0, 0, 0, 0, 0],\n",
       "        [8, 8, 0, 2, 1, 2, 0, 0],\n",
       "        [0, 2, 0, 0, 2, 2, 0, 0],\n",
       "        [8, 4, 0, 8, 2, 8, 0, 0],\n",
       "        [2, 1, 4, 1, 1, 8, 0, 0],\n",
       "        [0, 0, 0, 0, 0, 0, 0, 0]]),\n",
       " array([[0, 0, 0, 0, 0, 0, 0, 0],\n",
       "        [0, 8, 8, 0, 2, 1, 2, 0],\n",
       "        [0, 0, 2, 0, 0, 2, 2, 0],\n",
       "        [0, 8, 4, 0, 8, 2, 8, 0],\n",
       "        [0, 2, 1, 4, 1, 1, 8, 0],\n",
       "        [0, 0, 0, 0, 0, 0, 0, 0]]))"
      ]
     },
     "execution_count": 335,
     "metadata": {},
     "output_type": "execute_result"
    }
   ],
   "source": [
    "bm = np.pad(m, 1, mode='constant')\n",
    "np.roll(bm, -1, axis=1), bm"
   ]
  },
  {
   "cell_type": "code",
   "execution_count": 336,
   "metadata": {},
   "outputs": [],
   "source": [
    "def move_blizzards(m):\n",
    "    res = []\n",
    "    for d in range(4):\n",
    "        bm = m & (2**d)\n",
    "        bm = np.pad(bm, 1, mode='constant')\n",
    "        if d == 0:\n",
    "            # up\n",
    "            res.append(np.roll(bm, -1, axis=0))\n",
    "        elif d == 1:\n",
    "            # left\n",
    "            res.append(np.roll(bm, -1, axis=1))       \n",
    "        elif d == 2:\n",
    "            # down\n",
    "            res.append(np.roll(bm, 1, axis=0))\n",
    "        else:\n",
    "            # right\n",
    "            res.append(np.roll(bm, 1, axis=1))\n",
    "    bm = np.sum(res, axis=0)\n",
    "    # let blizzards who leave the map enter at the opposite side\n",
    "    # Because I am lazy, I will hardcode this\n",
    "    uw, lw, dw, rw = bm[0][1:-1], bm[:,0][1:-1], bm[-1][1:-1], bm[:,-1][1:-1]\n",
    "    bm[-2][1:-1] += uw\n",
    "    bm[1][1:-1] += dw\n",
    "    bm[:,-2][1:-1] += lw\n",
    "    bm[:,1][1:-1] += rw\n",
    "    return bm[1:-1, 1:-1]"
   ]
  },
  {
   "cell_type": "code",
   "execution_count": 337,
   "metadata": {},
   "outputs": [
    {
     "data": {
      "text/plain": [
       "array([[ 0,  8, 14,  0,  2,  0],\n",
       "       [ 2,  0,  0,  2,  2,  0],\n",
       "       [ 8,  9,  0,  3,  9,  0],\n",
       "       [ 8,  4,  0,  0,  1,  2]])"
      ]
     },
     "execution_count": 337,
     "metadata": {},
     "output_type": "execute_result"
    }
   ],
   "source": [
    "bm = move_blizzards(m)\n",
    "bm"
   ]
  },
  {
   "cell_type": "code",
   "execution_count": 338,
   "metadata": {},
   "outputs": [
    {
     "data": {
      "text/plain": [
       "array([[ 0,  6,  8, 10,  0,  0],\n",
       "       [ 0,  1,  6,  3,  1,  2],\n",
       "       [ 0,  8, 10,  0,  1,  8],\n",
       "       [ 0,  8,  0,  0,  2,  0]])"
      ]
     },
     "execution_count": 338,
     "metadata": {},
     "output_type": "execute_result"
    }
   ],
   "source": [
    "bm = move_blizzards(bm)\n",
    "bm"
   ]
  },
  {
   "cell_type": "code",
   "execution_count": 339,
   "metadata": {},
   "outputs": [
    {
     "data": {
      "text/plain": [
       "array([[ 2,  1,  2,  9,  9,  0],\n",
       "       [ 0,  6,  2,  0,  3,  0],\n",
       "       [ 8,  2, 12,  8,  0,  0],\n",
       "       [ 0,  0,  8,  2,  0,  0]])"
      ]
     },
     "execution_count": 339,
     "metadata": {},
     "output_type": "execute_result"
    }
   ],
   "source": [
    "bm = move_blizzards(bm)\n",
    "bm"
   ]
  },
  {
   "attachments": {},
   "cell_type": "markdown",
   "metadata": {},
   "source": [
    "The pattern of the blizzards will repeat with a period $T$, because there\n",
    "is not interaction. This period will be the *Least common multiple*\n",
    "of the height and th width of the map.\n",
    "\n",
    "In the example we have $h=4$ and $w=6$, so the lcm is $T=12$. \n",
    "\n",
    "Initial state:\n",
    "\n",
    "    #E######\n",
    "    #>>.<^<#\n",
    "    #.<..<<#\n",
    "    #>v.><>#\n",
    "    #<^v^^>#\n",
    "    ######.#\n",
    "\n",
    "Minute 12, move down:\n",
    "\n",
    "    #.######\n",
    "    #>>.<^<#\n",
    "    #.<E.<<#\n",
    "    #>v.><>#\n",
    "    #<^v^^>#\n",
    "    ######.#\n",
    "\n",
    "Both configurations are the same.\n",
    "\n",
    "We can use this for pruning: If the position of E is the same after the \n",
    "period $p_E(t + T) = p_E(t)$ we can discard this branch of the search tree."
   ]
  },
  {
   "cell_type": "code",
   "execution_count": 340,
   "metadata": {},
   "outputs": [],
   "source": [
    "m = read_input(\"input\")"
   ]
  },
  {
   "cell_type": "code",
   "execution_count": 341,
   "metadata": {},
   "outputs": [
    {
     "data": {
      "text/plain": [
       "(35, 100)"
      ]
     },
     "execution_count": 341,
     "metadata": {},
     "output_type": "execute_result"
    }
   ],
   "source": [
    "m.shape"
   ]
  },
  {
   "cell_type": "code",
   "execution_count": 342,
   "metadata": {},
   "outputs": [],
   "source": [
    "import math"
   ]
  },
  {
   "cell_type": "code",
   "execution_count": 343,
   "metadata": {},
   "outputs": [
    {
     "data": {
      "text/plain": [
       "700"
      ]
     },
     "execution_count": 343,
     "metadata": {},
     "output_type": "execute_result"
    }
   ],
   "source": [
    "math.lcm(35, 100)"
   ]
  },
  {
   "cell_type": "code",
   "execution_count": 344,
   "metadata": {},
   "outputs": [],
   "source": [
    "import matplotlib.pyplot as plt"
   ]
  },
  {
   "cell_type": "code",
   "execution_count": 345,
   "metadata": {},
   "outputs": [
    {
     "data": {
      "text/plain": [
       "<matplotlib.image.AxesImage at 0x7fdc6c0ad430>"
      ]
     },
     "execution_count": 345,
     "metadata": {},
     "output_type": "execute_result"
    },
    {
     "data": {
      "image/png": "[encoded data removed]",
      "text/plain": [
       "<Figure size 640x480 with 1 Axes>"
      ]
     },
     "metadata": {},
     "output_type": "display_data"
    }
   ],
   "source": [
    "plt.imshow(bm)"
   ]
  },
  {
   "attachments": {},
   "cell_type": "markdown",
   "metadata": {},
   "source": [
    "Ok, then I will try the naive approach. Just let's hope that there\n",
    "are not too many possible next positions each step!"
   ]
  },
  {
   "cell_type": "code",
   "execution_count": 346,
   "metadata": {},
   "outputs": [],
   "source": [
    "from matplotlib import animation\n",
    "\n",
    "class BlizzardAnimation:\n",
    "    def __init__(self, bm, frames, cmap='gnuplot', figsize=(6,14)):\n",
    "        self.fig = plt.figure(figsize=figsize)\n",
    "        self.ax1 = ax1 = plt.subplot(1,1,1)\n",
    "        self.cmap = cmap\n",
    "        # Init with an inner image! Otherwise the colormap is wrong.\n",
    "        inner = move_blizzards(move_blizzards(bm))\n",
    "        self.image = ax1.imshow(inner, origin='upper', cmap=cmap, aspect='equal')\n",
    "        ax1.get_xaxis().set_visible(False)\n",
    "        ax1.get_yaxis().set_visible(False)\n",
    "        self.bm = bm\n",
    "        self.frames = frames\n",
    "\n",
    "    def init_anmimation(self):\n",
    "        self.image.set_data(self.bm)\n",
    "        return self.image,\n",
    "\n",
    "    def get_frame(self, i):\n",
    "        self.bm = move_blizzards(self.bm)\n",
    "        self.image.set_data(self.bm)\n",
    "        return self.image,\n",
    "    \n",
    "    def animation(self):\n",
    "        anim = animation.FuncAnimation(self.fig, self.get_frame, init_func=self.init_anmimation,\n",
    "                                       frames=self.frames, interval=50, blit=True)\n",
    "        return anim\n",
    "    \n",
    "    def save_mp4(self, filename):\n",
    "        ffwriter = animation.FFMpegWriter(fps=24, extra_args=['-vcodec', 'libx264'])\n",
    "        anim = self.animation()\n",
    "        anim.save(filename, dpi=300, writer=ffwriter)\n",
    "        plt.close()   # to prevent the last frame from showing in notebook"
   ]
  },
  {
   "cell_type": "code",
   "execution_count": 347,
   "metadata": {},
   "outputs": [
    {
     "data": {
      "image/png": "[encoded data removed]",
      "text/plain": [
       "<Figure size 600x1400 with 1 Axes>"
      ]
     },
     "metadata": {},
     "output_type": "display_data"
    }
   ],
   "source": [
    "anim = BlizzardAnimation(np.copy(m), range(701), cmap='tab20b')"
   ]
  },
  {
   "cell_type": "code",
   "execution_count": null,
   "metadata": {},
   "outputs": [],
   "source": [
    "anim.save_mp4(\"test.mp4\")"
   ]
  },
  {
   "cell_type": "code",
   "execution_count": 349,
   "metadata": {},
   "outputs": [],
   "source": [
    "def move_expedition(m):\n",
    "    res = []\n",
    "    for d in range(5):\n",
    "        bm = np.copy(m)\n",
    "        bm = np.pad(bm, 1, mode='constant')\n",
    "        if d == 0:\n",
    "            # up\n",
    "            res.append(np.roll(bm, -1, axis=0))\n",
    "        elif d == 1:\n",
    "            # left\n",
    "            res.append(np.roll(bm, -1, axis=1))       \n",
    "        elif d == 2:\n",
    "            # down\n",
    "            res.append(np.roll(bm, 1, axis=0))\n",
    "        elif d == 3:\n",
    "            # right\n",
    "            res.append(np.roll(bm, 1, axis=1))\n",
    "        else:\n",
    "            # wait\n",
    "            res.append(bm)\n",
    "\n",
    "    bm = np.sum(res, axis=0)\n",
    "\n",
    "    # remove the extra padding\n",
    "    bm = bm[1:-1, 1:-1]\n",
    "    # clear everything on the walls except the entry and exit\n",
    "    bm[0][2:] = 0\n",
    "    bm[:,-1] = 0\n",
    "    bm[-1, :-2] = 0\n",
    "    bm[:,0] = 0 \n",
    "    \n",
    "    # normalize the values\n",
    "    bm[bm != 0] = 1\n",
    "    return bm"
   ]
  },
  {
   "cell_type": "code",
   "execution_count": 350,
   "metadata": {},
   "outputs": [],
   "source": [
    "m = read_input(\"example\")"
   ]
  },
  {
   "cell_type": "code",
   "execution_count": 351,
   "metadata": {},
   "outputs": [],
   "source": [
    "def make_expd_map(blzzd_map):\n",
    "    em = np.pad(np.zeros_like(blzzd_map), 1, mode='constant')\n",
    "    em[0][1] = 1\n",
    "    return em"
   ]
  },
  {
   "cell_type": "code",
   "execution_count": 352,
   "metadata": {},
   "outputs": [],
   "source": [
    "def complete_step(two_maps):\n",
    "    blzzrd_map, expd_map = two_maps\n",
    "    blzzrd_map = move_blizzards(blzzrd_map)\n",
    "    expd_map = move_expedition(expd_map)\n",
    "    mask = np.pad(blzzrd_map, 1, mode='constant') != 0\n",
    "    expd_map[mask] = 0\n",
    "    return (blzzrd_map, expd_map)"
   ]
  },
  {
   "cell_type": "code",
   "execution_count": 353,
   "metadata": {},
   "outputs": [],
   "source": [
    "em = make_expd_map(m)\n",
    "s = (m, em)"
   ]
  },
  {
   "cell_type": "code",
   "execution_count": 354,
   "metadata": {},
   "outputs": [],
   "source": [
    "bm , em = s = complete_step(s)"
   ]
  },
  {
   "cell_type": "code",
   "execution_count": 355,
   "metadata": {},
   "outputs": [
    {
     "data": {
      "text/plain": [
       "array([[0, 1, 0, 0, 0, 0, 0, 0],\n",
       "       [0, 1, 0, 0, 0, 0, 0, 0],\n",
       "       [0, 0, 0, 0, 0, 0, 0, 0],\n",
       "       [0, 0, 0, 0, 0, 0, 0, 0],\n",
       "       [0, 0, 0, 0, 0, 0, 0, 0],\n",
       "       [0, 0, 0, 0, 0, 0, 0, 0]])"
      ]
     },
     "execution_count": 355,
     "metadata": {},
     "output_type": "execute_result"
    }
   ],
   "source": [
    "em"
   ]
  },
  {
   "cell_type": "code",
   "execution_count": 356,
   "metadata": {},
   "outputs": [],
   "source": [
    "def cross_map(em, max_step=100_000):\n",
    "    em = make_expd_map(m)\n",
    "    s = (m, em)    \n",
    "    for i in range(max_step):\n",
    "        print(i)\n",
    "        bm , em = s = complete_step(s)\n",
    "        if em[-1][-2] == 1:\n",
    "            print(\"reached!\")\n",
    "            break\n",
    "    return s"
   ]
  },
  {
   "cell_type": "code",
   "execution_count": 357,
   "metadata": {},
   "outputs": [
    {
     "name": "stdout",
     "output_type": "stream",
     "text": [
      "0\n",
      "1\n",
      "2\n",
      "3\n",
      "4\n",
      "5\n",
      "6\n",
      "7\n",
      "8\n",
      "9\n",
      "10\n",
      "11\n",
      "12\n",
      "13\n",
      "14\n",
      "15\n",
      "16\n",
      "17\n",
      "reached!\n"
     ]
    }
   ],
   "source": [
    "s = cross_map(m)"
   ]
  },
  {
   "cell_type": "code",
   "execution_count": 358,
   "metadata": {},
   "outputs": [],
   "source": [
    "bm, em = s"
   ]
  },
  {
   "cell_type": "code",
   "execution_count": 359,
   "metadata": {},
   "outputs": [
    {
     "data": {
      "text/plain": [
       "array([[ 8, 12,  0,  2,  0,  2],\n",
       "       [ 0,  3,  4,  1,  3,  2],\n",
       "       [ 8,  0,  0,  8,  3,  8],\n",
       "       [ 2,  0,  0,  0,  0,  8]])"
      ]
     },
     "execution_count": 359,
     "metadata": {},
     "output_type": "execute_result"
    }
   ],
   "source": [
    "bm"
   ]
  },
  {
   "cell_type": "code",
   "execution_count": 360,
   "metadata": {},
   "outputs": [],
   "source": [
    "m = read_input(\"input\")"
   ]
  },
  {
   "cell_type": "code",
   "execution_count": 361,
   "metadata": {},
   "outputs": [
    {
     "name": "stdout",
     "output_type": "stream",
     "text": [
      "0\n",
      "1\n",
      "2\n",
      "3\n",
      "4\n",
      "5\n",
      "6\n",
      "7\n",
      "8\n",
      "9\n",
      "10\n",
      "11\n",
      "12\n",
      "13\n",
      "14\n",
      "15\n",
      "16\n",
      "17\n",
      "18\n",
      "19\n",
      "20\n",
      "21\n",
      "22\n",
      "23\n",
      "24\n",
      "25\n",
      "26\n",
      "27\n",
      "28\n",
      "29\n",
      "30\n",
      "31\n",
      "32\n",
      "33\n",
      "34\n",
      "35\n",
      "36\n",
      "37\n",
      "38\n",
      "39\n",
      "40\n",
      "41\n",
      "42\n",
      "43\n",
      "44\n",
      "45\n",
      "46\n",
      "47\n",
      "48\n",
      "49\n",
      "50\n",
      "51\n",
      "52\n",
      "53\n",
      "54\n",
      "55\n",
      "56\n",
      "57\n",
      "58\n",
      "59\n",
      "60\n",
      "61\n",
      "62\n",
      "63\n",
      "64\n",
      "65\n",
      "66\n",
      "67\n",
      "68\n",
      "69\n",
      "70\n",
      "71\n",
      "72\n",
      "73\n",
      "74\n",
      "75\n",
      "76\n",
      "77\n",
      "78\n",
      "79\n",
      "80\n",
      "81\n",
      "82\n",
      "83\n",
      "84\n",
      "85\n",
      "86\n",
      "87\n",
      "88\n",
      "89\n",
      "90\n",
      "91\n",
      "92\n",
      "93\n",
      "94\n",
      "95\n",
      "96\n",
      "97\n",
      "98\n",
      "99\n",
      "100\n",
      "101\n",
      "102\n",
      "103\n",
      "104\n",
      "105\n",
      "106\n",
      "107\n",
      "108\n",
      "109\n",
      "110\n",
      "111\n",
      "112\n",
      "113\n",
      "114\n",
      "115\n",
      "116\n",
      "117\n",
      "118\n",
      "119\n",
      "120\n",
      "121\n",
      "122\n",
      "123\n",
      "124\n",
      "125\n",
      "126\n",
      "127\n",
      "128\n",
      "129\n",
      "130\n",
      "131\n",
      "132\n",
      "133\n",
      "134\n",
      "135\n",
      "136\n",
      "137\n",
      "138\n",
      "139\n",
      "140\n",
      "141\n",
      "142\n",
      "143\n",
      "144\n",
      "145\n",
      "146\n",
      "147\n",
      "148\n",
      "149\n",
      "150\n",
      "151\n",
      "152\n",
      "153\n",
      "154\n",
      "155\n",
      "156\n",
      "157\n",
      "158\n",
      "159\n",
      "160\n",
      "161\n",
      "162\n",
      "163\n",
      "164\n",
      "165\n",
      "166\n",
      "167\n",
      "168\n",
      "169\n",
      "170\n",
      "171\n",
      "172\n",
      "173\n",
      "174\n",
      "175\n",
      "176\n",
      "177\n",
      "178\n",
      "179\n",
      "180\n",
      "181\n",
      "182\n",
      "183\n",
      "184\n",
      "185\n",
      "186\n",
      "187\n",
      "188\n",
      "189\n",
      "190\n",
      "191\n",
      "192\n",
      "193\n",
      "194\n",
      "195\n",
      "196\n",
      "197\n",
      "198\n",
      "199\n",
      "200\n",
      "201\n",
      "202\n",
      "203\n",
      "204\n",
      "205\n",
      "206\n",
      "207\n",
      "208\n",
      "209\n",
      "210\n",
      "211\n",
      "212\n",
      "213\n",
      "214\n",
      "215\n",
      "216\n",
      "217\n",
      "218\n",
      "219\n",
      "220\n",
      "221\n",
      "222\n",
      "223\n",
      "224\n",
      "225\n",
      "226\n",
      "227\n",
      "reached!\n"
     ]
    }
   ],
   "source": [
    "s = cross_map(m)"
   ]
  },
  {
   "attachments": {},
   "cell_type": "markdown",
   "metadata": {},
   "source": [
    "# Part 2"
   ]
  },
  {
   "cell_type": "code",
   "execution_count": 362,
   "metadata": {},
   "outputs": [],
   "source": [
    "def criss_cross_map(s, target=(-1, -2), max_step=100_000):\n",
    "    for i in range(max_step):\n",
    "        if i+1 % 50 == 0:\n",
    "            print(i)\n",
    "        bm , em = s = complete_step(s)\n",
    "        if em[target[0]][target[1]] == 1:\n",
    "            break\n",
    "    return s, i"
   ]
  },
  {
   "cell_type": "code",
   "execution_count": 363,
   "metadata": {},
   "outputs": [],
   "source": [
    "def part2(em):\n",
    "    em = make_expd_map(m)\n",
    "    s = (m, em)    \n",
    "    s1, i1 = criss_cross_map(s)\n",
    "    print(\"First round\", i1+1)\n",
    "    # clear everything but the elf at the end\n",
    "    bm, em = s1\n",
    "    em = np.zeros_like(em)\n",
    "    em[-1][-2] = 1\n",
    "    s2, i2 = criss_cross_map((bm, em), target=(0,1))\n",
    "    print(\"back in\", i2+1)\n",
    "    # start again!\n",
    "    bm, em = s2\n",
    "    em = np.zeros_like(em)\n",
    "    em[0][1] = 1    \n",
    "    s3, i3 = criss_cross_map((bm, em))\n",
    "    print(\"Second round\", i3+1)\n",
    "    print(\"Altogether:\", i1+i2+i3+3)"
   ]
  },
  {
   "cell_type": "code",
   "execution_count": 364,
   "metadata": {},
   "outputs": [
    {
     "name": "stdout",
     "output_type": "stream",
     "text": [
      "First round 18\n",
      "back in 23\n",
      "Second round 13\n",
      "Altogether: 54\n"
     ]
    }
   ],
   "source": [
    "m = read_input(\"example\")\n",
    "part2(m)"
   ]
  },
  {
   "cell_type": "code",
   "execution_count": 365,
   "metadata": {},
   "outputs": [
    {
     "name": "stdout",
     "output_type": "stream",
     "text": [
      "First round 228\n",
      "back in 241\n",
      "Second round 254\n",
      "Altogether: 723\n"
     ]
    }
   ],
   "source": [
    "m = read_input(\"input\")\n",
    "part2(m)"
   ]
  },
  {
   "cell_type": "code",
   "execution_count": null,
   "metadata": {},
   "outputs": [],
   "source": []
  }
 ],
 "metadata": {
  "kernelspec": {
   "display_name": "base",
   "language": "python",
   "name": "python3"
  },
  "language_info": {
   "codemirror_mode": {
    "name": "ipython",
    "version": 3
   },
   "file_extension": ".py",
   "mimetype": "text/x-python",
   "name": "python",
   "nbconvert_exporter": "python",
   "pygments_lexer": "ipython3",
   "version": "3.9.13"
  },
  "orig_nbformat": 4,
  "vscode": {
   "interpreter": {
    "hash": "3bb68e06d3cfdf7edd00f82dd964df66ef3c876d9c0ffb42e0fc76a1de42bb0e"
   }
  }
 },
 "nbformat": 4,
 "nbformat_minor": 2
}
