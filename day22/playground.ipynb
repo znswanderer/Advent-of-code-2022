{
 "cells": [
  {
   "cell_type": "code",
   "execution_count": 156,
   "metadata": {},
   "outputs": [],
   "source": [
    "class Row:\n",
    "    def __init__(self, line):\n",
    "        # The line below was a nasty bug! I missed the starting of a row if the\n",
    "        # first point was a wall. I only managed to find the bug after I compared\n",
    "        # the out put of # https://www.reddit.com/r/adventofcode/comments/zsnghh/2022_day_22_part_1_solution_works_only_for_the/\n",
    "        # with my solution.\n",
    "\n",
    "        #self.x0 = line.index('.') + 1 BUG\n",
    "        wall_pos = line.index('#') if '#' in line else 1000_000\n",
    "        self.x0 = min(line.index('.'), wall_pos) + 1\n",
    "        self.x1 = len(line)\n",
    "        self.line = line\n",
    "\n",
    "    def is_valid_column(self, x):\n",
    "        return self.x0 <= x <= self.x1\n",
    "\n",
    "    def is_wall(self, x):\n",
    "        return self.line[x-1] == \"#\"\n",
    "\n",
    "    def right(self, x):\n",
    "        xx = x + 1\n",
    "        if xx > self.x1:\n",
    "            xx = self.x0\n",
    "        if self.is_wall(xx):\n",
    "            return None\n",
    "        else:\n",
    "            return xx\n",
    "\n",
    "    def left(self, x):\n",
    "        xx = x - 1\n",
    "        if xx < self.x0:\n",
    "            xx = self.x1\n",
    "        if self.is_wall(xx):\n",
    "            return None\n",
    "        else:\n",
    "            return xx\n",
    "\n",
    "\n",
    "class Board:\n",
    "    def __init__(self, lines):\n",
    "        self.rows = [Row(line.rstrip()) for line in lines]\n",
    "        self.y0 = 1\n",
    "        self.y1 = len(self.rows)\n",
    "\n",
    "    def row(self, y):\n",
    "        return self.rows[y-1]\n",
    "\n",
    "    def start(self):\n",
    "        row = self.row(self.y0)\n",
    "        return (row.x0, self.y0)\n",
    "\n",
    "    def forward(self, pos, orientation):\n",
    "        x, y = pos\n",
    "        if orientation == 0:\n",
    "            return self.right(x, y)\n",
    "        elif orientation == 1:\n",
    "            return self.down(x, y)\n",
    "        elif orientation == 2:\n",
    "            return self.left(x, y)\n",
    "        elif orientation == 3:\n",
    "            return self.up(x, y)\n",
    "        else:\n",
    "            raise Exception(\"Wrong Orientation: %d\" % orientation)\n",
    "        \n",
    "    def right(self, x, y):\n",
    "        xx = self.row(y).right(x)\n",
    "        if xx != None:\n",
    "            return (xx, y)\n",
    "        else:\n",
    "            return None\n",
    "\n",
    "    def left(self, x, y):\n",
    "        xx = self.row(y).left(x)\n",
    "        if xx != None:\n",
    "            return (xx, y)\n",
    "        else:\n",
    "            return None\n",
    "\n",
    "    def down(self, x, y):\n",
    "        yy = y + 1\n",
    "        if yy > self.y1:\n",
    "            yy = self.y0\n",
    "        row = self.row(yy)\n",
    "        if not row.is_valid_column(x):\n",
    "            # find upmost valid row for column x\n",
    "            for yy in range(self.y0, self.y1+1):\n",
    "                row = self.row(yy)\n",
    "                if row.is_valid_column(x):\n",
    "                    break\n",
    "        if row.is_wall(x):\n",
    "            return None\n",
    "        else:\n",
    "            return (x, yy)\n",
    "\n",
    "    def up(self, x, y):\n",
    "        yy = y - 1\n",
    "        if yy < self.y0:\n",
    "            yy = self.y1\n",
    "        row = self.row(yy)\n",
    "        if not row.is_valid_column(x):\n",
    "            # find lowest valid row for column x\n",
    "            for yy in range(self.y1, self.y0-1, -1):\n",
    "                row = self.row(yy)\n",
    "                if row.is_valid_column(x):\n",
    "                    break\n",
    "        if row.is_wall(x):\n",
    "            return None\n",
    "        else:\n",
    "            return (x, yy)"
   ]
  },
  {
   "attachments": {},
   "cell_type": "markdown",
   "metadata": {},
   "source": [
    "Facing is 0 for right (>), 1 for down (v), 2 for left (<), and 3 for up (^)."
   ]
  },
  {
   "cell_type": "code",
   "execution_count": 7,
   "metadata": {},
   "outputs": [],
   "source": [
    "def move(board, pos, orientation, num_steps):\n",
    "    for n in range(num_steps):\n",
    "        fwd = board.forward(pos, orientation)\n",
    "        if fwd is None:\n",
    "            break\n",
    "        else:\n",
    "            pos = fwd\n",
    "    return pos"
   ]
  },
  {
   "attachments": {},
   "cell_type": "markdown",
   "metadata": {},
   "source": [
    "### With the provided input"
   ]
  },
  {
   "attachments": {},
   "cell_type": "markdown",
   "metadata": {},
   "source": [
    "**That's not nice!**\n",
    "\n",
    "In the exmaple we only have alternating turns: R,L,R,L,...  but\n",
    "in the provided input we have turns like R,R,L,...  !"
   ]
  },
  {
   "cell_type": "code",
   "execution_count": 158,
   "metadata": {},
   "outputs": [],
   "source": [
    "def read_input2(file_name):\n",
    "    with open(file_name) as f:\n",
    "        lines = [x.rstrip() for x in f.readlines()]\n",
    "    board = Board(lines[:-2])\n",
    "    instructions = lines[-1]\n",
    "\n",
    "    res = []\n",
    "    curr = \"\"\n",
    "    for c in instructions:\n",
    "        if c == \"R\":\n",
    "            res.append(int(curr))        \n",
    "            res.append(\"R\")\n",
    "            curr = \"\"\n",
    "        elif c == \"L\":\n",
    "            res.append(int(curr))        \n",
    "            res.append(\"L\")\n",
    "            curr = \"\"\n",
    "        else:\n",
    "            curr += c\n",
    "    res.append(int(curr))\n",
    "\n",
    "    return board, res"
   ]
  },
  {
   "cell_type": "code",
   "execution_count": 159,
   "metadata": {},
   "outputs": [],
   "source": [
    "board, moves = read_input2(\"example\")"
   ]
  },
  {
   "cell_type": "code",
   "execution_count": 160,
   "metadata": {},
   "outputs": [
    {
     "name": "stdout",
     "output_type": "stream",
     "text": [
      "(9, 1)\n"
     ]
    },
    {
     "data": {
      "text/plain": [
       "(8, 6)"
      ]
     },
     "execution_count": 160,
     "metadata": {},
     "output_type": "execute_result"
    }
   ],
   "source": [
    "right_turn = {0: 1, 1: 2, 2: 3, 3: 0}\n",
    "left_turn = {0: 3, 1: 0, 2: 1, 3: 2}\n",
    "\n",
    "s = board.start()\n",
    "orientation = 0\n",
    "print(s)\n",
    "for step in moves:\n",
    "    if type(step) == int:\n",
    "        s = move(board, s, orientation, step)\n",
    "    else:\n",
    "        if step == \"R\":\n",
    "            orientation = right_turn[orientation]\n",
    "        else:\n",
    "            orientation = left_turn[orientation]\n",
    "\n",
    "s"
   ]
  },
  {
   "attachments": {},
   "cell_type": "markdown",
   "metadata": {},
   "source": [
    "With the provided input"
   ]
  },
  {
   "cell_type": "code",
   "execution_count": 161,
   "metadata": {},
   "outputs": [
    {
     "name": "stdout",
     "output_type": "stream",
     "text": [
      "(51, 1)\n"
     ]
    }
   ],
   "source": [
    "board, moves = read_input2(\"input\")\n",
    "s = board.start()\n",
    "orientation = 0\n",
    "print(s)\n",
    "for step in moves:\n",
    "    if type(step) == int:\n",
    "        s = move(board, s, orientation, step)\n",
    "    else:\n",
    "        if step == \"R\":\n",
    "            orientation = right_turn[orientation]\n",
    "        else:\n",
    "            orientation = left_turn[orientation]"
   ]
  },
  {
   "cell_type": "code",
   "execution_count": 162,
   "metadata": {},
   "outputs": [
    {
     "data": {
      "text/plain": [
       "((107, 1), 0)"
      ]
     },
     "execution_count": 162,
     "metadata": {},
     "output_type": "execute_result"
    }
   ],
   "source": [
    "s, orientation"
   ]
  },
  {
   "cell_type": "code",
   "execution_count": 154,
   "metadata": {},
   "outputs": [
    {
     "data": {
      "text/plain": [
       "1428"
      ]
     },
     "execution_count": 154,
     "metadata": {},
     "output_type": "execute_result"
    }
   ],
   "source": [
    "1000 * 1 + 4 * 107 + 0"
   ]
  },
  {
   "cell_type": "code",
   "execution_count": 163,
   "metadata": {},
   "outputs": [],
   "source": [
    "marker = {0: '>', 1: 'v', 2: '<', 3: '^'}\n",
    "\n",
    "def mark_trail(board, pos, orientation):\n",
    "    x, y = pos\n",
    "    row = board.row(y)\n",
    "    cs = [c for c in row.line]\n",
    "    cs[x-1] = marker[orientation]\n",
    "    row.line = \"\".join(cs)\n",
    "\n",
    "def trail(board, pos, orientation, num_steps):\n",
    "    mark_trail(board, pos, orientation)\n",
    "    for n in range(num_steps):\n",
    "        fwd = board.forward(pos, orientation)\n",
    "        if fwd is None:\n",
    "            break\n",
    "        else:\n",
    "            pos = fwd\n",
    "            mark_trail(board, pos, orientation)\n",
    "\n",
    "    return pos"
   ]
  },
  {
   "cell_type": "code",
   "execution_count": null,
   "metadata": {},
   "outputs": [],
   "source": [
    "board, moves = read_input2(\"input\")\n",
    "s = board.start()\n",
    "orientation = 0\n",
    "def print_board(board):\n",
    "    for row in board.rows:\n",
    "        print(row.line)\n",
    "\n",
    "for step in moves[:20]:\n",
    "    print(step)\n",
    "    if type(step) == int:\n",
    "        s = trail(board, s, orientation, step)\n",
    "    else:\n",
    "        if step == \"R\":\n",
    "            orientation = right_turn[orientation]\n",
    "        else:\n",
    "            orientation = left_turn[orientation]\n",
    "        mark_trail(board, s, orientation)\n",
    "\n",
    "    print_board(board)\n",
    "    print()"
   ]
  },
  {
   "attachments": {},
   "cell_type": "markdown",
   "metadata": {},
   "source": [
    "# Part 2\n",
    "\n",
    "**WARNING**  \n",
    "This is not pretty! Everything is hard-wired. Don't try this at home!"
   ]
  },
  {
   "cell_type": "code",
   "execution_count": 216,
   "metadata": {},
   "outputs": [],
   "source": [
    "# hard-wired: each side is 50x50\n",
    "# and hard-wired for my input\n",
    "\n",
    "def which_side(x, y):\n",
    "    if 50 < x <= 100:\n",
    "        if y <= 50:\n",
    "            return 6\n",
    "        elif y <= 100:\n",
    "            return 3\n",
    "        else:\n",
    "            return 1\n",
    "    elif x > 100:\n",
    "        return 2\n",
    "    elif y <= 150:\n",
    "        return 5\n",
    "    else:\n",
    "        return 4"
   ]
  },
  {
   "cell_type": "code",
   "execution_count": 217,
   "metadata": {},
   "outputs": [],
   "source": [
    "board, moves = read_input2(\"input\")"
   ]
  },
  {
   "cell_type": "code",
   "execution_count": null,
   "metadata": {},
   "outputs": [],
   "source": [
    "for y in range(1, 201):\n",
    "    for x in range(1, 151):\n",
    "        row = board.row(y)\n",
    "        if row.is_valid_column(x):\n",
    "            print(which_side(x, y), end=\"\")\n",
    "        else:\n",
    "            print(\" \", end=\"\")\n",
    "    print()"
   ]
  },
  {
   "cell_type": "code",
   "execution_count": 173,
   "metadata": {},
   "outputs": [],
   "source": [
    "class Edge:\n",
    "    def __init__(self, face, func, new_orientation):\n",
    "        # leading from face start to face end\n",
    "        self.func = func\n",
    "        self.face = face # never used\n",
    "        self.new_orientation = new_orientation\n",
    "\n",
    "    def cross(self, d):\n",
    "        return (self.func(d), self.new_orientaion)\n",
    "        \n",
    "# orientations\n",
    "RIGHT, DOWN, LEFT, UP = 0, 1, 2, 3\n",
    "\n",
    "class Side:\n",
    "    def __init__(self, x0, y0, right, down, left, up):\n",
    "        self.x0 = x0\n",
    "        self.y0 = y0\n",
    "        self.right = right\n",
    "        self.down = down\n",
    "        self.left = left\n",
    "        self.up = up\n",
    "\n",
    "    def move_to(self, xx, yy, orientation):\n",
    "        x = xx - self.x0\n",
    "        y = yy - self.y0\n",
    "        if 0 <= x < 50 and 0 <= y < 50:\n",
    "            # inside this side, nothing to do\n",
    "            return ((xx, yy), orientation)\n",
    "        else:\n",
    "            if x < 0:\n",
    "                return self.left.cross(y)\n",
    "            elif x >= 50:\n",
    "                return self.right.cross(y)\n",
    "            elif y < 0:\n",
    "                return self.up.cross(x)\n",
    "            else:\n",
    "                return self.down.cross(x)\n",
    "\n",
    "\n",
    "cube = {\n",
    "    1: Side(51, 101, right=Edge(2, lambda d: (150, 50-d), LEFT), down=Edge(4, lambda d: (50, 151+d), LEFT), left=Edge(5, lambda d: ()))\n",
    "}\n"
   ]
  },
  {
   "cell_type": "code",
   "execution_count": 272,
   "metadata": {},
   "outputs": [],
   "source": [
    "class Board2(Board):\n",
    "    # hard-wired: each side is 50x50 and hard-wired for my input\n",
    "    #\n",
    "    # Path are \"<side from><side to><R: Turn right, \n",
    "    #                                L: Turn left, \n",
    "    #                                S: Staight ahead,\n",
    "    #                                B: Backwards>\"\n",
    "    paths = [\"14R46L63S31S\",\n",
    "             \"15S56B62S21B\",\n",
    "             \"32L24S45S53R\"]\n",
    "\n",
    "    # RDLU\n",
    "    edges = {\n",
    "        1: [2, 4, 5, 3],\n",
    "        2: [1, 3, 6, 4],\n",
    "        3: [2, 1, 5, 6],\n",
    "        4: [1, 2, 6, 5],\n",
    "        5: [1, 4, 6, 3],\n",
    "        6: [2, 3, 5, 4]\n",
    "    }\n",
    "    \n",
    "    def which_side(self, x, y):\n",
    "        if 50 < x <= 100:\n",
    "            if y <= 50:\n",
    "                return 6\n",
    "            elif y <= 100:\n",
    "                return 3\n",
    "            else:\n",
    "                return 1\n",
    "        elif x > 100:\n",
    "            return 2\n",
    "        elif y <= 150:\n",
    "            return 5\n",
    "        else:\n",
    "            return 4\n",
    "\n",
    "    def maybe_change_side(self, pos, orientation, start_side, dest_side):\n",
    "        x, y = pos\n",
    "        edge = \"%d%d\" % (start_side, dest_side)\n",
    "        if edge == \"21\":\n",
    "            return (self.forward((101, 151 - y), LEFT), LEFT)\n",
    "        elif edge == \"12\":\n",
    "            return (self.forward((151, 151 - y), LEFT), LEFT)\n",
    "        elif edge == \"56\":\n",
    "            return (self.forward((50, 151 - y), RIGHT), RIGHT)\n",
    "        elif edge == \"65\":\n",
    "            return (self.forward((0, 151 - y), RIGHT), RIGHT)\n",
    "        elif edge == \"14\":\n",
    "            return (self.forward((51, 100 + x), LEFT), LEFT)\n",
    "        elif edge == \"41\":\n",
    "            return (self.forward((y - 100, 151), UP), UP)\n",
    "        elif edge == \"53\":\n",
    "            return (self.forward((50, 50 + x), RIGHT), RIGHT)\n",
    "        elif edge == \"35\":\n",
    "            return (self.forward((y - 50, 100), DOWN), DOWN)\n",
    "        elif edge == \"46\":\n",
    "            return (self.forward((y - 100, 0), DOWN), DOWN)\n",
    "        elif edge == \"64\":\n",
    "            return (self.forward((0, x + 100), RIGHT), RIGHT)\n",
    "        elif edge == \"32\":\n",
    "            return (self.forward((y + 50, 51), UP), UP)\n",
    "        elif edge == \"23\":\n",
    "            return (self.forward((101, x - 50), LEFT), LEFT)\n",
    "        elif edge == \"24\":\n",
    "            return (self.forward((x - 100, 201), UP), UP)\n",
    "        elif edge == \"42\":\n",
    "            return (self.forward((x + 100, 0), DOWN), DOWN)\n",
    "\n",
    "        else:\n",
    "            raise Exception(\"Unknown change %s\" % edge)\n",
    "\n",
    "    def row(self, y):\n",
    "        try:\n",
    "            res = super().row(y)\n",
    "        except IndexError:\n",
    "            res = None\n",
    "        return res\n",
    "\n",
    "    def forward_with_orientation(self, pos, orientation):\n",
    "        x, y = pos\n",
    "        if orientation == 0:\n",
    "            xx, yy = x + 1, y\n",
    "        elif orientation == 1:\n",
    "            xx, yy = x, y + 1\n",
    "        elif orientation == 2:\n",
    "            xx, yy = x - 1, y\n",
    "        elif orientation == 3:\n",
    "            xx, yy = x, y - 1\n",
    "        else:\n",
    "            raise Exception(\"Wrong Orientation: %d\" % orientation)\n",
    "\n",
    "        row = self.row(yy)\n",
    "        if row and row.is_valid_column(xx):\n",
    "            # we can move simply\n",
    "            return (self.forward(pos, orientation), orientation)\n",
    "        else:\n",
    "            my_side = self.which_side(x, y)\n",
    "            other_side = self.edges[my_side][orientation]\n",
    "            return self.maybe_change_side(pos, orientation, my_side, other_side)"
   ]
  },
  {
   "cell_type": "code",
   "execution_count": 273,
   "metadata": {},
   "outputs": [],
   "source": [
    "def move2(board, pos, orientation, num_steps):\n",
    "    for n in range(num_steps):\n",
    "        fwd, new_orientation = board.forward_with_orientation(pos, orientation)\n",
    "        if fwd is None:\n",
    "            break\n",
    "        else:\n",
    "            pos = fwd\n",
    "            orientation = new_orientation\n",
    "    return pos, orientation"
   ]
  },
  {
   "cell_type": "code",
   "execution_count": 274,
   "metadata": {},
   "outputs": [],
   "source": [
    "def read_input2_2(file_name):\n",
    "    with open(file_name) as f:\n",
    "        lines = [x.rstrip() for x in f.readlines()]\n",
    "    board = Board2(lines[:-2])\n",
    "    instructions = lines[-1]\n",
    "\n",
    "    res = []\n",
    "    curr = \"\"\n",
    "    for c in instructions:\n",
    "        if c == \"R\":\n",
    "            res.append(int(curr))        \n",
    "            res.append(\"R\")\n",
    "            curr = \"\"\n",
    "        elif c == \"L\":\n",
    "            res.append(int(curr))        \n",
    "            res.append(\"L\")\n",
    "            curr = \"\"\n",
    "        else:\n",
    "            curr += c\n",
    "    res.append(int(curr))\n",
    "\n",
    "    return board, res"
   ]
  },
  {
   "cell_type": "code",
   "execution_count": 275,
   "metadata": {},
   "outputs": [],
   "source": [
    "def part2(file_name):\n",
    "    board, moves = read_input2_2(file_name)\n",
    "    pos = board.start()\n",
    "    orientation = 0\n",
    "    print(pos)\n",
    "    for step in moves:\n",
    "        if type(step) == int:\n",
    "            pos, orientation = move2(board, pos, orientation, step)\n",
    "        else:\n",
    "            if step == \"R\":\n",
    "                orientation = right_turn[orientation]\n",
    "            else:\n",
    "                orientation = left_turn[orientation]\n",
    "\n",
    "    return pos, orientation"
   ]
  },
  {
   "cell_type": "code",
   "execution_count": 276,
   "metadata": {},
   "outputs": [
    {
     "name": "stdout",
     "output_type": "stream",
     "text": [
      "(51, 1)\n"
     ]
    },
    {
     "data": {
      "text/plain": [
       "((95, 142), 0)"
      ]
     },
     "execution_count": 276,
     "metadata": {},
     "output_type": "execute_result"
    }
   ],
   "source": [
    "part2(\"input\")"
   ]
  },
  {
   "cell_type": "code",
   "execution_count": 277,
   "metadata": {},
   "outputs": [
    {
     "data": {
      "text/plain": [
       "142380"
      ]
     },
     "execution_count": 277,
     "metadata": {},
     "output_type": "execute_result"
    }
   ],
   "source": [
    "1000* 142 + 4 * 95 + 0"
   ]
  },
  {
   "cell_type": "code",
   "execution_count": 271,
   "metadata": {},
   "outputs": [
    {
     "data": {
      "text/plain": [
       "192121"
      ]
     },
     "execution_count": 271,
     "metadata": {},
     "output_type": "execute_result"
    }
   ],
   "source": [
    "1000 * 192 + 4 * 30 + 1  ## still not right"
   ]
  },
  {
   "cell_type": "code",
   "execution_count": 267,
   "metadata": {},
   "outputs": [
    {
     "data": {
      "text/plain": [
       "130157"
      ]
     },
     "execution_count": 267,
     "metadata": {},
     "output_type": "execute_result"
    }
   ],
   "source": [
    "1000 * 130 + 4 * 39 + 1  # too low"
   ]
  },
  {
   "cell_type": "code",
   "execution_count": 246,
   "metadata": {},
   "outputs": [
    {
     "data": {
      "text/plain": [
       "49566"
      ]
     },
     "execution_count": 246,
     "metadata": {},
     "output_type": "execute_result"
    }
   ],
   "source": [
    "1000 * 49 + 4 * 141 + 2 # too low"
   ]
  },
  {
   "attachments": {},
   "cell_type": "markdown",
   "metadata": {},
   "source": [
    "**With Trail**"
   ]
  },
  {
   "cell_type": "code",
   "execution_count": 247,
   "metadata": {},
   "outputs": [],
   "source": [
    "marker = {0: '>', 1: 'v', 2: '<', 3: '^'}\n",
    "\n",
    "def mark_trail(board, pos, orientation):\n",
    "    x, y = pos\n",
    "    row = board.row(y)\n",
    "    cs = [c for c in row.line]\n",
    "    cs[x-1] = marker[orientation]\n",
    "    row.line = \"\".join(cs)\n",
    "\n",
    "def trail2(board, pos, orientation, num_steps):\n",
    "    mark_trail(board, pos, orientation)\n",
    "    for n in range(num_steps):\n",
    "        fwd, new_orientation = board.forward_with_orientation(pos, orientation)\n",
    "        if fwd is None:\n",
    "            break\n",
    "        else:\n",
    "            pos = fwd\n",
    "            orientation = new_orientation\n",
    "            mark_trail(board, pos, orientation)\n",
    "    return pos, orientation"
   ]
  },
  {
   "cell_type": "code",
   "execution_count": null,
   "metadata": {},
   "outputs": [],
   "source": [
    "board, moves = read_input2_2(\"input\")\n",
    "pos = board.start()\n",
    "orientation = 0\n",
    "print(pos)\n",
    "for step in moves[:20]:\n",
    "    print(step)\n",
    "    if type(step) == int:\n",
    "        pos, orientation = trail2(board, pos, orientation, step)\n",
    "    else:\n",
    "        if step == \"R\":\n",
    "            orientation = right_turn[orientation]\n",
    "        else:\n",
    "            orientation = left_turn[orientation]\n",
    "        mark_trail(board, pos, orientation)\n",
    "\n",
    "    print_board(board)\n",
    "    print()"
   ]
  },
  {
   "cell_type": "code",
   "execution_count": 211,
   "metadata": {},
   "outputs": [],
   "source": [
    "paths = [\"14R46L63S31S\",\n",
    "             \"15S56B62S21B\",\n",
    "             \"32L24S45S53R\"]"
   ]
  },
  {
   "cell_type": "code",
   "execution_count": 215,
   "metadata": {},
   "outputs": [
    {
     "data": {
      "text/plain": [
       "(1, 1)"
      ]
     },
     "execution_count": 215,
     "metadata": {},
     "output_type": "execute_result"
    }
   ],
   "source": [
    "x = 51\n",
    "y = 100\n",
    "(x-1) // 50, (y-1) // 50"
   ]
  },
  {
   "cell_type": "markdown",
   "metadata": {},
   "source": []
  },
  {
   "cell_type": "code",
   "execution_count": null,
   "metadata": {},
   "outputs": [],
   "source": []
  }
 ],
 "metadata": {
  "kernelspec": {
   "display_name": "base",
   "language": "python",
   "name": "python3"
  },
  "language_info": {
   "codemirror_mode": {
    "name": "ipython",
    "version": 3
   },
   "file_extension": ".py",
   "mimetype": "text/x-python",
   "name": "python",
   "nbconvert_exporter": "python",
   "pygments_lexer": "ipython3",
   "version": "3.9.13"
  },
  "orig_nbformat": 4,
  "vscode": {
   "interpreter": {
    "hash": "3bb68e06d3cfdf7edd00f82dd964df66ef3c876d9c0ffb42e0fc76a1de42bb0e"
   }
  }
 },
 "nbformat": 4,
 "nbformat_minor": 2
}
