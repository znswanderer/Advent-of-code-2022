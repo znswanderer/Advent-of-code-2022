{
 "cells": [
  {
   "cell_type": "code",
   "execution_count": 18,
   "metadata": {},
   "outputs": [],
   "source": [
    "operattions = {\n",
    "    '+': lambda x,y: x+y,\n",
    "    '-': lambda x,y: x-y,\n",
    "    '*': lambda x,y: x*y,\n",
    "    '/': lambda x,y: x/y\n",
    "}\n",
    "\n",
    "def read_input(file_name):\n",
    "    res = {}\n",
    "    with open(file_name) as f:\n",
    "        for line in f.readlines():\n",
    "            line = line.strip()\n",
    "            if line == \"\":\n",
    "                continue\n",
    "            name = line[:4]\n",
    "            res[name] = line[6:].split()\n",
    "    return res"
   ]
  },
  {
   "cell_type": "code",
   "execution_count": 42,
   "metadata": {},
   "outputs": [],
   "source": [
    "unevl = read_input(\"example\")"
   ]
  },
  {
   "cell_type": "code",
   "execution_count": 43,
   "metadata": {},
   "outputs": [],
   "source": [
    "def execute(unevl, evl):\n",
    "    \"\"\"Just run the complete state given by already evaluated dict *evl*\n",
    "    and the still to be evaluated dict *unevl* once.\n",
    "    Return a new unevl dictionary. The evl is modified in place.\n",
    "    If the entry for *root* is a number, we are finished.\n",
    "    \"\"\"\n",
    "    res_un = {}\n",
    "    for k, v in unevl.items():\n",
    "        if len(v) == 1:\n",
    "            evl[k] = int(v[0])\n",
    "        else:\n",
    "            x_key, op, y_key = v\n",
    "            try:\n",
    "                x = evl[x_key]\n",
    "                y = evl[y_key]\n",
    "            except KeyError:\n",
    "                res_un[k] = v\n",
    "                continue\n",
    "            func = operattions[op]\n",
    "            evl[k] = func(x, y)\n",
    "    return res_un"
   ]
  },
  {
   "cell_type": "code",
   "execution_count": 44,
   "metadata": {},
   "outputs": [
    {
     "data": {
      "text/plain": [
       "{'dbpl': 5,\n",
       " 'zczc': 2,\n",
       " 'dvpt': 3,\n",
       " 'lfqf': 4,\n",
       " 'humn': 5,\n",
       " 'ljgn': 2,\n",
       " 'sllz': 4,\n",
       " 'hmdt': 32}"
      ]
     },
     "execution_count": 44,
     "metadata": {},
     "output_type": "execute_result"
    }
   ],
   "source": [
    "evl = {}\n",
    "execute(unevl, evl)\n",
    "evl"
   ]
  },
  {
   "cell_type": "code",
   "execution_count": 45,
   "metadata": {},
   "outputs": [],
   "source": [
    "def run(unevl, evl={}):\n",
    "    n = 0\n",
    "    while \"root\" in unevl:\n",
    "        n += 1\n",
    "        print(\"step\", n)\n",
    "        unevl = execute(unevl, evl)\n",
    "    return evl[\"root\"]"
   ]
  },
  {
   "cell_type": "code",
   "execution_count": 46,
   "metadata": {},
   "outputs": [
    {
     "name": "stdout",
     "output_type": "stream",
     "text": [
      "step 1\n",
      "step 2\n",
      "step 3\n",
      "step 4\n"
     ]
    },
    {
     "data": {
      "text/plain": [
       "152.0"
      ]
     },
     "execution_count": 46,
     "metadata": {},
     "output_type": "execute_result"
    }
   ],
   "source": [
    "run(unevl)"
   ]
  },
  {
   "cell_type": "code",
   "execution_count": 47,
   "metadata": {},
   "outputs": [],
   "source": [
    "unevl = read_input(\"input\")"
   ]
  },
  {
   "cell_type": "code",
   "execution_count": 48,
   "metadata": {},
   "outputs": [
    {
     "name": "stdout",
     "output_type": "stream",
     "text": [
      "step 1\n",
      "step 2\n",
      "step 3\n",
      "step 4\n",
      "step 5\n",
      "step 6\n",
      "step 7\n",
      "step 8\n",
      "step 9\n",
      "step 10\n",
      "step 11\n",
      "step 12\n",
      "step 13\n",
      "step 14\n",
      "step 15\n",
      "step 16\n",
      "step 17\n",
      "step 18\n",
      "step 19\n",
      "step 20\n",
      "step 21\n",
      "step 22\n",
      "step 23\n",
      "step 24\n",
      "step 25\n",
      "step 26\n",
      "step 27\n",
      "step 28\n",
      "step 29\n",
      "step 30\n",
      "step 31\n",
      "step 32\n",
      "step 33\n",
      "step 34\n",
      "step 35\n",
      "step 36\n",
      "step 37\n"
     ]
    },
    {
     "data": {
      "text/plain": [
       "158661812617812.0"
      ]
     },
     "execution_count": 48,
     "metadata": {},
     "output_type": "execute_result"
    }
   ],
   "source": [
    "run(unevl)"
   ]
  },
  {
   "attachments": {},
   "cell_type": "markdown",
   "metadata": {},
   "source": [
    "# Part 2\n",
    "\n",
    "https://en.wikipedia.org/wiki/Field_extension"
   ]
  },
  {
   "cell_type": "code",
   "execution_count": 54,
   "metadata": {},
   "outputs": [],
   "source": [
    "unevl = read_input(\"example\")"
   ]
  },
  {
   "cell_type": "code",
   "execution_count": 55,
   "metadata": {},
   "outputs": [],
   "source": [
    "evl['humn'] = 1j\n",
    "del unevl['humn']\n",
    "unevl['root'] = ['pppw', '-', 'sjmn']"
   ]
  },
  {
   "cell_type": "code",
   "execution_count": 56,
   "metadata": {},
   "outputs": [
    {
     "name": "stdout",
     "output_type": "stream",
     "text": [
      "step 1\n",
      "step 2\n",
      "step 3\n"
     ]
    },
    {
     "data": {
      "text/plain": [
       "(-150.5+0.5j)"
      ]
     },
     "execution_count": 56,
     "metadata": {},
     "output_type": "execute_result"
    }
   ],
   "source": [
    "run(unevl, evl) "
   ]
  },
  {
   "cell_type": "code",
   "execution_count": 90,
   "metadata": {},
   "outputs": [],
   "source": [
    "unevl = read_input(\"example\")\n",
    "evl = {}\n",
    "evl['humn'] = 1j\n",
    "del unevl['humn']\n",
    "unevl['root'][1] = '-'"
   ]
  },
  {
   "cell_type": "code",
   "execution_count": 91,
   "metadata": {},
   "outputs": [
    {
     "name": "stdout",
     "output_type": "stream",
     "text": [
      "step 1\n",
      "step 2\n",
      "step 3\n",
      "step 4\n"
     ]
    }
   ],
   "source": [
    "res = run(unevl, evl)"
   ]
  },
  {
   "cell_type": "code",
   "execution_count": 92,
   "metadata": {},
   "outputs": [
    {
     "data": {
      "text/plain": [
       "(-150.5+0.5j)"
      ]
     },
     "execution_count": 92,
     "metadata": {},
     "output_type": "execute_result"
    }
   ],
   "source": [
    "res"
   ]
  },
  {
   "cell_type": "code",
   "execution_count": 93,
   "metadata": {},
   "outputs": [
    {
     "data": {
      "text/plain": [
       "(-150.5+0.5j)"
      ]
     },
     "execution_count": 93,
     "metadata": {},
     "output_type": "execute_result"
    }
   ],
   "source": [
    "res"
   ]
  },
  {
   "cell_type": "code",
   "execution_count": 94,
   "metadata": {},
   "outputs": [
    {
     "data": {
      "text/plain": [
       "0.5"
      ]
     },
     "execution_count": 94,
     "metadata": {},
     "output_type": "execute_result"
    }
   ],
   "source": [
    "res.imag"
   ]
  },
  {
   "cell_type": "code",
   "execution_count": 95,
   "metadata": {},
   "outputs": [
    {
     "data": {
      "text/plain": [
       "301.0"
      ]
     },
     "execution_count": 95,
     "metadata": {},
     "output_type": "execute_result"
    }
   ],
   "source": [
    "-res.real / res.imag"
   ]
  },
  {
   "cell_type": "code",
   "execution_count": 96,
   "metadata": {},
   "outputs": [],
   "source": [
    "unevl = read_input(\"input\")\n",
    "evl = {}\n",
    "evl['humn'] = 1j\n",
    "del unevl['humn']\n",
    "unevl['root'][1] = '-'"
   ]
  },
  {
   "cell_type": "code",
   "execution_count": 97,
   "metadata": {},
   "outputs": [
    {
     "name": "stdout",
     "output_type": "stream",
     "text": [
      "step 1\n",
      "step 2\n",
      "step 3\n",
      "step 4\n",
      "step 5\n",
      "step 6\n",
      "step 7\n",
      "step 8\n",
      "step 9\n",
      "step 10\n",
      "step 11\n",
      "step 12\n",
      "step 13\n",
      "step 14\n",
      "step 15\n",
      "step 16\n",
      "step 17\n",
      "step 18\n",
      "step 19\n",
      "step 20\n",
      "step 21\n",
      "step 22\n",
      "step 23\n",
      "step 24\n",
      "step 25\n",
      "step 26\n",
      "step 27\n",
      "step 28\n",
      "step 29\n",
      "step 30\n",
      "step 31\n",
      "step 32\n",
      "step 33\n",
      "step 34\n",
      "step 35\n",
      "step 36\n",
      "step 37\n"
     ]
    }
   ],
   "source": [
    "res = run(unevl, evl)"
   ]
  },
  {
   "cell_type": "code",
   "execution_count": 98,
   "metadata": {},
   "outputs": [
    {
     "data": {
      "text/plain": [
       "3352886133830.9995"
      ]
     },
     "execution_count": 98,
     "metadata": {},
     "output_type": "execute_result"
    }
   ],
   "source": [
    "-res.real / res.imag"
   ]
  },
  {
   "cell_type": "code",
   "execution_count": 100,
   "metadata": {},
   "outputs": [
    {
     "data": {
      "text/plain": [
       "3352886133831"
      ]
     },
     "execution_count": 100,
     "metadata": {},
     "output_type": "execute_result"
    }
   ],
   "source": [
    "round(-res.real / res.imag)"
   ]
  },
  {
   "attachments": {},
   "cell_type": "markdown",
   "metadata": {},
   "source": [
    "## Addendum\n",
    "\n",
    "Note that the method with complex numbers only works, because the input value $x$ \n",
    "is linear in the root. What we are basically computing is\n",
    "\n",
    "$$\n",
    "\\textrm{root}(x) = a + b x\n",
    "$$\n",
    "\n",
    "If the `humn` node would be referenced in the tree more than once and connected via \n",
    "the `*` operation, the value $x$ would enter quadratic, like $\\textrm{root}(x) = a + b x + c x^2$.\n",
    "\n",
    "So basically, we would construct polynomials like\n",
    "\n",
    "$$\n",
    "\\textrm{root}(x) = a_0 + a_1 x + a_2 x^2 + a_3 x^3 + \\dots\n",
    "$$\n",
    "\n",
    "This, too, could be done in python with a dedicated datastructure. Or, we could solve\n",
    "the problem the way it was supposed to be solved, by using a tree.\n"
   ]
  }
 ],
 "metadata": {
  "kernelspec": {
   "display_name": "base",
   "language": "python",
   "name": "python3"
  },
  "language_info": {
   "codemirror_mode": {
    "name": "ipython",
    "version": 3
   },
   "file_extension": ".py",
   "mimetype": "text/x-python",
   "name": "python",
   "nbconvert_exporter": "python",
   "pygments_lexer": "ipython3",
   "version": "3.9.13 (main, Aug 25 2022, 18:29:29) \n[Clang 12.0.0 ]"
  },
  "orig_nbformat": 4,
  "vscode": {
   "interpreter": {
    "hash": "3bb68e06d3cfdf7edd00f82dd964df66ef3c876d9c0ffb42e0fc76a1de42bb0e"
   }
  }
 },
 "nbformat": 4,
 "nbformat_minor": 2
}
