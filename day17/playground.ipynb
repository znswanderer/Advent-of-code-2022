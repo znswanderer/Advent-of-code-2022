{
 "cells": [
  {
   "cell_type": "code",
   "execution_count": 1,
   "metadata": {},
   "outputs": [],
   "source": [
    "from collections import defaultdict\n",
    "from itertools import cycle, islice\n",
    "\n",
    "empty_row = lambda: ['|'] + 7*['.'] + ['|']\n",
    "\n",
    "def make_rows():\n",
    "    # storing all the air '.' and walls '|' is not very\n",
    "    # efficient, but who cares?\n",
    "    return defaultdict(empty_row)    "
   ]
  },
  {
   "cell_type": "code",
   "execution_count": 2,
   "metadata": {},
   "outputs": [],
   "source": [
    "horiz_line = ((0, 0), (1, 0), (2, 0), (3, 0))\n",
    "plus_shape = ((1, 0), (0, -1), (1, -1), (2, -1), (1, -2))\n",
    "mirror_ell = ((2, 0), (2, -1), (2, -2), (1, -2), (0, -2))\n",
    "vertl_line = ((0, 0), (0, -1), (0, -2), (0, -3))\n",
    "block_shpe = ((0, 0), (1, 0), (0, -1), (1, -1))\n",
    "\n",
    "shapes_nc = [horiz_line, plus_shape, mirror_ell, vertl_line, block_shpe] # no cycle\n",
    "shapes = cycle(shapes_nc)"
   ]
  },
  {
   "cell_type": "code",
   "execution_count": 3,
   "metadata": {},
   "outputs": [
    {
     "data": {
      "text/plain": [
       "2"
      ]
     },
     "execution_count": 3,
     "metadata": {},
     "output_type": "execute_result"
    }
   ],
   "source": [
    "min(y for (x, y) in mirror_ell)\n",
    "max(x for (x, y) in mirror_ell)"
   ]
  },
  {
   "cell_type": "code",
   "execution_count": 4,
   "metadata": {},
   "outputs": [
    {
     "name": "stdout",
     "output_type": "stream",
     "text": [
      "|####...|\n",
      "\n",
      "|.#.....|\n",
      "|###....|\n",
      "|.#.....|\n",
      "\n",
      "|..#....|\n",
      "|..#....|\n",
      "|###....|\n",
      "\n",
      "|#......|\n",
      "|#......|\n",
      "|#......|\n",
      "|#......|\n",
      "\n",
      "|##.....|\n",
      "|##.....|\n",
      "\n"
     ]
    }
   ],
   "source": [
    "for s in islice(shapes, 5):\n",
    "    cave = make_rows()\n",
    "    for x, y in s:\n",
    "        cave[y][x+1] = \"#\"\n",
    "    rows = cave.keys()\n",
    "    y0 = min(rows)\n",
    "    y1 = max(rows)\n",
    "    for y in range(y1, y0-1, -1):\n",
    "        print(\"\".join(cave[y]))\n",
    "    print()"
   ]
  },
  {
   "cell_type": "code",
   "execution_count": 5,
   "metadata": {},
   "outputs": [],
   "source": [
    "jet_pattern = cycle(\">>><<><>><<<>><>>><<<>>><<<><<<>><>><<>>\")\n",
    "\n",
    "cave = make_rows()\n",
    "# make bottom\n",
    "cave[0][0] = \"+\"\n",
    "cave[0][8] = \"+\"\n",
    "for x in range(1, 8):\n",
    "    cave[0][x] = \"-\""
   ]
  },
  {
   "cell_type": "code",
   "execution_count": 7,
   "metadata": {},
   "outputs": [],
   "source": [
    "def print_cave(cave):\n",
    "    rows = cave.keys()\n",
    "    y0 = min(rows)\n",
    "    y1 = max(rows)\n",
    "    w = len(str(y1))\n",
    "    form = \"%\" + \"%d.d\" % w\n",
    "\n",
    "    for y in range(y1, y0-1, -1):\n",
    "        print(form % y, \"\".join(cave[y]))"
   ]
  },
  {
   "cell_type": "code",
   "execution_count": 8,
   "metadata": {},
   "outputs": [
    {
     "name": "stdout",
     "output_type": "stream",
     "text": [
      "0 +-------+\n"
     ]
    }
   ],
   "source": [
    "print_cave(cave)"
   ]
  },
  {
   "cell_type": "code",
   "execution_count": 9,
   "metadata": {},
   "outputs": [],
   "source": [
    "def run_single_rock(cave, rock, pattern):\n",
    "    y = max(cave.keys()) + 4 - min(y for (x, y) in rock)\n",
    "    x = 3\n",
    "    width = max(x for (x, y) in rock)\n",
    "    falling = True\n",
    "    while falling:\n",
    "        blow = next(pattern)\n",
    "        if blow == \"<\":\n",
    "            x1 = x - 1\n",
    "        else:\n",
    "            x1 = x + 1\n",
    "\n",
    "        # test for horizontal movement    \n",
    "        vals = [cave.get(y+dy, empty_row())[x1+dx] for (dx, dy) in rock]\n",
    "        if all(v == '.' for v in vals):\n",
    "            x = x1            \n",
    "        \n",
    "        y1 = y - 1\n",
    "        # use get, so that we do not make new rows without purpose\n",
    "        vals = [cave.get(y1+dy, empty_row())[x+dx] for (dx, dy) in rock]\n",
    "        if all(v == '.' for v in vals):\n",
    "            y = y1\n",
    "        else:\n",
    "            # rock cannot fall anymore to y1\n",
    "            # -> insert it at old y position!\n",
    "            falling = False\n",
    "            for dx, dy in rock:\n",
    "                cave[y+dy][x+dx] = '#'"
   ]
  },
  {
   "cell_type": "code",
   "execution_count": 10,
   "metadata": {},
   "outputs": [
    {
     "data": {
      "text/plain": [
       "3068"
      ]
     },
     "execution_count": 10,
     "metadata": {},
     "output_type": "execute_result"
    }
   ],
   "source": [
    "for i in range(2022):\n",
    "    run_single_rock(cave, next(shapes), jet_pattern)\n",
    "\n",
    "max(cave.keys())"
   ]
  },
  {
   "cell_type": "code",
   "execution_count": 11,
   "metadata": {},
   "outputs": [],
   "source": [
    "# putting it all in one fucntion\n",
    "def part1(pattern, num_rocks=2022):\n",
    "    # we must declare shapes and jet_pattern again to restart the iterator\n",
    "    shapes = cycle([horiz_line, plus_shape, mirror_ell, vertl_line, block_shpe])\n",
    "    jet_pattern = cycle(pattern)\n",
    "\n",
    "    cave = make_rows()\n",
    "    # make bottom\n",
    "    cave[0][0] = \"+\"\n",
    "    cave[0][8] = \"+\"\n",
    "    for x in range(1, 8):\n",
    "        cave[0][x] = \"-\"\n",
    "\n",
    "    for i in range(num_rocks):\n",
    "        run_single_rock(cave, next(shapes), jet_pattern)\n",
    "\n",
    "    return max(cave.keys()), cave\n"
   ]
  },
  {
   "cell_type": "code",
   "execution_count": 12,
   "metadata": {},
   "outputs": [],
   "source": [
    "with open(\"input\") as f:\n",
    "    my_pattern = f.read().strip()"
   ]
  },
  {
   "cell_type": "code",
   "execution_count": 13,
   "metadata": {},
   "outputs": [
    {
     "data": {
      "text/plain": [
       "3163"
      ]
     },
     "execution_count": 13,
     "metadata": {},
     "output_type": "execute_result"
    }
   ],
   "source": [
    "height, cave = part1(my_pattern)\n",
    "height"
   ]
  },
  {
   "attachments": {},
   "cell_type": "markdown",
   "metadata": {},
   "source": [
    "# Part 2\n",
    "\n",
    "I think, we have to compress the cave once a complete row is \n",
    "covered with rocks.\n",
    "\n",
    "```\n",
    "|##.....|\n",
    "|.###...|\n",
    "|.....##|\n",
    "|...####|\n",
    "|#######|\n",
    "```\n",
    "\n",
    "First, I will try the easy route and delete only completely covered rows (with no vertical extension)\n"
   ]
  },
  {
   "cell_type": "code",
   "execution_count": 14,
   "metadata": {},
   "outputs": [],
   "source": [
    "def run_single_rock2(cave, rock, pattern):\n",
    "    y = max(cave.keys()) + 4 - min(y for (x, y) in rock)\n",
    "    x = 3\n",
    "    width = max(x for (x, y) in rock)\n",
    "    falling = True\n",
    "    while falling:\n",
    "        n, blow = next(pattern)\n",
    "        if blow == \"<\":\n",
    "            x1 = x - 1\n",
    "        else:\n",
    "            x1 = x + 1\n",
    "\n",
    "        # test for horizontal movement    \n",
    "        vals = [cave.get(y+dy, empty_row())[x1+dx] for (dx, dy) in rock]\n",
    "        if all(v == '.' for v in vals):\n",
    "            x = x1            \n",
    "        \n",
    "        y1 = y - 1\n",
    "        # use get, so that we do not make new rows without purpose\n",
    "        vals = [cave.get(y1+dy, empty_row())[x+dx] for (dx, dy) in rock]\n",
    "        if all(v == '.' for v in vals):\n",
    "            y = y1\n",
    "        else:\n",
    "            # rock cannot fall anymore to y1\n",
    "            # -> insert it at old y position!\n",
    "            falling = False\n",
    "            for dx, dy in rock:\n",
    "                cave[y+dy][x+dx] = '#'\n",
    "\n",
    "    # return position of placement\n",
    "    return (x, y, n)\n"
   ]
  },
  {
   "attachments": {},
   "cell_type": "markdown",
   "metadata": {},
   "source": [
    "I have to find a good criterium to tell if a row is full.\n",
    "We will only look at a couple of rows at the same time"
   ]
  },
  {
   "attachments": {},
   "cell_type": "markdown",
   "metadata": {},
   "source": [
    "If at the same pattern position n and the same shape\n",
    "we have the same cave configuration (from the last complete row)\n",
    "the configuration will be the same, as everything is deterministic.\n",
    "\n",
    "In this case we can skip the simulation of falling rocks and\n",
    "just see how many cycles we will run in the end."
   ]
  },
  {
   "cell_type": "code",
   "execution_count": 15,
   "metadata": {},
   "outputs": [],
   "source": [
    "def cave_hash(cave):\n",
    "    # hash for cave\n",
    "    y0, y1 = min(cave.keys()), max(cave.keys())\n",
    "    return \"\".join(\"\".join(cave[y]) for y in range(y0, y1+1))\n",
    "\n",
    "# putting it all in one fucntion\n",
    "def part2_a(pattern, num_rocks=2022, watch_cycles=True):\n",
    "    # we must declare shapes and jet_pattern again to restart the iterator\n",
    "    shapes = cycle([horiz_line, plus_shape, mirror_ell, vertl_line, block_shpe])\n",
    "    jet_pattern = cycle(enumerate(pattern))\n",
    "\n",
    "    cave = make_rows()\n",
    "    # make bottom\n",
    "    cave[0][0] = \"+\"\n",
    "    cave[0][8] = \"+\"\n",
    "    for x in range(1, 8):\n",
    "        cave[0][x] = \"-\"\n",
    "\n",
    "    seen = {}\n",
    "\n",
    "    for i in range(num_rocks):\n",
    "        shape = next(shapes)\n",
    "        # n is the current position in the repeating blow pattern\n",
    "        x, y, n = run_single_rock2(cave, shape, jet_pattern)\n",
    "\n",
    "        # naive way to look for closed line\n",
    "        # this might not find all closed lines. But it is enough for\n",
    "        # cylce detection if we find at least some.\n",
    "        if True:\n",
    "            for y1 in sorted(set(y + dy for dx, dy in shape))[::-1]:\n",
    "                row = cave.get(y1, empty_row())\n",
    "                found_hole = False\n",
    "                for xx, ch in enumerate(row):\n",
    "                    if ch == \".\":\n",
    "                        # is this hole covered from above?\n",
    "                        if cave.get(y1+1, empty_row())[xx] == '.':\n",
    "                            found_hole = True\n",
    "                            break\n",
    "\n",
    "                if not found_hole:\n",
    "                    # this is a close line\n",
    "                    #print(\"closed\", i, \"at\", y1)\n",
    "                    rows_below = [y2 for y2 in cave.keys() if y2 < y1]\n",
    "                    #for yy in range(y1+4, y1-5, -1):\n",
    "                    #    print(\"*\" if yy == y1 else \" \", \"\".join(cave[yy]))\n",
    "\n",
    "                    for y3 in rows_below:\n",
    "                        del cave[y3]\n",
    "\n",
    "\n",
    "        if watch_cycles:\n",
    "            if n < 5:\n",
    "                # at the beginning of a new wave of blows\n",
    "                s = hash(cave_hash(cave))\n",
    "                if (n, shape, s) in seen:\n",
    "                    old_i, old_cave = seen[n, shape, s]\n",
    "                    print(\"seen\", i, \"at\", old_i, i - old_i)\n",
    "                    print(\"cycle detected!\")\n",
    "                    cycle_height = max(cave.keys()) - max(old_cave.keys())\n",
    "                    return max(cave.keys()), cave, seen, i - old_i, i, cycle_height\n",
    "                else:\n",
    "                    print(\"***NEW***\", i, end=\" \")\n",
    "                    seen[n, shape, s] = [i, dict(cave)]\n",
    "                    print(\"new config\", n, shape, s)\n",
    "\n",
    "\n",
    "    return max(cave.keys()), cave, seen, 0, i, 0"
   ]
  },
  {
   "cell_type": "code",
   "execution_count": 16,
   "metadata": {},
   "outputs": [
    {
     "name": "stdout",
     "output_type": "stream",
     "text": [
      "***NEW*** 0 new config 3 ((0, 0), (1, 0), (2, 0), (3, 0)) -3885326096268831555\n",
      "***NEW*** 1698 new config 4 ((0, 0), (0, -1), (0, -2), (0, -3)) 4372129826719589664\n",
      "seen 3413 at 1698 1715\n",
      "cycle detected!\n"
     ]
    },
    {
     "data": {
      "text/plain": [
       "5328"
      ]
     },
     "execution_count": 16,
     "metadata": {},
     "output_type": "execute_result"
    }
   ],
   "source": [
    "height, cave, seen, cycle_length, num_fallen, cycle_height = part2_a(my_pattern, num_rocks=3600)\n",
    "#print_cave(cave)\n",
    "height"
   ]
  },
  {
   "cell_type": "code",
   "execution_count": 17,
   "metadata": {},
   "outputs": [
    {
     "data": {
      "text/plain": [
       "40"
      ]
     },
     "execution_count": 17,
     "metadata": {},
     "output_type": "execute_result"
    }
   ],
   "source": [
    "s1 = \">>><<><>><<<>><>>><<<>>><<<><<<>><>><<>>\"\n",
    "len(s1)"
   ]
  },
  {
   "cell_type": "code",
   "execution_count": 18,
   "metadata": {},
   "outputs": [
    {
     "name": "stdout",
     "output_type": "stream",
     "text": [
      "***NEW*** 0 new config 3 ((0, 0), (1, 0), (2, 0), (3, 0)) 6845641884179467986\n",
      "***NEW*** 8 new config 2 ((0, 0), (0, -1), (0, -2), (0, -3)) 8587835204208663678\n",
      "***NEW*** 14 new config 1 ((0, 0), (1, 0), (0, -1), (1, -1)) 1229170892121215119\n",
      "***NEW*** 22 new config 0 ((2, 0), (2, -1), (2, -2), (1, -2), (0, -2)) 3718111562597264209\n",
      "***NEW*** 29 new config 4 ((0, 0), (1, 0), (0, -1), (1, -1)) -250328460786536390\n",
      "***NEW*** 36 new config 2 ((1, 0), (0, -1), (1, -1), (2, -1), (1, -2)) -3296577412329830024\n",
      "***NEW*** 43 new config 1 ((0, 0), (0, -1), (0, -2), (0, -3)) -2871009156588369442\n",
      "***NEW*** 49 new config 1 ((0, 0), (1, 0), (0, -1), (1, -1)) 1818938777701900558\n",
      "***NEW*** 57 new config 0 ((2, 0), (2, -1), (2, -2), (1, -2), (0, -2)) -1964602151475633301\n",
      "seen 64 at 29 35\n",
      "cycle detected!\n",
      "104 |#......|\n",
      "103 |#......|\n",
      "102 |#.#....|\n",
      "101 |#.#....|\n",
      "100 |####...|\n",
      " 99 |..#####|\n"
     ]
    },
    {
     "data": {
      "text/plain": [
       "104"
      ]
     },
     "execution_count": 18,
     "metadata": {},
     "output_type": "execute_result"
    }
   ],
   "source": [
    "height, cave, seen, cycle_length, num_fallen, cycle_height = part2_a(\">>><<><>><<<>><>>><<<>>><<<><<<>><>><<>>\", num_rocks=600)\n",
    "print_cave(cave)\n",
    "height"
   ]
  },
  {
   "attachments": {},
   "cell_type": "markdown",
   "metadata": {},
   "source": [
    "The `cycle_lenght` is the number of rocks, that will fall until a configuration repeats."
   ]
  },
  {
   "cell_type": "code",
   "execution_count": 19,
   "metadata": {},
   "outputs": [
    {
     "data": {
      "text/plain": [
       "(35, 64, 53)"
      ]
     },
     "execution_count": 19,
     "metadata": {},
     "output_type": "execute_result"
    }
   ],
   "source": [
    "cycle_length, num_fallen, cycle_height"
   ]
  },
  {
   "cell_type": "code",
   "execution_count": 20,
   "metadata": {},
   "outputs": [],
   "source": [
    "num = 1000000000000"
   ]
  },
  {
   "cell_type": "code",
   "execution_count": 21,
   "metadata": {},
   "outputs": [
    {
     "data": {
      "text/plain": [
       "(28571428569, 21)"
      ]
     },
     "execution_count": 21,
     "metadata": {},
     "output_type": "execute_result"
    }
   ],
   "source": [
    "num_left = num - num_fallen\n",
    "full_cycles_left = num_left // cycle_length\n",
    "single_rocks_left = num_left - full_cycles_left * cycle_length\n",
    "\n",
    "full_cycles_left, single_rocks_left"
   ]
  },
  {
   "attachments": {},
   "cell_type": "markdown",
   "metadata": {},
   "source": [
    "Now let the last single rocks fall and put it all in one function:"
   ]
  },
  {
   "cell_type": "code",
   "execution_count": 22,
   "metadata": {},
   "outputs": [],
   "source": [
    "def part2_b(cave, shapes, jet_pattern, num_rocks=2022, watch_cycles=True):\n",
    "    seen = {}\n",
    "\n",
    "    for i in range(num_rocks):\n",
    "        shape = next(shapes)\n",
    "        # n is the current position in the repeating blow pattern\n",
    "        x, y, n = run_single_rock2(cave, shape, jet_pattern)\n",
    "\n",
    "        # naive way to look for closed line\n",
    "        # this might not find all closed lines. But it is enough for\n",
    "        # cylce detection if we find at least some.\n",
    "        if True:\n",
    "            for y1 in sorted(set(y + dy for dx, dy in shape))[::-1]:\n",
    "                row = cave.get(y1, empty_row())\n",
    "                found_hole = False\n",
    "                for xx, ch in enumerate(row):\n",
    "                    if ch == \".\":\n",
    "                        # is this hole covered from above?\n",
    "                        if cave.get(y1+1, empty_row())[xx] == '.':\n",
    "                            found_hole = True\n",
    "                            break\n",
    "\n",
    "                if not found_hole:\n",
    "                    # this is a close line\n",
    "                    #print(\"closed\", i, \"at\", y1)\n",
    "                    rows_below = [y2 for y2 in cave.keys() if y2 < y1]\n",
    "                    #for yy in range(y1+4, y1-5, -1):\n",
    "                    #    print(\"*\" if yy == y1 else \" \", \"\".join(cave[yy]))\n",
    "\n",
    "                    for y3 in rows_below:\n",
    "                        del cave[y3]\n",
    "\n",
    "        if watch_cycles:\n",
    "            if n < 5:\n",
    "                # at the beginning of a new wave of blows\n",
    "                s = hash(cave_hash(cave))\n",
    "                if (n, shape, s) in seen:\n",
    "                    old_i, old_cave = seen[n, shape, s]\n",
    "                    print(\"seen\", i, \"at\", old_i, i - old_i)\n",
    "                    print(\"cycle detected!\")\n",
    "                    cycle_height = max(cave.keys()) - max(old_cave.keys())\n",
    "                    return max(cave.keys()), cave, seen, i - old_i, i, cycle_height\n",
    "                else:\n",
    "                    print(\"***NEW***\", i, end=\" \")\n",
    "                    seen[n, shape, s] = [i, dict(cave)]\n",
    "                    #print(\"new config\", n, shape, s)\n",
    "\n",
    "    return max(cave.keys()), cave, seen, 0, i, 0\n",
    "\n",
    "\n",
    "def part2(pattern, num_rocks=2022):\n",
    "    # we must declare shapes and jet_pattern again to restart the iterator\n",
    "    shapes = cycle([horiz_line, plus_shape, mirror_ell, vertl_line, block_shpe])\n",
    "    jet_pattern = cycle(enumerate(pattern))\n",
    "\n",
    "    cave = make_rows()\n",
    "    # make bottom\n",
    "    cave[0][0] = \"+\"\n",
    "    cave[0][8] = \"+\"\n",
    "    for x in range(1, 8):\n",
    "        cave[0][x] = \"-\"\n",
    "\n",
    "    height, cave, seen, cycle_length, num_fallen, cycle_height = part2_b(cave, shapes, jet_pattern, num_rocks)\n",
    "    \n",
    "    num_left = num_rocks - num_fallen\n",
    "    full_cycles_left = num_left // cycle_length\n",
    "    single_rocks_left = num_left - full_cycles_left * cycle_length\n",
    "\n",
    "    height, cave, _, _, _, _ = part2_b(cave, shapes, jet_pattern, single_rocks_left, watch_cycles=False)\n",
    "\n",
    "    # dont know where the -1 comes from. Just got this from comparing the example ouput\n",
    "    return height + full_cycles_left*cycle_height - 1   "
   ]
  },
  {
   "cell_type": "code",
   "execution_count": 23,
   "metadata": {},
   "outputs": [
    {
     "name": "stdout",
     "output_type": "stream",
     "text": [
      "***NEW*** 0 ***NEW*** 8 ***NEW*** 14 ***NEW*** 22 ***NEW*** 29 ***NEW*** 36 ***NEW*** 43 ***NEW*** 49 ***NEW*** 57 seen 64 at 29 35\n",
      "cycle detected!\n"
     ]
    },
    {
     "data": {
      "text/plain": [
       "1514285714288"
      ]
     },
     "execution_count": 23,
     "metadata": {},
     "output_type": "execute_result"
    }
   ],
   "source": [
    "part2(\">>><<><>><<<>><>>><<<>>><<<><<<>><>><<>>\", num_rocks=1000000000000)"
   ]
  },
  {
   "cell_type": "code",
   "execution_count": 24,
   "metadata": {},
   "outputs": [
    {
     "name": "stdout",
     "output_type": "stream",
     "text": [
      "***NEW*** 0 ***NEW*** 1698 seen 3413 at 1698 1715\n",
      "cycle detected!\n"
     ]
    },
    {
     "data": {
      "text/plain": [
       "1560932944615"
      ]
     },
     "execution_count": 24,
     "metadata": {},
     "output_type": "execute_result"
    }
   ],
   "source": [
    "part2(my_pattern, num_rocks=1000000000000)"
   ]
  },
  {
   "cell_type": "code",
   "execution_count": null,
   "metadata": {},
   "outputs": [],
   "source": []
  }
 ],
 "metadata": {
  "kernelspec": {
   "display_name": "base",
   "language": "python",
   "name": "python3"
  },
  "language_info": {
   "codemirror_mode": {
    "name": "ipython",
    "version": 3
   },
   "file_extension": ".py",
   "mimetype": "text/x-python",
   "name": "python",
   "nbconvert_exporter": "python",
   "pygments_lexer": "ipython3",
   "version": "3.9.13"
  },
  "orig_nbformat": 4,
  "vscode": {
   "interpreter": {
    "hash": "3bb68e06d3cfdf7edd00f82dd964df66ef3c876d9c0ffb42e0fc76a1de42bb0e"
   }
  }
 },
 "nbformat": 4,
 "nbformat_minor": 2
}
