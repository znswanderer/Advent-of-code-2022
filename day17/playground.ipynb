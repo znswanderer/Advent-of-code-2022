{
 "cells": [
  {
   "cell_type": "code",
   "execution_count": 319,
   "metadata": {},
   "outputs": [],
   "source": [
    "from collections import defaultdict\n",
    "from itertools import cycle, islice\n",
    "\n",
    "empty_row = lambda: ['|'] + 7*['.'] + ['|']\n",
    "\n",
    "def make_rows():\n",
    "    # storing all the air '.' and walls '|' is not very\n",
    "    # efficient, but who cares?\n",
    "    return defaultdict(empty_row)    "
   ]
  },
  {
   "cell_type": "code",
   "execution_count": 320,
   "metadata": {},
   "outputs": [],
   "source": [
    "horiz_line = ((0, 0), (1, 0), (2, 0), (3, 0))\n",
    "plus_shape = ((1, 0), (0, -1), (1, -1), (2, -1), (1, -2))\n",
    "mirror_ell = ((2, 0), (2, -1), (2, -2), (1, -2), (0, -2))\n",
    "vertl_line = ((0, 0), (0, -1), (0, -2), (0, -3))\n",
    "block_shpe = ((0, 0), (1, 0), (0, -1), (1, -1))\n",
    "\n",
    "shapes = cycle([horiz_line, plus_shape, mirror_ell, vertl_line, block_shpe])"
   ]
  },
  {
   "cell_type": "code",
   "execution_count": 321,
   "metadata": {},
   "outputs": [
    {
     "data": {
      "text/plain": [
       "2"
      ]
     },
     "execution_count": 321,
     "metadata": {},
     "output_type": "execute_result"
    }
   ],
   "source": [
    "min(y for (x, y) in mirror_ell)\n",
    "max(x for (x, y) in mirror_ell)"
   ]
  },
  {
   "cell_type": "code",
   "execution_count": 322,
   "metadata": {},
   "outputs": [
    {
     "name": "stdout",
     "output_type": "stream",
     "text": [
      "|####...|\n",
      "\n",
      "|.#.....|\n",
      "|###....|\n",
      "|.#.....|\n",
      "\n",
      "|..#....|\n",
      "|..#....|\n",
      "|###....|\n",
      "\n",
      "|#......|\n",
      "|#......|\n",
      "|#......|\n",
      "|#......|\n",
      "\n",
      "|##.....|\n",
      "|##.....|\n",
      "\n"
     ]
    }
   ],
   "source": [
    "for s in islice(shapes, 5):\n",
    "    cave = make_rows()\n",
    "    for x, y in s:\n",
    "        cave[y][x+1] = \"#\"\n",
    "    rows = cave.keys()\n",
    "    y0 = min(rows)\n",
    "    y1 = max(rows)\n",
    "    for y in range(y1, y0-1, -1):\n",
    "        print(\"\".join(cave[y]))\n",
    "    print()"
   ]
  },
  {
   "cell_type": "code",
   "execution_count": 323,
   "metadata": {},
   "outputs": [],
   "source": [
    "jet_pattern = cycle(\">>><<><>><<<>><>>><<<>>><<<><<<>><>><<>>\")\n",
    "\n",
    "cave = make_rows()\n",
    "# make bottom\n",
    "cave[0][0] = \"+\"\n",
    "cave[0][8] = \"+\"\n",
    "for x in range(1, 8):\n",
    "    cave[0][x] = \"-\""
   ]
  },
  {
   "cell_type": "code",
   "execution_count": 324,
   "metadata": {},
   "outputs": [
    {
     "data": {
      "text/plain": [
       "defaultdict(<function __main__.<lambda>()>,\n",
       "            {0: ['+', '-', '-', '-', '-', '-', '-', '-', '+']})"
      ]
     },
     "execution_count": 324,
     "metadata": {},
     "output_type": "execute_result"
    }
   ],
   "source": [
    "cave"
   ]
  },
  {
   "cell_type": "code",
   "execution_count": 325,
   "metadata": {},
   "outputs": [],
   "source": [
    "def print_cave(cave):\n",
    "    rows = cave.keys()\n",
    "    y0 = min(rows)\n",
    "    y1 = max(rows)\n",
    "    for y in range(y1, y0-1, -1):\n",
    "        print(\"\".join(cave[y]))"
   ]
  },
  {
   "cell_type": "code",
   "execution_count": 326,
   "metadata": {},
   "outputs": [],
   "source": [
    "def run_single_rock(cave, rock, pattern):\n",
    "    y = max(cave.keys()) + 4 - min(y for (x, y) in rock)\n",
    "    x = 3\n",
    "    width = max(x for (x, y) in rock)\n",
    "    falling = True\n",
    "    while falling:\n",
    "        blow = next(pattern)\n",
    "        if blow == \"<\":\n",
    "            x1 = x - 1\n",
    "        else:\n",
    "            x1 = x + 1\n",
    "\n",
    "        # test for horizontal movement    \n",
    "        vals = [cave.get(y+dy, empty_row())[x1+dx] for (dx, dy) in rock]\n",
    "        if all(v == '.' for v in vals):\n",
    "            x = x1            \n",
    "        \n",
    "        y1 = y - 1\n",
    "        # use get, so that we do not make new rows without purpose\n",
    "        vals = [cave.get(y1+dy, empty_row())[x+dx] for (dx, dy) in rock]\n",
    "        if all(v == '.' for v in vals):\n",
    "            y = y1\n",
    "        else:\n",
    "            # rock cannot fall anymore to y1\n",
    "            # -> insert it at old y position!\n",
    "            falling = False\n",
    "            for dx, dy in rock:\n",
    "                cave[y+dy][x+dx] = '#'"
   ]
  },
  {
   "cell_type": "code",
   "execution_count": 327,
   "metadata": {},
   "outputs": [
    {
     "data": {
      "text/plain": [
       "3068"
      ]
     },
     "execution_count": 327,
     "metadata": {},
     "output_type": "execute_result"
    }
   ],
   "source": [
    "for i in range(2022):\n",
    "    run_single_rock(cave, next(shapes), jet_pattern)\n",
    "\n",
    "max(cave.keys())"
   ]
  },
  {
   "cell_type": "code",
   "execution_count": 330,
   "metadata": {},
   "outputs": [],
   "source": [
    "# putting it all in one fucntion\n",
    "def part1(pattern):\n",
    "    # we must declare shapes and jet_pattern again to restart the iterator\n",
    "    shapes = cycle([horiz_line, plus_shape, mirror_ell, vertl_line, block_shpe])\n",
    "    jet_pattern = cycle(pattern)\n",
    "\n",
    "    cave = make_rows()\n",
    "    # make bottom\n",
    "    cave[0][0] = \"+\"\n",
    "    cave[0][8] = \"+\"\n",
    "    for x in range(1, 8):\n",
    "        cave[0][x] = \"-\"\n",
    "\n",
    "    for i in range(2022):\n",
    "        run_single_rock(cave, next(shapes), jet_pattern)\n",
    "\n",
    "    return max(cave.keys())\n"
   ]
  },
  {
   "cell_type": "code",
   "execution_count": 334,
   "metadata": {},
   "outputs": [],
   "source": [
    "with open(\"input\") as f:\n",
    "    my_pattern = f.read().strip()"
   ]
  },
  {
   "cell_type": "code",
   "execution_count": 336,
   "metadata": {},
   "outputs": [
    {
     "data": {
      "text/plain": [
       "3163"
      ]
     },
     "execution_count": 336,
     "metadata": {},
     "output_type": "execute_result"
    }
   ],
   "source": [
    "part1(my_pattern)"
   ]
  },
  {
   "cell_type": "code",
   "execution_count": null,
   "metadata": {},
   "outputs": [],
   "source": []
  }
 ],
 "metadata": {
  "kernelspec": {
   "display_name": "Python 3",
   "language": "python",
   "name": "python3"
  },
  "language_info": {
   "codemirror_mode": {
    "name": "ipython",
    "version": 3
   },
   "file_extension": ".py",
   "mimetype": "text/x-python",
   "name": "python",
   "nbconvert_exporter": "python",
   "pygments_lexer": "ipython3",
   "version": "3.11.1"
  },
  "orig_nbformat": 4,
  "vscode": {
   "interpreter": {
    "hash": "aee8b7b246df8f9039afb4144a1f6fd8d2ca17a180786b69acc140d282b71a49"
   }
  }
 },
 "nbformat": 4,
 "nbformat_minor": 2
}
