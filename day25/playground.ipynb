{
 "cells": [
  {
   "cell_type": "code",
   "execution_count": 12,
   "metadata": {},
   "outputs": [],
   "source": [
    "import math"
   ]
  },
  {
   "cell_type": "code",
   "execution_count": 8,
   "metadata": {},
   "outputs": [
    {
     "data": {
      "text/plain": [
       "2022"
      ]
     },
     "execution_count": 8,
     "metadata": {},
     "output_type": "execute_result"
    }
   ],
   "source": [
    "SNAFU = {\n",
    "    '0': 0,\n",
    "    '1': 1,\n",
    "    '2': 2,\n",
    "    '-': -1,\n",
    "    '=': -2\n",
    "}\n",
    "\n",
    "s = \"1=11-2\"\n",
    "sum(SNAFU[c] * val for c, val in zip(s[::-1], (5**n for n in range(len(s)))))"
   ]
  },
  {
   "cell_type": "code",
   "execution_count": 9,
   "metadata": {},
   "outputs": [],
   "source": [
    "def from_SNAFU(s):\n",
    "    return sum(SNAFU[c] * val for c, val in zip(s[::-1], (5**n for n in range(len(s)))))"
   ]
  },
  {
   "cell_type": "code",
   "execution_count": 11,
   "metadata": {},
   "outputs": [
    {
     "data": {
      "text/plain": [
       "314159265"
      ]
     },
     "execution_count": 11,
     "metadata": {},
     "output_type": "execute_result"
    }
   ],
   "source": [
    "x = from_SNAFU(\"1121-1110-1=0\")\n",
    "x"
   ]
  },
  {
   "cell_type": "code",
   "execution_count": 27,
   "metadata": {},
   "outputs": [
    {
     "data": {
      "text/plain": [
       "(7, 7, 12345, 5.853600396135214)"
      ]
     },
     "execution_count": 27,
     "metadata": {},
     "output_type": "execute_result"
    }
   ],
   "source": [
    "s = \"1121-1110-1=0\"\n",
    "s = \"1-0---0\"\n",
    "int(math.log(from_SNAFU(s), 5)) + 2, len(s), from_SNAFU(s), math.log(from_SNAFU(s), 5)"
   ]
  },
  {
   "cell_type": "code",
   "execution_count": 22,
   "metadata": {},
   "outputs": [
    {
     "data": {
      "text/plain": [
       "15625"
      ]
     },
     "execution_count": 22,
     "metadata": {},
     "output_type": "execute_result"
    }
   ],
   "source": [
    "5**6"
   ]
  },
  {
   "attachments": {},
   "cell_type": "markdown",
   "metadata": {},
   "source": [
    "The SNAFU numbers alway start with 1 or 2."
   ]
  },
  {
   "attachments": {},
   "cell_type": "markdown",
   "metadata": {},
   "source": [
    "In \"normal\" number systems, like the decimal system, the first number\n",
    "at a new \"position\" is the lowest number. With that I mean 1000\n",
    "is the smallest number with four decimal places.\n",
    "In the SNAFU system this is not the case: 100 (=25) is larger\n",
    "than 1=0 (=15). This makes the `to_SNAFU` function somewhat tricky."
   ]
  },
  {
   "cell_type": "code",
   "execution_count": 52,
   "metadata": {},
   "outputs": [
    {
     "data": {
      "text/plain": [
       "1562"
      ]
     },
     "execution_count": 52,
     "metadata": {},
     "output_type": "execute_result"
    }
   ],
   "source": [
    "2*5**4 + 2*5**3 + 2*5**2 + 2*5**1 + 2*5**0"
   ]
  },
  {
   "cell_type": "code",
   "execution_count": 55,
   "metadata": {},
   "outputs": [
    {
     "data": {
      "text/plain": [
       "1563"
      ]
     },
     "execution_count": 55,
     "metadata": {},
     "output_type": "execute_result"
    }
   ],
   "source": [
    "# lowest number for 6 digit SNAFU numbers\n",
    "5**5 - 2*5**4 - 2*5**3 - 2*5**2 - 2*5**1 - 2*5**0"
   ]
  },
  {
   "attachments": {},
   "cell_type": "markdown",
   "metadata": {},
   "source": [
    "We can find this number by:"
   ]
  },
  {
   "cell_type": "code",
   "execution_count": 54,
   "metadata": {},
   "outputs": [
    {
     "data": {
      "text/plain": [
       "1562.5"
      ]
     },
     "execution_count": 54,
     "metadata": {},
     "output_type": "execute_result"
    }
   ],
   "source": [
    "5**5 / 2"
   ]
  },
  {
   "attachments": {},
   "cell_type": "markdown",
   "metadata": {},
   "source": [
    "Highest SNAFU number with 6 digits is:"
   ]
  },
  {
   "cell_type": "code",
   "execution_count": 56,
   "metadata": {},
   "outputs": [
    {
     "data": {
      "text/plain": [
       "7812"
      ]
     },
     "execution_count": 56,
     "metadata": {},
     "output_type": "execute_result"
    }
   ],
   "source": [
    "2*5**5 + 2*5**4 + 2*5**3 + 2*5**2 + 2*5**1 + 2*5**0"
   ]
  },
  {
   "cell_type": "code",
   "execution_count": 58,
   "metadata": {},
   "outputs": [
    {
     "data": {
      "text/plain": [
       "7812.5"
      ]
     },
     "execution_count": 58,
     "metadata": {},
     "output_type": "execute_result"
    }
   ],
   "source": [
    "5**6 / 2"
   ]
  },
  {
   "attachments": {},
   "cell_type": "markdown",
   "metadata": {},
   "source": [
    "This formula gives us the number of required SNAFU digits:"
   ]
  },
  {
   "cell_type": "code",
   "execution_count": 80,
   "metadata": {},
   "outputs": [
    {
     "data": {
      "text/plain": [
       "(3, 6, 7)"
      ]
     },
     "execution_count": 80,
     "metadata": {},
     "output_type": "execute_result"
    }
   ],
   "source": [
    "def num_SNAFU_digits(x):\n",
    "    if x == 0:\n",
    "        return 1\n",
    "    return int(math.log(x*2, 5)) + 1\n",
    "\n",
    "num_SNAFU_digits(20), num_SNAFU_digits(2022), num_SNAFU_digits(12345)"
   ]
  },
  {
   "cell_type": "code",
   "execution_count": 156,
   "metadata": {},
   "outputs": [],
   "source": [
    "TO_SNAFU = {\n",
    "    -2: \"=\",\n",
    "    -1: \"-\",\n",
    "    0: \"0\",\n",
    "    1: \"1\",\n",
    "    2: \"2\"\n",
    "}\n",
    "\n",
    "def to_SNAFU(x):\n",
    "    n = num_SNAFU_digits(x)\n",
    "    #rest = x - (x // 5**(n-1)) * 5**(n-1)\n",
    "    digits = [\"0\"] * n\n",
    "    pos = 0\n",
    "    # find the first digit\n",
    "    if x > 3 * 5**(n-1)/2:\n",
    "        d = 2\n",
    "    else:\n",
    "        d = 1\n",
    "    digits[0]= str(d)\n",
    "    rest = x - 5**(n-1) * d\n",
    "    while rest:\n",
    "        pos += 1\n",
    "        d = int(round(rest / 5**(n- 1 -pos)))\n",
    "        digits[pos] = TO_SNAFU[d]\n",
    "        rest -= 5**(n - 1 - pos) * d\n",
    "    return \"\".join(digits)\n",
    "\n",
    "\n",
    "for x in range(1, 12345):\n",
    "    assert (x == from_SNAFU(to_SNAFU(x)))\n"
   ]
  },
  {
   "cell_type": "code",
   "execution_count": 157,
   "metadata": {},
   "outputs": [
    {
     "name": "stdout",
     "output_type": "stream",
     "text": [
      "sum is 30508250415126\n",
      "in SNAFU 2=000=22-0-102=-1001\n"
     ]
    }
   ],
   "source": [
    "with open(\"input\") as f:\n",
    "    nums = []\n",
    "    for line in f.readlines():\n",
    "        line = line.strip()\n",
    "        if line == \"\":\n",
    "            continue\n",
    "        nums.append(from_SNAFU(line))\n",
    "    s = sum(nums)\n",
    "    print(\"sum is\", s)\n",
    "    print(\"in SNAFU\", to_SNAFU(s))"
   ]
  },
  {
   "cell_type": "code",
   "execution_count": null,
   "metadata": {},
   "outputs": [],
   "source": []
  },
  {
   "cell_type": "code",
   "execution_count": null,
   "metadata": {},
   "outputs": [],
   "source": []
  }
 ],
 "metadata": {
  "kernelspec": {
   "display_name": "base",
   "language": "python",
   "name": "python3"
  },
  "language_info": {
   "codemirror_mode": {
    "name": "ipython",
    "version": 3
   },
   "file_extension": ".py",
   "mimetype": "text/x-python",
   "name": "python",
   "nbconvert_exporter": "python",
   "pygments_lexer": "ipython3",
   "version": "3.9.13"
  },
  "orig_nbformat": 4,
  "vscode": {
   "interpreter": {
    "hash": "3bb68e06d3cfdf7edd00f82dd964df66ef3c876d9c0ffb42e0fc76a1de42bb0e"
   }
  }
 },
 "nbformat": 4,
 "nbformat_minor": 2
}
