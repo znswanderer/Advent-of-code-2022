{
 "cells": [
  {
   "cell_type": "raw",
   "metadata": {},
   "source": [
    "--- Day 13: Distress Signal ---\n",
    "\n",
    "You climb the hill and again try contacting the Elves. However, you instead receive a signal you weren't expecting: a distress signal.\n",
    "\n",
    "Your handheld device must still not be working properly; the packets from the distress signal got decoded out of order. You'll need to re-order the list of received packets (your puzzle input) to decode the message.\n",
    "\n",
    "Your list consists of pairs of packets; pairs are separated by a blank line. You need to identify how many pairs of packets are in the right order.\n",
    "\n",
    "For example:\n",
    "\n",
    "[1,1,3,1,1]\n",
    "[1,1,5,1,1]\n",
    "\n",
    "[[1],[2,3,4]]\n",
    "[[1],4]\n",
    "\n",
    "[9]\n",
    "[[8,7,6]]\n",
    "\n",
    "[[4,4],4,4]\n",
    "[[4,4],4,4,4]\n",
    "\n",
    "[7,7,7,7]\n",
    "[7,7,7]\n",
    "\n",
    "[]\n",
    "[3]\n",
    "\n",
    "[[[]]]\n",
    "[[]]\n",
    "\n",
    "[1,[2,[3,[4,[5,6,7]]]],8,9]\n",
    "[1,[2,[3,[4,[5,6,0]]]],8,9]\n",
    "\n",
    "Packet data consists of lists and integers. Each list starts with [, ends with ], and contains zero or more comma-separated values (either integers or other lists). Each packet is always a list and appears on its own line.\n",
    "\n",
    "When comparing two values, the first value is called left and the second value is called right. Then:\n",
    "\n",
    "    If both values are integers, the lower integer should come first. If the left integer is lower than the right integer, the inputs are in the right order. If the left integer is higher than the right integer, the inputs are not in the right order. Otherwise, the inputs are the same integer; continue checking the next part of the input.\n",
    "    If both values are lists, compare the first value of each list, then the second value, and so on. If the left list runs out of items first, the inputs are in the right order. If the right list runs out of items first, the inputs are not in the right order. If the lists are the same length and no comparison makes a decision about the order, continue checking the next part of the input.\n",
    "    If exactly one value is an integer, convert the integer to a list which contains that integer as its only value, then retry the comparison. For example, if comparing [0,0,0] and 2, convert the right value to [2] (a list containing 2); the result is then found by instead comparing [0,0,0] and [2].\n",
    "\n",
    "Using these rules, you can determine which of the pairs in the example are in the right order:\n",
    "\n",
    "== Pair 1 ==\n",
    "- Compare [1,1,3,1,1] vs [1,1,5,1,1]\n",
    "  - Compare 1 vs 1\n",
    "  - Compare 1 vs 1\n",
    "  - Compare 3 vs 5\n",
    "    - Left side is smaller, so inputs are in the right order\n",
    "\n",
    "== Pair 2 ==\n",
    "- Compare [[1],[2,3,4]] vs [[1],4]\n",
    "  - Compare [1] vs [1]\n",
    "    - Compare 1 vs 1\n",
    "  - Compare [2,3,4] vs 4\n",
    "    - Mixed types; convert right to [4] and retry comparison\n",
    "    - Compare [2,3,4] vs [4]\n",
    "      - Compare 2 vs 4\n",
    "        - Left side is smaller, so inputs are in the right order\n",
    "\n",
    "== Pair 3 ==\n",
    "- Compare [9] vs [[8,7,6]]\n",
    "  - Compare 9 vs [8,7,6]\n",
    "    - Mixed types; convert left to [9] and retry comparison\n",
    "    - Compare [9] vs [8,7,6]\n",
    "      - Compare 9 vs 8\n",
    "        - Right side is smaller, so inputs are not in the right order\n",
    "\n",
    "== Pair 4 ==\n",
    "- Compare [[4,4],4,4] vs [[4,4],4,4,4]\n",
    "  - Compare [4,4] vs [4,4]\n",
    "    - Compare 4 vs 4\n",
    "    - Compare 4 vs 4\n",
    "  - Compare 4 vs 4\n",
    "  - Compare 4 vs 4\n",
    "  - Left side ran out of items, so inputs are in the right order\n",
    "\n",
    "== Pair 5 ==\n",
    "- Compare [7,7,7,7] vs [7,7,7]\n",
    "  - Compare 7 vs 7\n",
    "  - Compare 7 vs 7\n",
    "  - Compare 7 vs 7\n",
    "  - Right side ran out of items, so inputs are not in the right order\n",
    "\n",
    "== Pair 6 ==\n",
    "- Compare [] vs [3]\n",
    "  - Left side ran out of items, so inputs are in the right order\n",
    "\n",
    "== Pair 7 ==\n",
    "- Compare [[[]]] vs [[]]\n",
    "  - Compare [[]] vs []\n",
    "    - Right side ran out of items, so inputs are not in the right order\n",
    "\n",
    "== Pair 8 ==\n",
    "- Compare [1,[2,[3,[4,[5,6,7]]]],8,9] vs [1,[2,[3,[4,[5,6,0]]]],8,9]\n",
    "  - Compare 1 vs 1\n",
    "  - Compare [2,[3,[4,[5,6,7]]]] vs [2,[3,[4,[5,6,0]]]]\n",
    "    - Compare 2 vs 2\n",
    "    - Compare [3,[4,[5,6,7]]] vs [3,[4,[5,6,0]]]\n",
    "      - Compare 3 vs 3\n",
    "      - Compare [4,[5,6,7]] vs [4,[5,6,0]]\n",
    "        - Compare 4 vs 4\n",
    "        - Compare [5,6,7] vs [5,6,0]\n",
    "          - Compare 5 vs 5\n",
    "          - Compare 6 vs 6\n",
    "          - Compare 7 vs 0\n",
    "            - Right side is smaller, so inputs are not in the right order\n",
    "\n",
    "What are the indices of the pairs that are already in the right order? (The first pair has index 1, the second pair has index 2, and so on.) In the above example, the pairs in the right order are 1, 2, 4, and 6; the sum of these indices is 13.\n",
    "\n",
    "Determine which pairs of packets are already in the right order. What is the sum of the indices of those pairs?"
   ]
  },
  {
   "cell_type": "code",
   "execution_count": 38,
   "metadata": {},
   "outputs": [
    {
     "name": "stdout",
     "output_type": "stream",
     "text": [
      "True\n",
      "False\n",
      "True\n",
      "True\n"
     ]
    }
   ],
   "source": [
    "for a in eval(\"[1,[2,[3,[4,[5,6,7]]]],8,9]\"): print(isinstance(a, int))"
   ]
  },
  {
   "cell_type": "code",
   "execution_count": 2,
   "metadata": {},
   "outputs": [],
   "source": [
    "def read_block(s):\n",
    "    pass"
   ]
  },
  {
   "cell_type": "code",
   "execution_count": 3,
   "metadata": {},
   "outputs": [],
   "source": [
    "s = \"\"\"[[1],[2,3,4]]\n",
    "[[1],4]\"\"\"\n",
    "l1, l2 = [eval(line) for line in s.splitlines()]"
   ]
  },
  {
   "cell_type": "code",
   "execution_count": 68,
   "metadata": {},
   "outputs": [
    {
     "data": {
      "text/plain": [
       "[0]"
      ]
     },
     "execution_count": 68,
     "metadata": {},
     "output_type": "execute_result"
    }
   ],
   "source": [
    "x = [0,1,2,3]\n",
    "x[:1]"
   ]
  },
  {
   "cell_type": "code",
   "execution_count": 69,
   "metadata": {},
   "outputs": [],
   "source": [
    "def elf_comp(x, y):\n",
    "    if isinstance(x, list) and isinstance(y, list):\n",
    "        if len(x) > len(y):\n",
    "            return False\n",
    "        else:\n",
    "            return all(elf_comp(a, b) for (a,b) in zip(x, y))\n",
    "    elif isinstance(x, list):\n",
    "        return elf_comp(x[:1], [y])\n",
    "    elif isinstance(y, list):\n",
    "        return elf_comp([x], y[:1])\n",
    "    else:\n",
    "        return x <= y"
   ]
  },
  {
   "cell_type": "code",
   "execution_count": 77,
   "metadata": {},
   "outputs": [],
   "source": [
    "END = \"E\"\n",
    "\n",
    "RIGHT_ORDER = \"RO\"\n",
    "FALSE_ORDER = \"FO\"\n",
    "UNDECIDED = \"UN\"\n",
    "\n",
    "def elfie(x, y):\n",
    "    # x and y are lists\n",
    "    for l, r in zip(x + [END],y + [END]):\n",
    "        if isinstance(r, int) and isinstance(l, int):\n",
    "            # If both values are integers, the lower integer should come first. \n",
    "            # If the left integer is lower than the right integer, the inputs\n",
    "            # are in the right order. If the left integer is higher than the\n",
    "            # right integer, the inputs are not in the right order.\n",
    "            # Otherwise, the inputs are the same integer; \n",
    "            # continue checking the next part of the input.\n",
    "            if l < r:\n",
    "                # - Left side is smaller, so inputs are in the right order\n",
    "                return RIGHT_ORDER\n",
    "            elif r < l:\n",
    "                # - Right side is smaller, so inputs are not in the right order\n",
    "                return FALSE_ORDER\n",
    "            else:\n",
    "                # the inputs are the same integer; continue checking the next part of the input.\n",
    "                continue\n",
    "                \n",
    "        if r == END and l != END:\n",
    "            #  - Right side ran out of items, so inputs are not in the right order\n",
    "            return FALSE_ORDER\n",
    "        \n",
    "        if l == END and r != END:\n",
    "            # - Left side ran out of items, so inputs are in the right order\n",
    "            return RIGHT_ORDER\n",
    "        \n",
    "        if l == END and r == END:\n",
    "            return UNDECIDED\n",
    "        \n",
    "        if isinstance(l, list) and isinstance(r, list):\n",
    "            \"\"\"If both values are lists, compare the first value of each list, \n",
    "            then the second value, and so on. If the left list runs out of items first, \n",
    "            the inputs are in the right order. If the right list runs out of items first, \n",
    "            the inputs are not in the right order. If the lists are the same length \n",
    "            and no comparison makes a decision about the order, continue checking the \n",
    "            next part of the input.\n",
    "            \"\"\"\n",
    "            res = elfie(l, r)\n",
    "            if res == UNDECIDED:\n",
    "                continue\n",
    "            else:\n",
    "                return res\n",
    "            \n",
    "        if isinstance(l, int) and isinstance(r, list):\n",
    "            res = elfie([l], r)\n",
    "            if res == UNDECIDED:\n",
    "                continue\n",
    "            else:\n",
    "                return res\n",
    "            \n",
    "        if isinstance(l, list) and isinstance(r, int):\n",
    "            res = elfie(l, [r])\n",
    "            if res == UNDECIDED:\n",
    "                continue\n",
    "            else:\n",
    "                return res\n"
   ]
  },
  {
   "cell_type": "code",
   "execution_count": 78,
   "metadata": {},
   "outputs": [
    {
     "data": {
      "text/plain": [
       "'FO'"
      ]
     },
     "execution_count": 78,
     "metadata": {},
     "output_type": "execute_result"
    }
   ],
   "source": [
    "elfie([3,3], [3])"
   ]
  },
  {
   "cell_type": "code",
   "execution_count": 30,
   "metadata": {},
   "outputs": [
    {
     "data": {
      "text/plain": [
       "([1, 2, 3, 'E'], [1, 2, 3])"
      ]
     },
     "execution_count": 30,
     "metadata": {},
     "output_type": "execute_result"
    }
   ],
   "source": [
    "l1 + [\"E\"], l1"
   ]
  },
  {
   "cell_type": "code",
   "execution_count": 79,
   "metadata": {},
   "outputs": [],
   "source": [
    "example = \"\"\"[1,1,3,1,1]\n",
    "[1,1,5,1,1]\n",
    "\n",
    "[[1],[2,3,4]]\n",
    "[[1],4]\n",
    "\n",
    "[9]\n",
    "[[8,7,6]]\n",
    "\n",
    "[[4,4],4,4]\n",
    "[[4,4],4,4,4]\n",
    "\n",
    "[7,7,7,7]\n",
    "[7,7,7]\n",
    "\n",
    "[]\n",
    "[3]\n",
    "\n",
    "[[[]]]\n",
    "[[]]\n",
    "\n",
    "[1,[2,[3,[4,[5,6,7]]]],8,9]\n",
    "[1,[2,[3,[4,[5,6,0]]]],8,9]\"\"\""
   ]
  },
  {
   "cell_type": "code",
   "execution_count": 80,
   "metadata": {},
   "outputs": [],
   "source": [
    "def read(s):\n",
    "    \"\"\"Read the string s and yield a tuple of the inputs.\n",
    "    ATTENTION: uses *eval()*!\n",
    "    \"\"\"\n",
    "    cur = iter(s.splitlines())\n",
    "    while cur:\n",
    "        try:\n",
    "            l1 = \"\"\n",
    "            while l1 == \"\":\n",
    "                l1 = next(cur).strip()\n",
    "            l2 = next(cur).strip()\n",
    "            yield (eval(l1), eval(l2))\n",
    "        except StopIteration:\n",
    "            break\n",
    "        "
   ]
  },
  {
   "cell_type": "code",
   "execution_count": 81,
   "metadata": {},
   "outputs": [
    {
     "data": {
      "text/plain": [
       "[([1, 1, 3, 1, 1], [1, 1, 5, 1, 1]),\n",
       " ([[1], [2, 3, 4]], [[1], 4]),\n",
       " ([9], [[8, 7, 6]]),\n",
       " ([[4, 4], 4, 4], [[4, 4], 4, 4, 4]),\n",
       " ([7, 7, 7, 7], [7, 7, 7]),\n",
       " ([], [3]),\n",
       " ([[[]]], [[]]),\n",
       " ([1, [2, [3, [4, [5, 6, 7]]]], 8, 9], [1, [2, [3, [4, [5, 6, 0]]]], 8, 9])]"
      ]
     },
     "execution_count": 81,
     "metadata": {},
     "output_type": "execute_result"
    }
   ],
   "source": [
    "list(read(example))"
   ]
  },
  {
   "cell_type": "code",
   "execution_count": 83,
   "metadata": {},
   "outputs": [],
   "source": [
    "def run_string(s, output=False):\n",
    "    right_indices = []\n",
    "    for i, (a, b) in enumerate(read(s)):\n",
    "        if output: \n",
    "            print(\"== Pair %d ==\" % (i+1))\n",
    "            print(a)\n",
    "            print(b)\n",
    "        res = elfie(a, b)\n",
    "        if output: print(res)\n",
    "        if res == RIGHT_ORDER: right_indices.append(i+1)\n",
    "        if output: print()\n",
    "        \n",
    "    return right_indices"
   ]
  },
  {
   "cell_type": "code",
   "execution_count": 84,
   "metadata": {},
   "outputs": [
    {
     "name": "stdout",
     "output_type": "stream",
     "text": [
      "== Pair 1 ==\n",
      "[1, 1, 3, 1, 1]\n",
      "[1, 1, 5, 1, 1]\n",
      "RO\n",
      "\n",
      "== Pair 2 ==\n",
      "[[1], [2, 3, 4]]\n",
      "[[1], 4]\n",
      "RO\n",
      "\n",
      "== Pair 3 ==\n",
      "[9]\n",
      "[[8, 7, 6]]\n",
      "FO\n",
      "\n",
      "== Pair 4 ==\n",
      "[[4, 4], 4, 4]\n",
      "[[4, 4], 4, 4, 4]\n",
      "RO\n",
      "\n",
      "== Pair 5 ==\n",
      "[7, 7, 7, 7]\n",
      "[7, 7, 7]\n",
      "FO\n",
      "\n",
      "== Pair 6 ==\n",
      "[]\n",
      "[3]\n",
      "RO\n",
      "\n",
      "== Pair 7 ==\n",
      "[[[]]]\n",
      "[[]]\n",
      "FO\n",
      "\n",
      "== Pair 8 ==\n",
      "[1, [2, [3, [4, [5, 6, 7]]]], 8, 9]\n",
      "[1, [2, [3, [4, [5, 6, 0]]]], 8, 9]\n",
      "FO\n",
      "\n"
     ]
    },
    {
     "data": {
      "text/plain": [
       "[1, 2, 4, 6]"
      ]
     },
     "execution_count": 84,
     "metadata": {},
     "output_type": "execute_result"
    }
   ],
   "source": [
    "run_string(example, output=True)"
   ]
  },
  {
   "cell_type": "code",
   "execution_count": 85,
   "metadata": {},
   "outputs": [
    {
     "data": {
      "text/plain": [
       "[1, [2, [3, [4, [5, 6, 0]]]], 8, 9]"
      ]
     },
     "execution_count": 85,
     "metadata": {},
     "output_type": "execute_result"
    }
   ],
   "source": [
    "# %load \"example\"\n",
    "[1,1,3,1,1]\n",
    "[1,1,5,1,1]\n",
    "\n",
    "[[1],[2,3,4]]\n",
    "[[1],4]\n",
    "\n",
    "[9]\n",
    "[[8,7,6]]\n",
    "\n",
    "[[4,4],4,4]\n",
    "[[4,4],4,4,4]\n",
    "\n",
    "[7,7,7,7]\n",
    "[7,7,7]\n",
    "\n",
    "[]\n",
    "[3]\n",
    "\n",
    "[[[]]]\n",
    "[[]]\n",
    "\n",
    "[1,[2,[3,[4,[5,6,7]]]],8,9]\n",
    "[1,[2,[3,[4,[5,6,0]]]],8,9]"
   ]
  },
  {
   "cell_type": "code",
   "execution_count": 170,
   "metadata": {},
   "outputs": [],
   "source": [
    "with open(\"../input\") as f:\n",
    "    s_input = f.read()"
   ]
  },
  {
   "cell_type": "code",
   "execution_count": 171,
   "metadata": {},
   "outputs": [],
   "source": [
    "r = run_string(s_input)"
   ]
  },
  {
   "cell_type": "code",
   "execution_count": 172,
   "metadata": {},
   "outputs": [
    {
     "data": {
      "text/plain": [
       "[2,\n",
       " 4,\n",
       " 5,\n",
       " 6,\n",
       " 8,\n",
       " 11,\n",
       " 12,\n",
       " 15,\n",
       " 17,\n",
       " 18,\n",
       " 19,\n",
       " 20,\n",
       " 22,\n",
       " 23,\n",
       " 24,\n",
       " 26,\n",
       " 29,\n",
       " 34,\n",
       " 35,\n",
       " 36,\n",
       " 40,\n",
       " 41,\n",
       " 42,\n",
       " 43,\n",
       " 45,\n",
       " 48,\n",
       " 49,\n",
       " 50,\n",
       " 55,\n",
       " 56,\n",
       " 63,\n",
       " 66,\n",
       " 68,\n",
       " 73,\n",
       " 76,\n",
       " 78,\n",
       " 79,\n",
       " 80,\n",
       " 85,\n",
       " 86,\n",
       " 87,\n",
       " 89,\n",
       " 91,\n",
       " 92,\n",
       " 94,\n",
       " 95,\n",
       " 97,\n",
       " 98,\n",
       " 99,\n",
       " 100,\n",
       " 106,\n",
       " 108,\n",
       " 109,\n",
       " 110,\n",
       " 111,\n",
       " 112,\n",
       " 116,\n",
       " 117,\n",
       " 119,\n",
       " 121,\n",
       " 123,\n",
       " 124,\n",
       " 126,\n",
       " 129,\n",
       " 130,\n",
       " 131,\n",
       " 132,\n",
       " 133,\n",
       " 139,\n",
       " 140,\n",
       " 144,\n",
       " 147,\n",
       " 148,\n",
       " 149]"
      ]
     },
     "execution_count": 172,
     "metadata": {},
     "output_type": "execute_result"
    }
   ],
   "source": [
    "r"
   ]
  },
  {
   "cell_type": "code",
   "execution_count": 173,
   "metadata": {},
   "outputs": [
    {
     "data": {
      "text/plain": [
       "5555"
      ]
     },
     "execution_count": 173,
     "metadata": {},
     "output_type": "execute_result"
    }
   ],
   "source": [
    "sum(r)"
   ]
  },
  {
   "cell_type": "raw",
   "metadata": {},
   "source": [
    "--- Part Two ---\n",
    "\n",
    "Now, you just need to put all of the packets in the right order. Disregard the blank lines in your list of received packets.\n",
    "\n",
    "The distress signal protocol also requires that you include two additional divider packets:\n",
    "\n",
    "[[2]]\n",
    "[[6]]\n",
    "\n",
    "Using the same rules as before, organize all packets - the ones in your list of received packets as well as the two divider packets - into the correct order.\n",
    "\n",
    "For the example above, the result of putting the packets in the correct order is:\n",
    "\n",
    "[]\n",
    "[[]]\n",
    "[[[]]]\n",
    "[1,1,3,1,1]\n",
    "[1,1,5,1,1]\n",
    "[[1],[2,3,4]]\n",
    "[1,[2,[3,[4,[5,6,0]]]],8,9]\n",
    "[1,[2,[3,[4,[5,6,7]]]],8,9]\n",
    "[[1],4]\n",
    "[[2]]\n",
    "[3]\n",
    "[[4,4],4,4]\n",
    "[[4,4],4,4,4]\n",
    "[[6]]\n",
    "[7,7,7]\n",
    "[7,7,7,7]\n",
    "[[8,7,6]]\n",
    "[9]\n",
    "\n",
    "Afterward, locate the divider packets. To find the decoder key for this distress signal, you need to determine the indices of the two divider packets and multiply them together. (The first packet is at index 1, the second packet is at index 2, and so on.) In this example, the divider packets are 10th and 14th, and so the decoder key is 140.\n",
    "\n",
    "Organize all of the packets into the correct order. What is the decoder key for the distress signal?\n"
   ]
  },
  {
   "cell_type": "code",
   "execution_count": 174,
   "metadata": {},
   "outputs": [],
   "source": [
    "from functools import cmp_to_key"
   ]
  },
  {
   "cell_type": "code",
   "execution_count": 175,
   "metadata": {},
   "outputs": [],
   "source": [
    "# https://docs.python.org/3.8/howto/sorting.html#the-old-way-using-the-cmp-parameter\n",
    "\n",
    "def cmp_elfie(r, l):\n",
    "    if elfie(r, l) == RIGHT_ORDER:\n",
    "        return -1\n",
    "    if elfie(r, l) == FALSE_ORDER:\n",
    "        return 1\n",
    "    else:\n",
    "        return 0\n",
    "    \n",
    "elfie_key = cmp_to_key(cmp_elfie)"
   ]
  },
  {
   "cell_type": "code",
   "execution_count": 176,
   "metadata": {},
   "outputs": [],
   "source": [
    "def part2(s):\n",
    "    xs = [eval(x) for x in s.splitlines() if x.strip() != \"\"]\n",
    "    divider = ([[2]], [[6]])\n",
    "    xs.extend(divider)\n",
    "    res = sorted(xs, key=elfie_key)\n",
    "    loc1, loc2 = [res.index(d) + 1 for d in divider]\n",
    "    return loc1 * loc2"
   ]
  },
  {
   "cell_type": "code",
   "execution_count": 177,
   "metadata": {},
   "outputs": [
    {
     "data": {
      "text/plain": [
       "140"
      ]
     },
     "execution_count": 177,
     "metadata": {},
     "output_type": "execute_result"
    }
   ],
   "source": [
    "part2(example)"
   ]
  },
  {
   "cell_type": "code",
   "execution_count": 178,
   "metadata": {},
   "outputs": [
    {
     "data": {
      "text/plain": [
       "22852"
      ]
     },
     "execution_count": 178,
     "metadata": {},
     "output_type": "execute_result"
    }
   ],
   "source": [
    "part2(s_input)"
   ]
  },
  {
   "cell_type": "code",
   "execution_count": null,
   "metadata": {},
   "outputs": [],
   "source": []
  }
 ],
 "metadata": {
  "kernelspec": {
   "display_name": "Python 3 (ipykernel)",
   "language": "python",
   "name": "python3"
  },
  "language_info": {
   "codemirror_mode": {
    "name": "ipython",
    "version": 3
   },
   "file_extension": ".py",
   "mimetype": "text/x-python",
   "name": "python",
   "nbconvert_exporter": "python",
   "pygments_lexer": "ipython3",
   "version": "3.8.13"
  },
  "vscode": {
   "interpreter": {
    "hash": "3bb68e06d3cfdf7edd00f82dd964df66ef3c876d9c0ffb42e0fc76a1de42bb0e"
   }
  }
 },
 "nbformat": 4,
 "nbformat_minor": 4
}
