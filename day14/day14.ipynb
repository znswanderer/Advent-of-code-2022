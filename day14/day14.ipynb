{
 "cells": [
  {
   "cell_type": "markdown",
   "id": "7f6b6660-532b-4a1d-a44d-2b14453b81cc",
   "metadata": {},
   "source": [
    "# Day 14: Regolith Reservoir\n",
    "\n",
    "The distress signal leads you to a giant waterfall! Actually, hang on - the signal seems like it's coming from the waterfall itself, and that doesn't make any sense. However, you do notice a little path that leads behind the waterfall.\n",
    "\n",
    "Correction: the distress signal leads you behind a giant waterfall! There seems to be a large cave system here, and the signal definitely leads further inside.\n",
    "\n",
    "As you begin to make your way deeper underground, you feel the ground rumble for a moment. Sand begins pouring into the cave! If you don't quickly figure out where the sand is going, you could quickly become trapped!\n",
    "\n",
    "Fortunately, your familiarity with analyzing the path of falling material will come in handy here. You scan a two-dimensional vertical slice of the cave above you (your puzzle input) and discover that it is mostly air with structures made of rock.\n",
    "\n",
    "Your scan traces the path of each solid rock structure and reports the x,y coordinates that form the shape of the path, where x represents distance to the right and y represents distance down. Each path appears as a single line of text in your scan. After the first point of each path, each point indicates the end of a straight horizontal or vertical line to be drawn from the previous point. For example:\n",
    "\n",
    "```\n",
    "498,4 -> 498,6 -> 496,6\n",
    "503,4 -> 502,4 -> 502,9 -> 494,9\n",
    "```\n",
    "\n",
    "This scan means that there are two paths of rock; the first path consists of two straight lines, and the second path consists of three straight lines. (Specifically, the first path consists of a line of rock from 498,4 through 498,6 and another line of rock from 498,6 through 496,6.)"
   ]
  },
  {
   "cell_type": "code",
   "execution_count": 3,
   "id": "1fc6d19f-cc5f-471c-b053-b3412ad03139",
   "metadata": {},
   "outputs": [],
   "source": [
    "EXAMPLE = \"\"\"\n",
    "498,4 -> 498,6 -> 496,6\n",
    "503,4 -> 502,4 -> 502,9 -> 494,9\"\"\""
   ]
  },
  {
   "cell_type": "code",
   "execution_count": 344,
   "id": "0c510088-2402-4233-ac0e-6f2b48a7165a",
   "metadata": {},
   "outputs": [],
   "source": [
    "ROCK = \"#\"\n",
    "SAND = \"o\"\n",
    "AIR = \".\"\n",
    "START = \"+\"\n",
    "START_POS = (500, 0)\n",
    "\n",
    "def read_puzzle(s):\n",
    "    m = {START_POS: START}\n",
    "    for line in s.splitlines():\n",
    "        parts = line.split(\" -> \")\n",
    "        for p0, p1 in zip(parts, parts[1:]):\n",
    "            insert_rocks(m, p0, p1)\n",
    "    return m\n",
    "\n",
    "def pm_range(n):\n",
    "    # The +1 is so that in the case of x0 == x1 we get dx in [0]\n",
    "    if n >= 0:\n",
    "        return range(n + 1)\n",
    "    else:\n",
    "        return range(0, n - 1, -1)\n",
    "            \n",
    "def insert_rocks(m, p0, p1):\n",
    "    x0, y0 = [int(s) for s in p0.split(\",\")]\n",
    "    x1, y1 = [int(s) for s in p1.split(\",\")]\n",
    "    # This double loop gives only the correct result if there are\n",
    "    # no diagonal paths. \n",
    "    for dx in pm_range(x1 - x0):\n",
    "        for dy in pm_range(y1 - y0):\n",
    "            m[x0 + dx, y0 + dy] = ROCK"
   ]
  },
  {
   "cell_type": "code",
   "execution_count": 345,
   "id": "0befcd3d-9139-4d3e-92b5-4d8d9437221d",
   "metadata": {},
   "outputs": [],
   "source": [
    "class Cave:\n",
    "    def __init__(self, d):\n",
    "        self.d = d\n",
    "        self._dims = ((self._xmin, self._xmax), (self._ymin, self._ymax)) = self.dimensions()\n",
    "        \n",
    "    def get(self, pos):\n",
    "        return self.d.get(pos, AIR)\n",
    "    \n",
    "    def set(self, pos, val):\n",
    "        assert self.contains(pos)\n",
    "        self.d[pos] = val\n",
    "    \n",
    "    def contains(self, pos):\n",
    "        \"\"\"See if pos is inside cave.\n",
    "        \"\"\"\n",
    "        x, y = pos\n",
    "        return (self._ymin <= y <= self._ymax) and (self._xmin <= x <= self._xmax)\n",
    "        \n",
    "    def dimensions(self):\n",
    "        xs, ys = zip(*self.d.keys()) # thanks to https://stackoverflow.com/a/19343/20773725\n",
    "        ymin, ymax = min(ys), max(ys)\n",
    "        xmin, xmax = min(xs), max(xs)\n",
    "        return ((xmin, xmax), (ymin, ymax))"
   ]
  },
  {
   "cell_type": "code",
   "execution_count": 346,
   "id": "5df30087-979c-4dc9-8995-2256b48e8c1e",
   "metadata": {},
   "outputs": [],
   "source": [
    "m = Cave(read_puzzle(EXAMPLE))"
   ]
  },
  {
   "cell_type": "code",
   "execution_count": 347,
   "id": "105c542f-6da9-428a-bd2c-abb26bbed57e",
   "metadata": {},
   "outputs": [],
   "source": [
    "def print_maze(m):\n",
    "    ((xmin, xmax), (ymin, ymax)) = m.dimensions()\n",
    "    for y in range(ymin, ymax + 1):\n",
    "        for x in range(xmin, xmax + 1):\n",
    "            val = m.get((x, y))\n",
    "            if val == ROCK:\n",
    "                print(\"#\", end=\"\")\n",
    "            elif val == SAND:\n",
    "                print(\"o\", end=\"\")\n",
    "            elif val == START:\n",
    "                print(\"+\", end=\"\")                \n",
    "            else:\n",
    "                print(\".\", end=\"\")\n",
    "        print()"
   ]
  },
  {
   "cell_type": "code",
   "execution_count": 348,
   "id": "718f1630-25e4-49ea-9744-18ab40afd81e",
   "metadata": {},
   "outputs": [
    {
     "name": "stdout",
     "output_type": "stream",
     "text": [
      "......+...\n",
      "..........\n",
      "..........\n",
      "..........\n",
      "....#...##\n",
      "....#...#.\n",
      "..###...#.\n",
      "........#.\n",
      "........#.\n",
      "#########.\n"
     ]
    }
   ],
   "source": [
    "print_maze(m)"
   ]
  },
  {
   "cell_type": "markdown",
   "id": "2d936868-590d-4aae-94a6-a71c345056d4",
   "metadata": {},
   "source": [
    "The sand is pouring into the cave from point 500,0.\n",
    "\n",
    "Drawing rock as #, air as ., and the source of the sand as +, this becomes:\n",
    "\n",
    "```\n",
    "  4     5  5\n",
    "  9     0  0\n",
    "  4     0  3\n",
    "0 ......+...\n",
    "1 ..........\n",
    "2 ..........\n",
    "3 ..........\n",
    "4 ....#...##\n",
    "5 ....#...#.\n",
    "6 ..###...#.\n",
    "7 ........#.\n",
    "8 ........#.\n",
    "9 #########.\n",
    "```\n",
    "\n",
    "Sand is produced one unit at a time, and the next unit of sand is not produced until the previous unit of sand comes to rest. A unit of sand is large enough to fill one tile of air in your scan.\n",
    "\n",
    "A unit of sand always falls down one step if possible. If the tile immediately below is blocked (by rock or sand), the unit of sand attempts to instead move diagonally one step down and to the left. If that tile is blocked, the unit of sand attempts to instead move diagonally one step down and to the right. Sand keeps moving as long as it is able to do so, at each step trying to move down, then down-left, then down-right. If all three possible destinations are blocked, the unit of sand comes to rest and no longer moves, at which point the next unit of sand is created back at the source."
   ]
  },
  {
   "cell_type": "code",
   "execution_count": 349,
   "id": "61acab36-bd31-49a0-9e3a-b2d7f4635c58",
   "metadata": {},
   "outputs": [],
   "source": [
    "def fall_sand(m):\n",
    "    \"\"\"One unit of sand starts falling from START_POS.\n",
    "    Modifies *m*.\n",
    "    Returns final position of unit of sand if it could be placed.\n",
    "    None otherwise.\n",
    "    \"\"\"\n",
    "    (y, x) = START_POS\n",
    "    while True:\n",
    "        # Try all three directions\n",
    "        for p in [(y, x+1), (y-1, x+1), (y+1, x+1)]:\n",
    "            val = m.get(p)\n",
    "            if not m.contains(p):\n",
    "                # outside of cave this choice is taken and the unit enters the void\n",
    "                break\n",
    "            elif val in (AIR, START):\n",
    "                # Valid move -> try next round\n",
    "                break\n",
    "            elif val in (ROCK, SAND):\n",
    "                # try next move\n",
    "                continue\n",
    "            else:\n",
    "                raise Exception(\"What happens at (%d, %d)?\" % (y, x))\n",
    "\n",
    "        if not m.contains(p):\n",
    "            return None\n",
    "        elif m.get(p) == AIR:\n",
    "            # Valid move -> try next round\n",
    "            (y, x) = p\n",
    "            continue\n",
    "        else:\n",
    "            # Could not find a valid move. Deposit unit of sand at last pos\n",
    "            m.set((y, x), SAND)\n",
    "            return (y, x)"
   ]
  },
  {
   "cell_type": "markdown",
   "id": "7ba2eb18-8e00-4eb8-b766-a64c7f907544",
   "metadata": {},
   "source": [
    "So, drawing sand that has come to rest as o, the first unit of sand simply falls straight down and then stops:\n",
    "\n",
    "```\n",
    "......+...\n",
    "..........\n",
    "..........\n",
    "..........\n",
    "....#...##\n",
    "....#...#.\n",
    "..###...#.\n",
    "........#.\n",
    "......o.#.\n",
    "#########.\n",
    "```\n",
    "\n",
    "The second unit of sand then falls straight down, lands on the first one, and then comes to rest to its left:\n",
    "\n",
    "```\n",
    "......+...\n",
    "..........\n",
    "..........\n",
    "..........\n",
    "....#...##\n",
    "....#...#.\n",
    "..###...#.\n",
    "........#.\n",
    ".....oo.#.\n",
    "#########.\n",
    "```\n",
    "\n",
    "After a total of five units of sand have come to rest, they form this pattern:\n",
    "\n",
    "```\n",
    "......+...\n",
    "..........\n",
    "..........\n",
    "..........\n",
    "....#...##\n",
    "....#...#.\n",
    "..###...#.\n",
    "......o.#.\n",
    "....oooo#.\n",
    "#########.\n",
    "```\n",
    "\n",
    "After a total of 22 units of sand:\n",
    "\n",
    "```\n",
    "......+...\n",
    "..........\n",
    "......o...\n",
    ".....ooo..\n",
    "....#ooo##\n",
    "....#ooo#.\n",
    "..###ooo#.\n",
    "....oooo#.\n",
    "...ooooo#.\n",
    "#########.\n",
    "```"
   ]
  },
  {
   "cell_type": "code",
   "execution_count": 350,
   "id": "4ca4dca0-85f7-4261-9fc3-cac35b021bf4",
   "metadata": {},
   "outputs": [
    {
     "name": "stdout",
     "output_type": "stream",
     "text": [
      "......+...\n",
      "..........\n",
      "......o...\n",
      ".....ooo..\n",
      "....#ooo##\n",
      "...o#ooo#.\n",
      "..###ooo#.\n",
      "....oooo#.\n",
      ".o.ooooo#.\n",
      "#########.\n"
     ]
    }
   ],
   "source": [
    "while fall_sand(m):\n",
    "    pass\n",
    "\n",
    "print_maze(m)"
   ]
  },
  {
   "cell_type": "markdown",
   "id": "c79548f7-fd4f-4704-a4ce-9e6d107aa4b5",
   "metadata": {},
   "source": [
    "Finally, only two more units of sand can possibly come to rest:\n",
    "\n",
    "```\n",
    "......+...\n",
    "..........\n",
    "......o...\n",
    ".....ooo..\n",
    "....#ooo##\n",
    "...o#ooo#.\n",
    "..###ooo#.\n",
    "....oooo#.\n",
    ".o.ooooo#.\n",
    "#########.\n",
    "```\n",
    "\n",
    "Once all 24 units of sand shown above have come to rest, all further sand flows out the bottom, falling into the endless void. Just for fun, the path any new sand takes before falling forever is shown here with ~:\n",
    "\n",
    "```\n",
    ".......+...\n",
    ".......~...\n",
    "......~o...\n",
    ".....~ooo..\n",
    "....~#ooo##\n",
    "...~o#ooo#.\n",
    "..~###ooo#.\n",
    "..~..oooo#.\n",
    ".~o.ooooo#.\n",
    "~#########.\n",
    "~..........\n",
    "~..........\n",
    "~..........\n",
    "```\n",
    "\n",
    "Using your scan, simulate the falling sand. How many units of sand come to rest before sand starts flowing into the abyss below?\n"
   ]
  },
  {
   "cell_type": "code",
   "execution_count": 351,
   "id": "5cb85b7f-b948-4dcf-a024-fcedde81cb8d",
   "metadata": {},
   "outputs": [
    {
     "data": {
      "text/plain": [
       "24"
      ]
     },
     "execution_count": 351,
     "metadata": {},
     "output_type": "execute_result"
    }
   ],
   "source": [
    "len([x for x in m.d.values() if x == SAND])"
   ]
  },
  {
   "cell_type": "markdown",
   "id": "33fac012-175d-42bd-b625-09ebe84e1c7c",
   "metadata": {},
   "source": [
    "Putting this all in one function:"
   ]
  },
  {
   "cell_type": "code",
   "execution_count": 352,
   "id": "cacae839-18fb-4b78-96ea-c6c29aa53a81",
   "metadata": {},
   "outputs": [],
   "source": [
    "def part1(s):\n",
    "    m = Cave(read_puzzle(s))\n",
    "    while fall_sand(m):\n",
    "        pass\n",
    "\n",
    "    print_maze(m)\n",
    "    return len([x for x in m.d.values() if x == SAND])"
   ]
  },
  {
   "cell_type": "code",
   "execution_count": 353,
   "id": "413298e3-7e28-482f-82dc-40e5f534fe97",
   "metadata": {},
   "outputs": [
    {
     "name": "stdout",
     "output_type": "stream",
     "text": [
      "......+...\n",
      "..........\n",
      "......o...\n",
      ".....ooo..\n",
      "....#ooo##\n",
      "...o#ooo#.\n",
      "..###ooo#.\n",
      "....oooo#.\n",
      ".o.ooooo#.\n",
      "#########.\n"
     ]
    },
    {
     "data": {
      "text/plain": [
       "24"
      ]
     },
     "execution_count": 353,
     "metadata": {},
     "output_type": "execute_result"
    }
   ],
   "source": [
    "part1(EXAMPLE)"
   ]
  },
  {
   "cell_type": "code",
   "execution_count": 354,
   "id": "68ee5efc-49ab-4153-8a81-1b6ee8f2b18e",
   "metadata": {},
   "outputs": [],
   "source": [
    "with open(\"input\") as f:\n",
    "    input_maze = f.read()"
   ]
  },
  {
   "cell_type": "code",
   "execution_count": 355,
   "id": "69a45580-e51b-4fda-8e1c-96f5cded3e90",
   "metadata": {},
   "outputs": [
    {
     "name": "stdout",
     "output_type": "stream",
     "text": [
      "...........................+...........................\n",
      ".......................................................\n",
      ".......................................................\n",
      ".......................................................\n",
      ".......................................................\n",
      ".......................................................\n",
      ".......................................................\n",
      ".......................................................\n",
      ".......................................................\n",
      ".......................................................\n",
      "...........................o...........................\n",
      "..........................ooo..........................\n",
      ".........................ooooo.........................\n",
      "........................#ooo#oo........................\n",
      "........................#ooo#ooo.......................\n",
      "........................#ooo#oooo......................\n",
      ".......................o#ooo#ooooo.....................\n",
      "......................###ooo#########..................\n",
      "......................#.ooooo.......#..................\n",
      ".....................o#ooooooo......#..................\n",
      "....................oo#oooooooo.....#..................\n",
      "...................ooo###############..................\n",
      "..................ooooo................................\n",
      ".................ooooooo...............................\n",
      "................ooooooooo..............................\n",
      "...............o#ooooooooo.....#.......................\n",
      "..............oo################.......................\n",
      ".............oooo......................................\n",
      "............oooooo.....................................\n",
      "...........ooo#ooo#....................................\n",
      "..........oooo#ooo#....................................\n",
      ".........ooooo#ooo#....................................\n",
      "........oooooo#ooo#....................................\n",
      ".......########ooo#########............................\n",
      ".......#......ooooo.......#............................\n",
      ".......#.....ooooooo......#............................\n",
      ".......#....ooooooooo.....#............................\n",
      ".......####################............................\n",
      ".......................................................\n",
      ".......................................................\n",
      ".......................................................\n",
      ".....oo................................................\n",
      ".#.#oooo...............................................\n",
      ".#.#ooooo..............................................\n",
      ".#.#ooooo#.............................................\n",
      ".#.#ooo#o#.............................................\n",
      ".#.#o#o#o#.............................................\n",
      ".#.#o#o#o#.............................................\n",
      ".#.#o#o#o#.............................................\n",
      ".#.#o#o#o#o............................................\n",
      ".#########oo...........................................\n",
      ".........oooo..........................................\n",
      "........oooooo.........................................\n",
      ".......oooooooo........................................\n",
      "......oooooooooo.......................................\n",
      ".#...oooooooooooo......................................\n",
      ".###########oooooo.....................................\n",
      "...........oooooooo....................................\n",
      "..........oooooooooo...................................\n",
      ".........######oooooo..................................\n",
      "..............oooooooo.................................\n",
      "......######.######oooo................................\n",
      "..................oooooo...............................\n",
      "...######.######.######oo..............................\n",
      "......................oooo.............................\n",
      "######.######.######.######............................\n",
      "...........................o...........................\n",
      "..........................ooo..........................\n",
      ".........................#####.........................\n",
      "........................o..............................\n",
      ".......................ooo.............................\n",
      "......................#####.#####......................\n",
      ".....................o.................................\n",
      "....................ooo................................\n",
      "...................#####.#####.#####...................\n",
      "..................o....................................\n",
      ".................ooo...................................\n",
      "................#####.#####.#####.#####................\n",
      "...............o.......................................\n",
      "..............ooo......................................\n",
      ".............#####.#####.#####.#####.#####.............\n",
      ".......................................................\n",
      "...........oo..........................................\n",
      ".........#ooo#.........................................\n",
      ".........#ooo#o........................................\n",
      ".........#ooo#oo.......................................\n",
      ".........#ooo#ooo......................................\n",
      ".....#...#ooo#ooo#.....................................\n",
      ".....#...#o#o#ooo#.....................................\n",
      ".....#...#o#o#ooo#.....................................\n",
      ".....#.#.#o#o#o#o#.....................................\n",
      ".....#.#.#o#o#o#o#.....................................\n",
      ".....#.#.#o#o#o#o#.....................................\n",
      ".....#############o....................................\n",
      ".................ooo...................................\n",
      "................ooooo..................................\n",
      "...............o#oooo#.................................\n",
      "..............oo#oooo#o................................\n",
      ".........########oooo###...............................\n",
      ".........#......oooooo.#...............................\n",
      ".........#.....oooooooo#...............................\n",
      ".........###############...............................\n",
      ".......................................................\n",
      ".......................oo..............................\n",
      "......................#oo#.............................\n",
      "......................#oo#.............................\n",
      "......................#oo#.............................\n",
      "......................#oo#o............................\n",
      "...............########oo###...........................\n",
      "...............#......oooo.#...........................\n",
      "...............#.....oooooo#...........................\n",
      "...............#....ooooooo#...........................\n",
      "...............#############...........................\n",
      ".......................................................\n",
      ".......................................................\n",
      ".......................................................\n",
      ".......................................................\n",
      ".......................#...oo..........................\n",
      ".......................#..ooo#.........................\n",
      ".......................#.#ooo#.........................\n",
      ".......................#.#o#o#.........................\n",
      ".......................#.#o#o#o........................\n",
      ".......................#.#o#o#oo.......................\n",
      ".......................#.#o#o#ooo......................\n",
      ".......................#.#o#o#o#oo.....................\n",
      ".......................#########ooo....................\n",
      "...............................ooooo...................\n",
      "..............................ooooooo..................\n",
      ".............................ooooooooo.................\n",
      "...........................#ooooooooooo................\n",
      "...........................############o...............\n",
      "......................................ooo..............\n",
      ".....................................ooooo.............\n",
      "....................................######o............\n",
      ".........................................ooo...........\n",
      "........................................ooooo..........\n",
      ".................................######o######.........\n",
      "......................................ooo.....o........\n",
      ".....................................ooooo...ooo.......\n",
      "..............................######o######.######.....\n",
      "...................................ooo.................\n",
      "..................................ooooo................\n",
      ".................................######o...............\n",
      "......................................ooo.oo...........\n",
      "..............................######.######oo..........\n",
      "..........................................oooo.........\n",
      "...........................######.######.######........\n",
      "...............................................o.......\n",
      "..............................................ooo......\n",
      ".............................................ooooo.....\n",
      "............................................ooooooo....\n",
      "...........................................#oooooooo..#\n",
      "...........................................############\n",
      ".......................................................\n",
      ".........................................oo............\n",
      ".....................................#..oooo...........\n",
      ".....................................#.oooooo..........\n",
      ".....................................#ooooooo#.........\n",
      ".....................................#ooooo#o#.........\n",
      ".....................................#ooooo#o#.........\n",
      ".....................................#o#ooo#o#.........\n",
      ".....................................#o#o#o#o#.........\n",
      ".....................................#o#o#o#o#.........\n",
      ".....................................#o#o#o#o#.........\n",
      ".....................................#o#o#o#o#.........\n",
      ".....................................#########.........\n"
     ]
    },
    {
     "data": {
      "text/plain": [
       "618"
      ]
     },
     "execution_count": 355,
     "metadata": {},
     "output_type": "execute_result"
    }
   ],
   "source": [
    "part1(input_maze)"
   ]
  },
  {
   "cell_type": "markdown",
   "id": "fce2120e-47e3-423c-9ba0-7e35d5814c58",
   "metadata": {},
   "source": [
    "## --- Part Two ---\n",
    "\n",
    "You realize you misread the scan. There isn't an endless void at the bottom of the scan - there's floor, and you're standing on it!\n",
    "\n",
    "You don't have time to scan the floor, so assume the floor is an infinite horizontal line with a y coordinate equal to two plus the highest y coordinate of any point in your scan.\n",
    "\n",
    "In the example above, the highest y coordinate of any point is 9, and so the floor is at y=11. (This is as if your scan contained one extra rock path like -infinity,11 -> infinity,11.) With the added floor, the example above now looks like this:\n",
    "\n",
    "```\n",
    "        ...........+........\n",
    "        ....................\n",
    "        ....................\n",
    "        ....................\n",
    "        .........#...##.....\n",
    "        .........#...#......\n",
    "        .......###...#......\n",
    "        .............#......\n",
    "        .............#......\n",
    "        .....#########......\n",
    "        ....................\n",
    "<-- etc #################### etc -->\n",
    "```\n",
    "\n",
    "To find somewhere safe to stand, you'll need to simulate falling sand until a unit of sand comes to rest at 500,0, blocking the source entirely and stopping the flow of sand into the cave. "
   ]
  },
  {
   "cell_type": "code",
   "execution_count": 387,
   "id": "4072a376-2976-412a-a1bf-23a46ea39925",
   "metadata": {},
   "outputs": [],
   "source": [
    "class Cave2(Cave):\n",
    "    bottom = None\n",
    "    \n",
    "    def __init__(self, d):\n",
    "        super().__init__(d)\n",
    "        self.bottom = self._ymax + 2\n",
    "        \n",
    "    def get(self, pos):\n",
    "        x, y = pos\n",
    "        if y >= self.bottom:\n",
    "            return ROCK\n",
    "        else:\n",
    "            return super().get(pos)\n",
    "        \n",
    "    def contains(self, pos):\n",
    "        return True\n",
    "    \n",
    "    def dimensions(self):\n",
    "        ((xmin, xmax), (ymin, ymax)) = super().dimensions()\n",
    "        # this is a bit dirty...\n",
    "        if self.bottom:\n",
    "            return ((xmin-2, xmax+2), (ymin, ymax+1))\n",
    "        else:\n",
    "            return ((xmin, xmax), (ymin, ymax))"
   ]
  },
  {
   "cell_type": "code",
   "execution_count": 398,
   "id": "4469b305-b562-4b88-b140-f18b285e057f",
   "metadata": {},
   "outputs": [],
   "source": [
    "def part2(s, show=True):\n",
    "    m = Cave2(read_puzzle(s))\n",
    "    while True:\n",
    "        p = fall_sand(m)\n",
    "        if p == START_POS:\n",
    "            break\n",
    "\n",
    "    if show:\n",
    "        print_maze(m)\n",
    "    return len([x for x in m.d.values() if x == SAND]), m"
   ]
  },
  {
   "cell_type": "markdown",
   "id": "b1054500-f2c5-4e2d-8fa8-da06d9028dcb",
   "metadata": {},
   "source": [
    "In the example above, the situation finally looks like this after 93 units of sand come to rest:\n",
    "\n",
    "```\n",
    "............o............\n",
    "...........ooo...........\n",
    "..........ooooo..........\n",
    ".........ooooooo.........\n",
    "........oo#ooo##o........\n",
    ".......ooo#ooo#ooo.......\n",
    "......oo###ooo#oooo......\n",
    ".....oooo.oooo#ooooo.....\n",
    "....oooooooooo#oooooo....\n",
    "...ooo#########ooooooo...\n",
    "..ooooo.......ooooooooo..\n",
    "#########################\n",
    "```\n",
    "\n",
    "Using your scan, simulate the falling sand until the source of the sand becomes blocked. How many units of sand come to rest?"
   ]
  },
  {
   "cell_type": "code",
   "execution_count": 407,
   "id": "97b7947b-767d-4153-8f01-af17079107f2",
   "metadata": {},
   "outputs": [
    {
     "name": "stdout",
     "output_type": "stream",
     "text": [
      "............o............\n",
      "...........ooo...........\n",
      "..........ooooo..........\n",
      ".........ooooooo.........\n",
      "........oo#ooo##o........\n",
      ".......ooo#ooo#ooo.......\n",
      "......oo###ooo#oooo......\n",
      ".....oooo.oooo#ooooo.....\n",
      "....oooooooooo#oooooo....\n",
      "...ooo#########ooooooo...\n",
      "..ooooo.......ooooooooo..\n",
      "#########################\n"
     ]
    },
    {
     "data": {
      "text/plain": [
       "(93, <__main__.Cave2 at 0x7fc4174ae760>)"
      ]
     },
     "execution_count": 407,
     "metadata": {},
     "output_type": "execute_result"
    }
   ],
   "source": [
    "part2(EXAMPLE)"
   ]
  },
  {
   "cell_type": "code",
   "execution_count": 401,
   "id": "0295e9fb-0bf5-4689-896e-21c01e34d9ff",
   "metadata": {},
   "outputs": [
    {
     "data": {
      "text/plain": [
       "(26358, <__main__.Cave2 at 0x7fc4152cc2e0>)"
      ]
     },
     "execution_count": 401,
     "metadata": {},
     "output_type": "execute_result"
    }
   ],
   "source": [
    "part2(input_maze, show=False)"
   ]
  },
  {
   "cell_type": "markdown",
   "id": "5353b7df-ee26-4ebb-a83b-ec19b38d13d8",
   "metadata": {},
   "source": [
    "## Pretty Output\n",
    "\n",
    "Let's create a \"nice\" animation using numpy and matplotlib.\n",
    "\n",
    "(This is all quick and dirty)"
   ]
  },
  {
   "cell_type": "code",
   "execution_count": 432,
   "id": "4715ebd6-ea43-4174-97dc-36597e3b9f12",
   "metadata": {},
   "outputs": [],
   "source": [
    "import numpy as np"
   ]
  },
  {
   "cell_type": "code",
   "execution_count": 435,
   "id": "66d93165-9fb4-427b-884d-4472ffef015c",
   "metadata": {},
   "outputs": [],
   "source": [
    "import matplotlib.pyplot as plt"
   ]
  },
  {
   "cell_type": "code",
   "execution_count": 493,
   "id": "36e01462-149c-410a-adaf-747de1d4e272",
   "metadata": {},
   "outputs": [],
   "source": [
    "def sand_animation(s, every=18):\n",
    "    m = Cave2(read_puzzle(s))\n",
    "    n = 0\n",
    "    frames = [dict(m.d)]\n",
    "    while True:\n",
    "        n += 1\n",
    "        p = fall_sand(m)\n",
    "        if n % every == 0:\n",
    "            # save a frame\n",
    "            frames.append(dict(m.d))\n",
    "        if p == START_POS:\n",
    "            break\n",
    "    frames.append(m.d)\n",
    "    return frames, m"
   ]
  },
  {
   "cell_type": "code",
   "execution_count": 494,
   "id": "48ad211b-13b4-4525-92a4-71337c08bfc5",
   "metadata": {},
   "outputs": [],
   "source": [
    "res, final = sand_animation(input_maze)"
   ]
  },
  {
   "cell_type": "code",
   "execution_count": 495,
   "id": "e5ea8bfe-8468-4688-9492-47fbdfbf1b1e",
   "metadata": {},
   "outputs": [],
   "source": [
    "((x0, x1), (y0, y1)) = final.dimensions()\n",
    "np_res = []\n",
    "for d in res:\n",
    "    np_m = np.zeros((x1-x0, y1-y0), dtype=int)\n",
    "    for ((x, y), val) in d.items():\n",
    "        if val == ROCK:\n",
    "            np_m[x-x0, y-y0] = 1\n",
    "        elif val == SAND:\n",
    "            np_m[x-x0, y-y0] = 2\n",
    "    np_res.append(np_m)"
   ]
  },
  {
   "cell_type": "code",
   "execution_count": 503,
   "id": "c520fe35-f543-4833-99be-8bbc48485739",
   "metadata": {},
   "outputs": [
    {
     "data": {
      "image/png": "[encoded data removed]",
      "text/plain": [
       "<Figure size 1000x600 with 1 Axes>"
      ]
     },
     "metadata": {},
     "output_type": "display_data"
    }
   ],
   "source": [
    "np_m = np_res[100]\n",
    "plt.figure(figsize=(10,6))\n",
    "plt.imshow(np_m.T, origin='upper', cmap='gnuplot', aspect='equal')\n",
    "\n",
    "#get current axes\n",
    "ax = plt.gca()\n",
    "\n",
    "#hide x-axis\n",
    "ax.get_xaxis().set_visible(False)\n",
    "\n",
    "#hide y-axis \n",
    "ax.get_yaxis().set_visible(False)"
   ]
  },
  {
   "cell_type": "code",
   "execution_count": 506,
   "id": "bda92077-fb7a-4d3e-8800-5283a813d0da",
   "metadata": {},
   "outputs": [],
   "source": [
    "from matplotlib import animation\n",
    "\n",
    "class SandAnimation:\n",
    "    def __init__(self, np_res, frames, cmap='gnuplot', figsize=(6,4)):\n",
    "        self.fig = plt.figure(figsize=figsize)\n",
    "        self.ax1 = ax1 = plt.subplot(1,1,1)\n",
    "        self.cmap = cmap\n",
    "        self.image = ax1.imshow(np_res[0].T, origin='upper', cmap=cmap, aspect='equal')\n",
    "        ax1.get_xaxis().set_visible(False)\n",
    "        ax1.get_yaxis().set_visible(False)\n",
    "        self.data = np_res\n",
    "        self.frames = frames\n",
    "\n",
    "    def init_anmimation(self):\n",
    "        self.image.set_data(self.data[0].T)\n",
    "        return self.image,\n",
    "\n",
    "    def get_frame(self, i):\n",
    "        self.image.set_data(self.data[i].T)\n",
    "        return self.image,\n",
    "    \n",
    "    def animation(self):\n",
    "        anim = animation.FuncAnimation(self.fig, self.get_frame, init_func=self.init_anmimation,\n",
    "                                       frames=self.frames, interval=50, blit=True)\n",
    "        return anim\n",
    "    \n",
    "    def save_mp4(self, filename):\n",
    "        ffwriter = animation.FFMpegWriter(fps=24, extra_args=['-vcodec', 'libx264'])\n",
    "        anim = self.animation()\n",
    "        anim.save(filename, dpi=300, writer=ffwriter)\n",
    "        plt.close()   # to prevent the last frame from showing in notebook"
   ]
  },
  {
   "cell_type": "code",
   "execution_count": 507,
   "id": "b19fdae5-9082-4b59-8662-a5e45b42a237",
   "metadata": {},
   "outputs": [
    {
     "data": {
      "image/png": "[encoded data removed]",
      "text/plain": [
       "<Figure size 600x400 with 1 Axes>"
      ]
     },
     "metadata": {},
     "output_type": "display_data"
    }
   ],
   "source": [
    "anim = SandAnimation(np_res, len(np_res))"
   ]
  },
  {
   "cell_type": "code",
   "execution_count": 508,
   "id": "b5e83650-83c1-4a2e-9f8c-96928fb7ec71",
   "metadata": {},
   "outputs": [],
   "source": [
    "anim.save_mp4(\"test.mp4\")"
   ]
  },
  {
   "cell_type": "code",
   "execution_count": null,
   "id": "3dc21eed-9405-403f-bb02-0ab3bf4b01b2",
   "metadata": {},
   "outputs": [],
   "source": []
  }
 ],
 "metadata": {
  "kernelspec": {
   "display_name": "Python 3 (ipykernel)",
   "language": "python",
   "name": "python3"
  },
  "language_info": {
   "codemirror_mode": {
    "name": "ipython",
    "version": 3
   },
   "file_extension": ".py",
   "mimetype": "text/x-python",
   "name": "python",
   "nbconvert_exporter": "python",
   "pygments_lexer": "ipython3",
   "version": "3.8.13"
  }
 },
 "nbformat": 4,
 "nbformat_minor": 5
}
