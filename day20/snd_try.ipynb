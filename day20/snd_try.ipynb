{
 "cells": [
  {
   "cell_type": "code",
   "execution_count": 180,
   "metadata": {},
   "outputs": [],
   "source": [
    "def read_file(file_name):\n",
    "    with open(file_name) as f:\n",
    "        xs = [int(line) for line in f.readlines()]\n",
    "    return xs"
   ]
  },
  {
   "cell_type": "code",
   "execution_count": 181,
   "metadata": {},
   "outputs": [],
   "source": [
    "xs = read_file(\"example\")"
   ]
  },
  {
   "cell_type": "code",
   "execution_count": 182,
   "metadata": {},
   "outputs": [],
   "source": [
    "class ListVal:\n",
    "\n",
    "    def __init__(self, val):\n",
    "        self.value = val\n",
    "        self.pre = None\n",
    "        self.succ = None\n",
    "\n",
    "    def __repr__(self) -> str:\n",
    "        return str(self.value)\n",
    "\n",
    "    @classmethod\n",
    "    def from_list(cls, xs):\n",
    "        res = []\n",
    "        pre = None\n",
    "        for x in xs:\n",
    "            lv = cls(x)\n",
    "            lv.pre = pre\n",
    "            if pre:  # beware if pre is 0\n",
    "                pre.succ = lv\n",
    "            res.append(lv)\n",
    "            pre = lv\n",
    "        res[0].pre = res[-1]\n",
    "        res[-1].succ = res[0]\n",
    "        return res\n",
    "\n",
    "    def to_list(self):\n",
    "        res = []\n",
    "        res.append(self.value)\n",
    "        succ = self.succ\n",
    "        while succ != self:\n",
    "            res.append(succ.value)\n",
    "            succ = succ.succ\n",
    "        return res\n",
    "\n",
    "    def move(self):\n",
    "        if self.value > 0:\n",
    "            for _ in range(self.value):\n",
    "                self.move_right()\n",
    "        elif self.value < 0:\n",
    "            for _ in range(-self.value):\n",
    "                self.move_left()\n",
    "\n",
    "    def move_right(self):\n",
    "        right = self.succ\n",
    "        left = self.pre\n",
    "        right_succ = right.succ\n",
    "\n",
    "        # from leftest to rightest\n",
    "        left.succ = right\n",
    "        \n",
    "        right.pre = left\n",
    "        right.succ = self\n",
    "\n",
    "        self.pre = right\n",
    "        self.succ = right_succ\n",
    "\n",
    "        right_succ.pre = self\n",
    "\n",
    "    def move_left(self):\n",
    "        left = self.pre\n",
    "        right = self.succ\n",
    "        left_pre = left.pre\n",
    "\n",
    "        # from rightest to leftest\n",
    "        right.pre = left\n",
    "\n",
    "        left.succ = right\n",
    "        left.pre = self\n",
    "        \n",
    "        self.succ = left\n",
    "        self.pre = left_pre\n",
    "\n",
    "        left_pre.succ = self\n"
   ]
  },
  {
   "cell_type": "code",
   "execution_count": 183,
   "metadata": {},
   "outputs": [],
   "source": [
    "lvs = ListVal.from_list(xs)"
   ]
  },
  {
   "cell_type": "code",
   "execution_count": 184,
   "metadata": {},
   "outputs": [
    {
     "data": {
      "text/plain": [
       "[1, 2, -3, 3, -2, 0, 4]"
      ]
     },
     "execution_count": 184,
     "metadata": {},
     "output_type": "execute_result"
    }
   ],
   "source": [
    "lvs[0].to_list()"
   ]
  },
  {
   "cell_type": "code",
   "execution_count": 185,
   "metadata": {},
   "outputs": [],
   "source": [
    "lvs[0].move_right()"
   ]
  },
  {
   "cell_type": "code",
   "execution_count": 186,
   "metadata": {},
   "outputs": [
    {
     "data": {
      "text/plain": [
       "[1, -3, 3, -2, 0, 4, 2]"
      ]
     },
     "execution_count": 186,
     "metadata": {},
     "output_type": "execute_result"
    }
   ],
   "source": [
    "lvs[0].to_list()"
   ]
  },
  {
   "cell_type": "code",
   "execution_count": 187,
   "metadata": {},
   "outputs": [],
   "source": [
    "lvs[0].move_left()"
   ]
  },
  {
   "cell_type": "code",
   "execution_count": 188,
   "metadata": {},
   "outputs": [
    {
     "data": {
      "text/plain": [
       "[1, 2, -3, 3, -2, 0, 4]"
      ]
     },
     "execution_count": 188,
     "metadata": {},
     "output_type": "execute_result"
    }
   ],
   "source": [
    "lvs[0].to_list()"
   ]
  },
  {
   "cell_type": "code",
   "execution_count": 189,
   "metadata": {},
   "outputs": [],
   "source": [
    "def mix(xs):\n",
    "    lvs = ListVal.from_list(xs)\n",
    "    for lv in lvs:\n",
    "        lv.move()\n",
    "    return lvs"
   ]
  },
  {
   "cell_type": "code",
   "execution_count": 190,
   "metadata": {},
   "outputs": [],
   "source": [
    "lvs = mix(xs)"
   ]
  },
  {
   "cell_type": "code",
   "execution_count": 191,
   "metadata": {},
   "outputs": [
    {
     "data": {
      "text/plain": [
       "[1, 2, -3, 4, 0, 3, -2]"
      ]
     },
     "execution_count": 191,
     "metadata": {},
     "output_type": "execute_result"
    }
   ],
   "source": [
    "lvs[0].to_list()"
   ]
  },
  {
   "attachments": {},
   "cell_type": "markdown",
   "metadata": {},
   "source": [
    "# Part 1"
   ]
  },
  {
   "cell_type": "code",
   "execution_count": 192,
   "metadata": {},
   "outputs": [
    {
     "data": {
      "text/plain": [
       "269"
      ]
     },
     "execution_count": 192,
     "metadata": {},
     "output_type": "execute_result"
    }
   ],
   "source": [
    "xs = read_file(\"input\")\n",
    "xs.index(0)"
   ]
  },
  {
   "cell_type": "code",
   "execution_count": 193,
   "metadata": {},
   "outputs": [],
   "source": [
    "lvs = mix(xs)"
   ]
  },
  {
   "cell_type": "code",
   "execution_count": 194,
   "metadata": {},
   "outputs": [],
   "source": [
    "ys = lvs[0].to_list()"
   ]
  },
  {
   "cell_type": "code",
   "execution_count": 195,
   "metadata": {},
   "outputs": [
    {
     "data": {
      "text/plain": [
       "4041"
      ]
     },
     "execution_count": 195,
     "metadata": {},
     "output_type": "execute_result"
    }
   ],
   "source": [
    "ys.index(0)"
   ]
  },
  {
   "cell_type": "code",
   "execution_count": 196,
   "metadata": {},
   "outputs": [
    {
     "data": {
      "text/plain": [
       "5000"
      ]
     },
     "execution_count": 196,
     "metadata": {},
     "output_type": "execute_result"
    }
   ],
   "source": [
    "len(ys)"
   ]
  },
  {
   "attachments": {},
   "cell_type": "markdown",
   "metadata": {},
   "source": [
    "To avoid more nasty one-off mistakes, I just append the mixed list\n",
    "once more, so that I can avoid wrapping around. Quick and dirty."
   ]
  },
  {
   "cell_type": "code",
   "execution_count": 197,
   "metadata": {},
   "outputs": [],
   "source": [
    "zs = ys + ys"
   ]
  },
  {
   "cell_type": "code",
   "execution_count": 198,
   "metadata": {},
   "outputs": [],
   "source": [
    "idx = zs.index(0)"
   ]
  },
  {
   "cell_type": "code",
   "execution_count": 199,
   "metadata": {},
   "outputs": [
    {
     "data": {
      "text/plain": [
       "4041"
      ]
     },
     "execution_count": 199,
     "metadata": {},
     "output_type": "execute_result"
    }
   ],
   "source": [
    "idx"
   ]
  },
  {
   "cell_type": "code",
   "execution_count": 200,
   "metadata": {},
   "outputs": [
    {
     "data": {
      "text/plain": [
       "(8906, -5711, 4033)"
      ]
     },
     "execution_count": 200,
     "metadata": {},
     "output_type": "execute_result"
    }
   ],
   "source": [
    "zs[idx + 1000], zs[idx + 2000], zs[idx + 3000] "
   ]
  },
  {
   "cell_type": "code",
   "execution_count": 201,
   "metadata": {},
   "outputs": [
    {
     "data": {
      "text/plain": [
       "7228"
      ]
     },
     "execution_count": 201,
     "metadata": {},
     "output_type": "execute_result"
    }
   ],
   "source": [
    "zs[idx + 1000] + zs[idx + 2000] + zs[idx + 3000] "
   ]
  },
  {
   "attachments": {},
   "cell_type": "markdown",
   "metadata": {},
   "source": [
    "# Part 2"
   ]
  },
  {
   "cell_type": "code",
   "execution_count": 301,
   "metadata": {},
   "outputs": [],
   "source": [
    "class ListVal2(ListVal):\n",
    "    d_key = 811589153\n",
    "\n",
    "    def move(self):\n",
    "        if self.value > 0:\n",
    "            for _ in range(self.value % (self.length-1)):\n",
    "                self.move_right()\n",
    "        elif self.value < 0:\n",
    "            for _ in range(-self.value % (self.length-1)):\n",
    "                self.move_left()\n",
    "\n",
    "    @classmethod\n",
    "    def from_list(cls, xs):\n",
    "        lvs = super().from_list(xs)\n",
    "        for lv in lvs:\n",
    "            lv.value *= cls.d_key\n",
    "\n",
    "        cls.length = len(xs)\n",
    "        return lvs\n",
    "\n",
    "def mix2(xs, rounds=1):\n",
    "    lvs = ListVal2.from_list(xs)\n",
    "    for r in range(1, rounds+1):\n",
    "        print(\"round \", r)\n",
    "        for lv in lvs:\n",
    "            lv.move()\n",
    "    return lvs"
   ]
  },
  {
   "cell_type": "code",
   "execution_count": 302,
   "metadata": {},
   "outputs": [
    {
     "data": {
      "text/plain": [
       "([811589153, 1623178306, -2434767459, 2434767459, -1623178306, 0, 3246356612],\n",
       " 7,\n",
       " 7)"
      ]
     },
     "execution_count": 302,
     "metadata": {},
     "output_type": "execute_result"
    }
   ],
   "source": [
    "xs = read_file(\"example\")\n",
    "lvs = ListVal2.from_list(xs)\n",
    "lvs[0].to_list(),len(xs), lvs[0].length"
   ]
  },
  {
   "cell_type": "code",
   "execution_count": 303,
   "metadata": {},
   "outputs": [
    {
     "data": {
      "text/plain": [
       "[0, -2434767459, 1623178306, 811589153, 3246356612, 2434767459, -1623178306]"
      ]
     },
     "execution_count": 303,
     "metadata": {},
     "output_type": "execute_result"
    }
   ],
   "source": [
    "lvs = ListVal2.from_list(xs)\n",
    "for lv in lvs[:3]:\n",
    "    lv.move()\n",
    "\n",
    "lvs[5].to_list()"
   ]
  },
  {
   "cell_type": "code",
   "execution_count": 306,
   "metadata": {},
   "outputs": [
    {
     "name": "stdout",
     "output_type": "stream",
     "text": [
      "round  1\n",
      "round  2\n",
      "round  3\n",
      "round  4\n",
      "round  5\n",
      "round  6\n",
      "round  7\n",
      "round  8\n",
      "round  9\n",
      "round  10\n"
     ]
    },
    {
     "data": {
      "text/plain": [
       "[0, -2434767459, 1623178306, 3246356612, -1623178306, 2434767459, 811589153]"
      ]
     },
     "execution_count": 306,
     "metadata": {},
     "output_type": "execute_result"
    }
   ],
   "source": [
    "lvs = mix2(xs, rounds=10)\n",
    "lvs[5].to_list()"
   ]
  },
  {
   "cell_type": "code",
   "execution_count": 307,
   "metadata": {},
   "outputs": [],
   "source": [
    "xs = read_file(\"input\")"
   ]
  },
  {
   "cell_type": "code",
   "execution_count": 308,
   "metadata": {},
   "outputs": [
    {
     "name": "stdout",
     "output_type": "stream",
     "text": [
      "round  1\n",
      "round  2\n",
      "round  3\n",
      "round  4\n",
      "round  5\n",
      "round  6\n",
      "round  7\n",
      "round  8\n",
      "round  9\n",
      "round  10\n"
     ]
    }
   ],
   "source": [
    "lvs = mix2(xs, rounds=10)"
   ]
  },
  {
   "cell_type": "code",
   "execution_count": 309,
   "metadata": {},
   "outputs": [],
   "source": [
    "ys = lvs[0].to_list()"
   ]
  },
  {
   "cell_type": "code",
   "execution_count": 310,
   "metadata": {},
   "outputs": [
    {
     "data": {
      "text/plain": [
       "4492"
      ]
     },
     "execution_count": 310,
     "metadata": {},
     "output_type": "execute_result"
    }
   ],
   "source": [
    "ys.index(0)"
   ]
  },
  {
   "cell_type": "code",
   "execution_count": 311,
   "metadata": {},
   "outputs": [
    {
     "data": {
      "text/plain": [
       "5000"
      ]
     },
     "execution_count": 311,
     "metadata": {},
     "output_type": "execute_result"
    }
   ],
   "source": [
    "len(ys)"
   ]
  },
  {
   "cell_type": "code",
   "execution_count": 312,
   "metadata": {},
   "outputs": [],
   "source": [
    "zs = ys + ys"
   ]
  },
  {
   "cell_type": "code",
   "execution_count": 313,
   "metadata": {},
   "outputs": [
    {
     "data": {
      "text/plain": [
       "4492"
      ]
     },
     "execution_count": 313,
     "metadata": {},
     "output_type": "execute_result"
    }
   ],
   "source": [
    "idx = zs.index(0)\n",
    "idx"
   ]
  },
  {
   "cell_type": "code",
   "execution_count": 314,
   "metadata": {},
   "outputs": [
    {
     "data": {
      "text/plain": [
       "4526232706281"
      ]
     },
     "execution_count": 314,
     "metadata": {},
     "output_type": "execute_result"
    }
   ],
   "source": [
    "zs[idx + 1000] + zs[idx + 2000] + zs[idx + 3000] "
   ]
  },
  {
   "cell_type": "code",
   "execution_count": null,
   "metadata": {},
   "outputs": [],
   "source": []
  }
 ],
 "metadata": {
  "kernelspec": {
   "display_name": "base",
   "language": "python",
   "name": "python3"
  },
  "language_info": {
   "codemirror_mode": {
    "name": "ipython",
    "version": 3
   },
   "file_extension": ".py",
   "mimetype": "text/x-python",
   "name": "python",
   "nbconvert_exporter": "python",
   "pygments_lexer": "ipython3",
   "version": "3.9.13"
  },
  "orig_nbformat": 4,
  "vscode": {
   "interpreter": {
    "hash": "3bb68e06d3cfdf7edd00f82dd964df66ef3c876d9c0ffb42e0fc76a1de42bb0e"
   }
  }
 },
 "nbformat": 4,
 "nbformat_minor": 2
}
