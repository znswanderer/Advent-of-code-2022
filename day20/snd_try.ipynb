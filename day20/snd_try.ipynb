{
 "cells": [
  {
   "cell_type": "code",
   "execution_count": 5,
   "metadata": {},
   "outputs": [],
   "source": [
    "from dataclasses import dataclass"
   ]
  },
  {
   "cell_type": "code",
   "execution_count": 6,
   "metadata": {},
   "outputs": [],
   "source": [
    "def read_file(file_name):\n",
    "    with open(file_name) as f:\n",
    "        xs = [int(line) for line in f.readlines()]\n",
    "    return xs"
   ]
  },
  {
   "cell_type": "code",
   "execution_count": 149,
   "metadata": {},
   "outputs": [],
   "source": [
    "xs = read_file(\"example\")"
   ]
  },
  {
   "cell_type": "code",
   "execution_count": 150,
   "metadata": {},
   "outputs": [],
   "source": [
    "class ListVal:\n",
    "\n",
    "    def __init__(self, val):\n",
    "        self.value = val\n",
    "        self.pre = None\n",
    "        self.succ = None\n",
    "\n",
    "    def __repr__(self) -> str:\n",
    "        return str(self.value)\n",
    "\n",
    "    @staticmethod\n",
    "    def from_list(xs):\n",
    "        res = []\n",
    "        pre = None\n",
    "        for x in xs:\n",
    "            lv = ListVal(x)\n",
    "            lv.pre = pre\n",
    "            if pre:  # beware if pre is 0\n",
    "                pre.succ = lv\n",
    "            res.append(lv)\n",
    "            pre = lv\n",
    "        res[0].pre = res[-1]\n",
    "        res[-1].succ = res[0]\n",
    "        return res\n",
    "\n",
    "    def to_list(self):\n",
    "        res = []\n",
    "        res.append(self.value)\n",
    "        succ = self.succ\n",
    "        while succ != self:\n",
    "            res.append(succ.value)\n",
    "            succ = succ.succ\n",
    "        return res\n",
    "\n",
    "    def move(self):\n",
    "        if self.value > 0:\n",
    "            for _ in range(self.value):\n",
    "                self.move_right()\n",
    "        elif self.value < 0:\n",
    "            for _ in range(-self.value):\n",
    "                self.move_left()\n",
    "\n",
    "    def move_right(self):\n",
    "        right = self.succ\n",
    "        left = self.pre\n",
    "        right_succ = right.succ\n",
    "\n",
    "        # from leftest to rightest\n",
    "        left.succ = right\n",
    "        \n",
    "        right.pre = left\n",
    "        right.succ = self\n",
    "\n",
    "        self.pre = right\n",
    "        self.succ = right_succ\n",
    "\n",
    "        right_succ.pre = self\n",
    "\n",
    "    def move_left(self):\n",
    "        left = self.pre\n",
    "        right = self.succ\n",
    "        left_pre = left.pre\n",
    "\n",
    "        # from rightest to leftest\n",
    "        right.pre = left\n",
    "\n",
    "        left.succ = right\n",
    "        left.pre = self\n",
    "        \n",
    "        self.succ = left\n",
    "        self.pre = left_pre\n",
    "\n",
    "        left_pre.succ = self\n"
   ]
  },
  {
   "cell_type": "code",
   "execution_count": 151,
   "metadata": {},
   "outputs": [],
   "source": [
    "lvs = ListVal.from_list(xs)"
   ]
  },
  {
   "cell_type": "code",
   "execution_count": 152,
   "metadata": {},
   "outputs": [
    {
     "data": {
      "text/plain": [
       "[1, 2, -3, 3, -2, 0, 4]"
      ]
     },
     "execution_count": 152,
     "metadata": {},
     "output_type": "execute_result"
    }
   ],
   "source": [
    "lvs[0].to_list()"
   ]
  },
  {
   "cell_type": "code",
   "execution_count": 153,
   "metadata": {},
   "outputs": [],
   "source": [
    "lvs[0].move_right()"
   ]
  },
  {
   "cell_type": "code",
   "execution_count": 154,
   "metadata": {},
   "outputs": [
    {
     "data": {
      "text/plain": [
       "[1, -3, 3, -2, 0, 4, 2]"
      ]
     },
     "execution_count": 154,
     "metadata": {},
     "output_type": "execute_result"
    }
   ],
   "source": [
    "lvs[0].to_list()"
   ]
  },
  {
   "cell_type": "code",
   "execution_count": 155,
   "metadata": {},
   "outputs": [],
   "source": [
    "lvs[0].move_left()"
   ]
  },
  {
   "cell_type": "code",
   "execution_count": 156,
   "metadata": {},
   "outputs": [
    {
     "data": {
      "text/plain": [
       "[1, 2, -3, 3, -2, 0, 4]"
      ]
     },
     "execution_count": 156,
     "metadata": {},
     "output_type": "execute_result"
    }
   ],
   "source": [
    "lvs[0].to_list()"
   ]
  },
  {
   "cell_type": "code",
   "execution_count": 157,
   "metadata": {},
   "outputs": [],
   "source": [
    "def mix(xs):\n",
    "    lvs = ListVal.from_list(xs)\n",
    "    for lv in lvs:\n",
    "        lv.move()\n",
    "    return lvs"
   ]
  },
  {
   "cell_type": "code",
   "execution_count": 158,
   "metadata": {},
   "outputs": [],
   "source": [
    "lvs = mix(xs)"
   ]
  },
  {
   "cell_type": "code",
   "execution_count": 159,
   "metadata": {},
   "outputs": [
    {
     "data": {
      "text/plain": [
       "[1, 2, -3, 4, 0, 3, -2]"
      ]
     },
     "execution_count": 159,
     "metadata": {},
     "output_type": "execute_result"
    }
   ],
   "source": [
    "lvs[0].to_list()"
   ]
  },
  {
   "attachments": {},
   "cell_type": "markdown",
   "metadata": {},
   "source": [
    "# Part 1"
   ]
  },
  {
   "cell_type": "code",
   "execution_count": 163,
   "metadata": {},
   "outputs": [
    {
     "data": {
      "text/plain": [
       "269"
      ]
     },
     "execution_count": 163,
     "metadata": {},
     "output_type": "execute_result"
    }
   ],
   "source": [
    "xs = read_file(\"input\")\n",
    "xs.index(0)"
   ]
  },
  {
   "cell_type": "code",
   "execution_count": 164,
   "metadata": {},
   "outputs": [],
   "source": [
    "lvs = mix(xs)"
   ]
  },
  {
   "cell_type": "code",
   "execution_count": 165,
   "metadata": {},
   "outputs": [],
   "source": [
    "ys = lvs[0].to_list()"
   ]
  },
  {
   "cell_type": "code",
   "execution_count": 166,
   "metadata": {},
   "outputs": [
    {
     "data": {
      "text/plain": [
       "4041"
      ]
     },
     "execution_count": 166,
     "metadata": {},
     "output_type": "execute_result"
    }
   ],
   "source": [
    "ys.index(0)"
   ]
  },
  {
   "cell_type": "code",
   "execution_count": 167,
   "metadata": {},
   "outputs": [
    {
     "data": {
      "text/plain": [
       "5000"
      ]
     },
     "execution_count": 167,
     "metadata": {},
     "output_type": "execute_result"
    }
   ],
   "source": [
    "len(ys)"
   ]
  },
  {
   "attachments": {},
   "cell_type": "markdown",
   "metadata": {},
   "source": [
    "To avoid more nasty one-off mistakes, I just append the mixed list\n",
    "once more, so that I can avoid wrapping around. Quick and dirty."
   ]
  },
  {
   "cell_type": "code",
   "execution_count": 168,
   "metadata": {},
   "outputs": [],
   "source": [
    "zs = ys + ys"
   ]
  },
  {
   "cell_type": "code",
   "execution_count": 170,
   "metadata": {},
   "outputs": [],
   "source": [
    "idx = zs.index(0)"
   ]
  },
  {
   "cell_type": "code",
   "execution_count": 171,
   "metadata": {},
   "outputs": [
    {
     "data": {
      "text/plain": [
       "4041"
      ]
     },
     "execution_count": 171,
     "metadata": {},
     "output_type": "execute_result"
    }
   ],
   "source": [
    "idx"
   ]
  },
  {
   "cell_type": "code",
   "execution_count": 173,
   "metadata": {},
   "outputs": [
    {
     "data": {
      "text/plain": [
       "(8906, -5711, 4033)"
      ]
     },
     "execution_count": 173,
     "metadata": {},
     "output_type": "execute_result"
    }
   ],
   "source": [
    "zs[idx + 1000], zs[idx + 2000], zs[idx + 3000] "
   ]
  },
  {
   "cell_type": "code",
   "execution_count": 174,
   "metadata": {},
   "outputs": [
    {
     "data": {
      "text/plain": [
       "7228"
      ]
     },
     "execution_count": 174,
     "metadata": {},
     "output_type": "execute_result"
    }
   ],
   "source": [
    "zs[idx + 1000] + zs[idx + 2000] + zs[idx + 3000] "
   ]
  },
  {
   "cell_type": "code",
   "execution_count": null,
   "metadata": {},
   "outputs": [],
   "source": []
  }
 ],
 "metadata": {
  "kernelspec": {
   "display_name": "base",
   "language": "python",
   "name": "python3"
  },
  "language_info": {
   "codemirror_mode": {
    "name": "ipython",
    "version": 3
   },
   "file_extension": ".py",
   "mimetype": "text/x-python",
   "name": "python",
   "nbconvert_exporter": "python",
   "pygments_lexer": "ipython3",
   "version": "3.9.13"
  },
  "orig_nbformat": 4,
  "vscode": {
   "interpreter": {
    "hash": "3bb68e06d3cfdf7edd00f82dd964df66ef3c876d9c0ffb42e0fc76a1de42bb0e"
   }
  }
 },
 "nbformat": 4,
 "nbformat_minor": 2
}
